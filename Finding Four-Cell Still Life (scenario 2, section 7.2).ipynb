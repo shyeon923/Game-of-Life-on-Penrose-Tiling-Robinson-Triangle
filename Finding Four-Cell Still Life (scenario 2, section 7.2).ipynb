{
 "cells": [
  {
   "cell_type": "markdown",
   "metadata": {},
   "source": [
    "# Algorithms to find all valid four-cell still life (2)\n",
    "### Scenario 2: center cell dead + four neighboring cells alive\n",
    "##### Seung Hyeon Mandy Hong"
   ]
  },
  {
   "cell_type": "code",
   "execution_count": 1,
   "metadata": {},
   "outputs": [],
   "source": [
    "#We use Combinatorics package for classification\n",
    "using Combinatorics\n",
    "using JLD2"
   ]
  },
  {
   "cell_type": "markdown",
   "metadata": {},
   "source": [
    "## Get all possible configuration"
   ]
  },
  {
   "cell_type": "code",
   "execution_count": 2,
   "metadata": {},
   "outputs": [
    {
     "data": {
      "text/plain": [
       "all_configuration4 (generic function with 1 method)"
      ]
     },
     "execution_count": 2,
     "metadata": {},
     "output_type": "execute_result"
    }
   ],
   "source": [
    "function all_configuration4(n)\n",
    "    #Choose three tiles from 10 neighboring tiles\n",
    "    scenarios=collect(combinations(1:n,4))\n",
    "\n",
    "    for i in 1:length(scenarios)\n",
    "        scenarios[i]=sort(scenarios[i])\n",
    "    end\n",
    "\n",
    "    return scenarios #scenarios is a live cell list to play Game of Life\n",
    "end"
   ]
  },
  {
   "cell_type": "markdown",
   "metadata": {},
   "source": [
    "## step 1."
   ]
  },
  {
   "cell_type": "code",
   "execution_count": 3,
   "metadata": {},
   "outputs": [
    {
     "data": {
      "text/plain": [
       "step_one4 (generic function with 1 method)"
      ]
     },
     "execution_count": 3,
     "metadata": {},
     "output_type": "execute_result"
    }
   ],
   "source": [
    "#function that get rid of configuration that has birth outside first corona\n",
    "#all_combination is all possible configurations: used combinatorics to find all\n",
    "#outside_con is configuration that share outside neighbors\n",
    "function step_one4(all_combination, outside_num) \n",
    "    #got rid on 11/27 #after_step1=[]\n",
    "    get_rid=[]\n",
    "    for i in 1:length(all_combination) #going over all possible combinations\n",
    "        base=scenarios[i]\n",
    "        for j in 1:length(outside_num) #going over outside configuration\n",
    "            compare=outside_num[j]\n",
    "            if  sum(compare .∈ [base]) == 3\n",
    "                append!(get_rid, [base])\n",
    "            end\n",
    "        end\n",
    "    end\n",
    "    after_step1=setdiff(all_combination, get_rid)\n",
    "    return after_step1\n",
    "end"
   ]
  },
  {
   "cell_type": "markdown",
   "metadata": {},
   "source": [
    "## step 2."
   ]
  },
  {
   "cell_type": "code",
   "execution_count": 4,
   "metadata": {},
   "outputs": [
    {
     "data": {
      "text/plain": [
       "pre_step_two4 (generic function with 1 method)"
      ]
     },
     "execution_count": 4,
     "metadata": {},
     "output_type": "execute_result"
    }
   ],
   "source": [
    "function pre_step_two4(inside_num)\n",
    "    step2_s=collect(combinations(inside_num,3))\n",
    "    no_0_included=[]\n",
    "    for i in 1:length(step2_s)\n",
    "        if 0 ∉ step2_s[i]\n",
    "            append!(no_0_included, [step2_s[i]])\n",
    "        end\n",
    "    end\n",
    "    step2_s=no_0_included\n",
    "    return step2_s\n",
    "end\n"
   ]
  },
  {
   "cell_type": "code",
   "execution_count": 5,
   "metadata": {},
   "outputs": [
    {
     "data": {
      "text/plain": [
       "step_two4 (generic function with 1 method)"
      ]
     },
     "execution_count": 5,
     "metadata": {},
     "output_type": "execute_result"
    }
   ],
   "source": [
    "function step_two4(total_insideG, remaining_vectors)\n",
    "    L=[]\n",
    "    #step2=pre_step_two(i_2)\n",
    "    for inside_groups in total_insideG\n",
    "        if length(inside_groups) != 4\n",
    "            #print(inside_groups)\n",
    "            step2=pre_step_two4(inside_groups)\n",
    "            #print(step2)\n",
    "            inside_group=inside_groups[2:length(inside_groups)] #0,3,4,5,6,7 but now not including 0\n",
    "            for element_index in 1:length(step2)\n",
    "                A=inside_group.∉[step2[element_index]] #6,7\n",
    "                loc=findall(x->x==1, A)\n",
    "                for h in 1:length(loc)\n",
    "                    n=inside_group[loc][h]  #n=6\n",
    "                    not=num_to_string_not[n][1:length(num_to_string_not[n])-1]\n",
    "                    for i in 1:length(not)\n",
    "                        s=step2[element_index]\n",
    "                        new_s=[]\n",
    "                        for j in 1:length(s)\n",
    "                            push!(new_s, s[j])\n",
    "                        end\n",
    "                        push!(new_s, not[i])\n",
    "                        append!(L, [sort(new_s)])\n",
    "                    end\n",
    "                end\n",
    "            end\n",
    "        else #if length(inside_groups ==4)\n",
    "            L=L\n",
    "            \n",
    "            \n",
    "        end\n",
    "    end\n",
    "    get_rid_step2=sort(unique(L))\n",
    "    after_step2=setdiff(remaining_vectors, get_rid_step2)\n",
    "    return after_step2\n",
    "end"
   ]
  },
  {
   "cell_type": "markdown",
   "metadata": {},
   "source": [
    "## 3. step 3"
   ]
  },
  {
   "cell_type": "code",
   "execution_count": 6,
   "metadata": {},
   "outputs": [
    {
     "data": {
      "text/plain": [
       "step_three4 (generic function with 1 method)"
      ]
     },
     "execution_count": 6,
     "metadata": {},
     "output_type": "execute_result"
    }
   ],
   "source": [
    "function step_three4(outside_group, remaining_vectors)\n",
    "    #L=[]\n",
    "    final=[]\n",
    "    #outside_group=total_outsideG\n",
    "    for i in 1:length(outside_group)\n",
    "        step3=collect(combinations(outside_group[i],2)) #3 vectors\n",
    "        for element_index in 1:length(step3)\n",
    "            A=outside_group[i].∉[step3[element_index]] #[1,2,10] and [1,2]\n",
    "            loc=findall(x->x==1, A)\n",
    "            n=outside_group[i][loc][1] #found 10\n",
    "            notL=num_to_string_not[n] #not_ten founded\n",
    "            inL=num_to_string[n]\n",
    "            \n",
    "            L=[]\n",
    "            for i in 1:(length(notL)-1) #will append one element that is in not_ten group, -1 bc we are not including 0\n",
    "                s=step3[element_index]\n",
    "                new_s=[]\n",
    "                for j in 1:length(s)\n",
    "                    push!(new_s, s[j])\n",
    "                end\n",
    "               \n",
    "                push!(new_s, notL[i])\n",
    "                append!(L, [sort(new_s)])\n",
    "            end\n",
    "            L=sort(unique(L))\n",
    "            #print(L,\"//\")\n",
    "            \n",
    "            New=[]\n",
    "            for i in 1:length(L)\n",
    "                s=L[i]\n",
    "                new_s=[]\n",
    "                for j in 1:length(s)\n",
    "                    push!(new_s, s[j])\n",
    "                end #got list of Ls\n",
    "                for k in 1:length(inL)\n",
    "                    new_s2=copy(new_s)\n",
    "                    if inL[k] ∉ new_s2\n",
    "                        push!(new_s2, inL[k])\n",
    "                        append!(New, [sort(new_s2)])\n",
    "                    \n",
    "                    end\n",
    "                end\n",
    "            end\n",
    "            #print(New,\"!\")\n",
    "            #New=sort(unique(New))\n",
    "            #print(New,\"!\")\n",
    "            append!(final, New)\n",
    "        end\n",
    "    end\n",
    "    get_rid_step3=sort(unique(final))\n",
    "    after_step3=setdiff(remaining_vectors, get_rid_step3)\n",
    "    return after_step3\n",
    "end\n"
   ]
  },
  {
   "cell_type": "markdown",
   "metadata": {},
   "source": [
    "## step 4."
   ]
  },
  {
   "cell_type": "code",
   "execution_count": 7,
   "metadata": {},
   "outputs": [
    {
     "data": {
      "text/plain": [
       "step_four4 (generic function with 1 method)"
      ]
     },
     "execution_count": 7,
     "metadata": {},
     "output_type": "execute_result"
    }
   ],
   "source": [
    "function step_four4(step4L, remaining_vector)\n",
    "    allSet=[]\n",
    "    for mult in 1:3\n",
    "        index=mult\n",
    "        groups=union(step4L[index][1], step4L[index][2]) #get union of two x's group\n",
    "        three_elementS=collect(combinations(groups,3))\n",
    "        #print(three_elementS)\n",
    "        L=[]\n",
    "        for h in 1:length(three_elementS)\n",
    "            for i in 1:length(step4L[index][3])-1 #will append one element that is in ten group\n",
    "                s=three_elementS[h]\n",
    "                #print(s)\n",
    "                new_s=[]\n",
    "                for j in 1:length(s)\n",
    "                    push!(new_s, s[j])\n",
    "                end\n",
    "                push!(new_s, step4L[index][3][i])\n",
    "                #print(new_s,\",\")\n",
    "                append!(L, [sort(new_s)])\n",
    "            end\n",
    "            append!(allSet, L)\n",
    "        end\n",
    "        \n",
    "    end\n",
    "    #print(allSet)\n",
    "\n",
    "    #get_rid_step4=allSet[1]\n",
    "    #print(get_rid_step4)\n",
    "    #for list in 2:length(allSet)\n",
    "    #    get_rid_step4=union(get_rid_step4,allSet[list])\n",
    "    #end\n",
    "    after_step4=setdiff(remaining_vector, unique(allSet))\n",
    "    return after_step4\n",
    "end\n"
   ]
  },
  {
   "cell_type": "markdown",
   "metadata": {},
   "source": [
    "## step 5."
   ]
  },
  {
   "cell_type": "code",
   "execution_count": 8,
   "metadata": {},
   "outputs": [
    {
     "data": {
      "text/plain": [
       "step_five4 (generic function with 1 method)"
      ]
     },
     "execution_count": 8,
     "metadata": {},
     "output_type": "execute_result"
    }
   ],
   "source": [
    "function step_five4(numD,num_notD,remaining_vector)\n",
    "    allSet=[]\n",
    "    for i in 1:length(numD) #going over all tiles\n",
    "        #0 neighbor configuration\n",
    "        noN=collect(combinations(num_notD[i][1:length(num_notD[i])-1],3))\n",
    "\n",
    "        noNL=[]\n",
    "        for conf in noN\n",
    "            a=copy(conf)\n",
    "            append!(a,i)\n",
    "            append!(noNL,[sort(a)])\n",
    "        end\n",
    "\n",
    "        # has 1N\n",
    "        oneN=collect(combinations(num_notD[i][1:length(num_notD[i])-1],2))\n",
    "\n",
    "        t=copy(numD[i])\n",
    "        deleteat!(t, findall(x->x==i,t))\n",
    "\n",
    "        L=[]\n",
    "        for conf in oneN\n",
    "            a=copy(conf)\n",
    "            append!(a,i) #add itself\n",
    "            append!(L,[sort(a)])\n",
    "        end\n",
    "\n",
    "        oneNL=[]\n",
    "        for conf in L\n",
    "            a=copy(conf)\n",
    "            for element in t\n",
    "                b=copy(a)\n",
    "                append!(b, element)\n",
    "                append!(oneNL,[sort(b)])\n",
    "            end\n",
    "        end\n",
    "        oneNL=sort(unique(oneNL))\n",
    "\n",
    "        set=union(sort(unique(oneNL)), sort(unique(noNL)))\n",
    "        append!(allSet, [sort(set)])\n",
    "    end\n",
    "\n",
    "    get_rid_step5=allSet[1]\n",
    "    #print(get_rid_step4)\n",
    "    for list in 2:length(allSet)\n",
    "        get_rid_step5=union(get_rid_step5,allSet[list])\n",
    "    end\n",
    "    #after_step4=setdiff(remaining_vector, unique(allSet))\n",
    "    get_rid_step5\n",
    "    after_step5=setdiff(remaining_vector, get_rid_step5)\n",
    "    return after_step5\n",
    "end\n",
    "    "
   ]
  },
  {
   "cell_type": "markdown",
   "metadata": {},
   "source": [
    "# 1. 10N"
   ]
  },
  {
   "cell_type": "code",
   "execution_count": 9,
   "metadata": {},
   "outputs": [
    {
     "data": {
      "text/plain": [
       "210-element Vector{Vector{Int64}}:\n",
       " [1, 2, 3, 4]\n",
       " [1, 2, 3, 5]\n",
       " [1, 2, 3, 6]\n",
       " [1, 2, 3, 7]\n",
       " [1, 2, 3, 8]\n",
       " [1, 2, 3, 9]\n",
       " [1, 2, 3, 10]\n",
       " [1, 2, 4, 5]\n",
       " [1, 2, 4, 6]\n",
       " [1, 2, 4, 7]\n",
       " [1, 2, 4, 8]\n",
       " [1, 2, 4, 9]\n",
       " [1, 2, 4, 10]\n",
       " ⋮\n",
       " [5, 6, 8, 9]\n",
       " [5, 6, 8, 10]\n",
       " [5, 6, 9, 10]\n",
       " [5, 7, 8, 9]\n",
       " [5, 7, 8, 10]\n",
       " [5, 7, 9, 10]\n",
       " [5, 8, 9, 10]\n",
       " [6, 7, 8, 9]\n",
       " [6, 7, 8, 10]\n",
       " [6, 7, 9, 10]\n",
       " [6, 8, 9, 10]\n",
       " [7, 8, 9, 10]"
      ]
     },
     "execution_count": 9,
     "metadata": {},
     "output_type": "execute_result"
    }
   ],
   "source": [
    "#Choose four tiles from 10 neighboring tiles\n",
    "scenarios=all_configuration4(10)"
   ]
  },
  {
   "cell_type": "code",
   "execution_count": 10,
   "metadata": {},
   "outputs": [
    {
     "data": {
      "text/plain": [
       "Dict{Int64, Vector{Vector{Int64}}} with 3 entries:\n",
       "  2 => [[1, 2], [4, 5, 6, 7], [8, 9, 10, 0]]\n",
       "  3 => [[3, 4, 5, 6], [1, 8, 9, 10], [2, 0]]\n",
       "  1 => [[2, 3], [7, 8, 9, 10], [4, 5, 6, 0]]"
      ]
     },
     "execution_count": 10,
     "metadata": {},
     "output_type": "execute_result"
    }
   ],
   "source": [
    "#Lists\n",
    "all10N=[1,2,3,4,5,6,7,8,9,10,0]\n",
    "all10N_no0=[1,2,3,4,5,6,7,8,9,10]\n",
    "#configuration that share outside neighbor\n",
    "tenN_outside=[[1,2,3], [1,2,4], [1,2,10], [1,3,4], [1,3,10], [1,4,10], [2,3,4], [2,3,10], [2,4,10], [3,4,10], [2,3,5], [2,4,5], [3,4,5], [4,5,6], [5,6,7], [5,6,8], [5,7,8], [6,7,8], [6,7,9], [6,8,9], [7,8,9], [8,9,10], [1,2,9], [1,9,10], [2,9,10]]\n",
    "#tenN_outside_not=[[4,10],[3,10],[3,4],[2,10],[2,4],[2,3],[1,10],[1,4],[1,3],[1,2],[4],[3],[2],[],[8],[7],[6],[5],[8],[7],[6],[],[10],[2],[1]]\n",
    "\n",
    "#inside vertex group\n",
    "i_1 = [0,1,2,3]\n",
    "i_2=[0,3,4,5,6,7]\n",
    "i_3=[0,1,7,8,9,10]\n",
    "total_insideG=[i_1, i_2, i_3]\n",
    "\n",
    "#outside vertex group\n",
    "o_1=[1,2,10]\n",
    "o_2=[2,3,4]\n",
    "#o_3=[4,5,6]\n",
    "o_4=[6,7,8]\n",
    "total_outsideG=[o_1,o_2,o_4]\n",
    "\n",
    "#each tile's neighbor as a set\n",
    "one=[1,2,3,7,8,9,10]\n",
    "two=[1,10,3,4,2]\n",
    "three=[1,2,4,5,6,7,3]\n",
    "four=[2,3,4,5,6,7]\n",
    "five=[3,4,5,6,7]\n",
    "six=[3,4,5,6,7,8]\n",
    "seven=[3,4,5,6,8,9,10,1,7]\n",
    "eight=[6,7,9,10,1,8]\n",
    "nine=[1,7,8,9,10]\n",
    "ten=[1,7,8,9,10,2]\n",
    "\n",
    "#not group\n",
    "not_one=setdiff(all10N, one)\n",
    "not_two=setdiff(all10N, two)\n",
    "not_three=setdiff(all10N, three)\n",
    "not_four=setdiff(all10N, four)\n",
    "not_five=setdiff(all10N, five)\n",
    "not_six=setdiff(all10N, six)\n",
    "not_seven=setdiff(all10N, seven)\n",
    "not_eight=setdiff(all10N, eight)\n",
    "not_nine=setdiff(all10N, nine)\n",
    "not_ten=setdiff(all10N, ten)\n",
    "\n",
    "num_to_string=Dict(1 => one, 2 => two, 3 => three, 4 => four, 5=> five, 6=>six, 7=>seven, 8=>eight, 9=>nine, 10=>ten)\n",
    "num_to_string_not=Dict(1 => not_one, 2 => not_two, 3 => not_three, 4 => not_four, 5=> not_five, 6=>not_six, 7=>not_seven, 8=>not_eight, 9=>not_nine, 10=>not_ten)\n",
    "\n",
    "#three tiles that are member of both inside and outside vertex group\n",
    "one_group1=[2,3]\n",
    "one_group2=[7,8,9,10]\n",
    "#not_one\n",
    "\n",
    "three_group1=[1,2]\n",
    "three_group2=[4,5,6,7]\n",
    "#not_three\n",
    "\n",
    "seven_group1=[3,4,5,6]\n",
    "seven_group2=[1,8,9,10]\n",
    "#not_seven\n",
    "step4_D=Dict(1=>[one_group1,one_group2,not_one], 2=>[three_group1,three_group2,not_three], 3=>[seven_group1, seven_group2, not_seven])"
   ]
  },
  {
   "cell_type": "code",
   "execution_count": 11,
   "metadata": {},
   "outputs": [
    {
     "data": {
      "text/plain": [
       "85-element Vector{Vector{Int64}}:\n",
       " [1, 2, 5, 6]\n",
       " [1, 2, 5, 7]\n",
       " [1, 2, 5, 8]\n",
       " [1, 2, 6, 7]\n",
       " [1, 2, 6, 8]\n",
       " [1, 2, 7, 8]\n",
       " [1, 3, 5, 6]\n",
       " [1, 3, 5, 7]\n",
       " [1, 3, 5, 8]\n",
       " [1, 3, 5, 9]\n",
       " [1, 3, 6, 7]\n",
       " [1, 3, 6, 8]\n",
       " [1, 3, 6, 9]\n",
       " ⋮\n",
       " [4, 5, 7, 9]\n",
       " [4, 5, 7, 10]\n",
       " [4, 5, 8, 9]\n",
       " [4, 5, 8, 10]\n",
       " [4, 5, 9, 10]\n",
       " [4, 6, 7, 10]\n",
       " [4, 6, 8, 10]\n",
       " [4, 6, 9, 10]\n",
       " [4, 7, 8, 10]\n",
       " [4, 7, 9, 10]\n",
       " [5, 6, 9, 10]\n",
       " [5, 7, 9, 10]"
      ]
     },
     "execution_count": 11,
     "metadata": {},
     "output_type": "execute_result"
    }
   ],
   "source": [
    "after_step1=step_one4(scenarios, tenN_outside)\n",
    "after_step1"
   ]
  },
  {
   "cell_type": "code",
   "execution_count": 12,
   "metadata": {},
   "outputs": [
    {
     "data": {
      "text/plain": [
       "47-element Vector{Vector{Int64}}:\n",
       " [1, 2, 5, 6]\n",
       " [1, 2, 5, 7]\n",
       " [1, 2, 5, 8]\n",
       " [1, 2, 6, 7]\n",
       " [1, 2, 6, 8]\n",
       " [1, 3, 5, 8]\n",
       " [1, 3, 5, 9]\n",
       " [1, 3, 6, 8]\n",
       " [1, 3, 6, 9]\n",
       " [1, 4, 5, 8]\n",
       " [1, 4, 5, 9]\n",
       " [1, 4, 6, 8]\n",
       " [1, 4, 6, 9]\n",
       " ⋮\n",
       " [3, 4, 8, 9]\n",
       " [3, 5, 8, 9]\n",
       " [3, 5, 8, 10]\n",
       " [3, 5, 9, 10]\n",
       " [3, 6, 8, 10]\n",
       " [3, 6, 9, 10]\n",
       " [4, 5, 8, 9]\n",
       " [4, 5, 8, 10]\n",
       " [4, 5, 9, 10]\n",
       " [4, 6, 8, 10]\n",
       " [4, 6, 9, 10]\n",
       " [5, 6, 9, 10]"
      ]
     },
     "execution_count": 12,
     "metadata": {},
     "output_type": "execute_result"
    }
   ],
   "source": [
    "after_step2=step_two4(total_insideG, after_step1)\n",
    "#[1,7,8,10] in after_step2\n",
    "after_step2"
   ]
  },
  {
   "cell_type": "code",
   "execution_count": 13,
   "metadata": {},
   "outputs": [
    {
     "data": {
      "text/plain": [
       "31-element Vector{Vector{Int64}}:\n",
       " [1, 2, 5, 6]\n",
       " [1, 3, 5, 8]\n",
       " [1, 3, 5, 9]\n",
       " [1, 3, 6, 8]\n",
       " [1, 3, 6, 9]\n",
       " [1, 4, 5, 8]\n",
       " [1, 4, 5, 9]\n",
       " [1, 4, 6, 8]\n",
       " [1, 4, 6, 9]\n",
       " [1, 5, 6, 9]\n",
       " [1, 5, 6, 10]\n",
       " [1, 7, 8, 10]\n",
       " [2, 3, 8, 9]\n",
       " ⋮\n",
       " [3, 4, 8, 9]\n",
       " [3, 5, 8, 9]\n",
       " [3, 5, 8, 10]\n",
       " [3, 5, 9, 10]\n",
       " [3, 6, 8, 10]\n",
       " [3, 6, 9, 10]\n",
       " [4, 5, 8, 9]\n",
       " [4, 5, 8, 10]\n",
       " [4, 5, 9, 10]\n",
       " [4, 6, 8, 10]\n",
       " [4, 6, 9, 10]\n",
       " [5, 6, 9, 10]"
      ]
     },
     "execution_count": 13,
     "metadata": {},
     "output_type": "execute_result"
    }
   ],
   "source": [
    "after_step3=step_three4(total_outsideG, after_step2)\n",
    "after_step3"
   ]
  },
  {
   "cell_type": "code",
   "execution_count": 14,
   "metadata": {},
   "outputs": [
    {
     "data": {
      "text/plain": [
       "12-element Vector{Vector{Int64}}:\n",
       " [1, 3, 5, 8]\n",
       " [1, 3, 5, 9]\n",
       " [1, 3, 6, 8]\n",
       " [1, 3, 6, 9]\n",
       " [1, 7, 8, 10]\n",
       " [3, 4, 6, 7]\n",
       " [4, 5, 8, 9]\n",
       " [4, 5, 8, 10]\n",
       " [4, 5, 9, 10]\n",
       " [4, 6, 8, 10]\n",
       " [4, 6, 9, 10]\n",
       " [5, 6, 9, 10]"
      ]
     },
     "execution_count": 14,
     "metadata": {},
     "output_type": "execute_result"
    }
   ],
   "source": [
    "after_step4=step_four4(step4_D, after_step3)\n",
    "after_step4"
   ]
  },
  {
   "cell_type": "code",
   "execution_count": 15,
   "metadata": {},
   "outputs": [
    {
     "data": {
      "text/plain": [
       "3-element Vector{Vector{Int64}}:\n",
       " [1, 3, 6, 8]\n",
       " [1, 7, 8, 10]\n",
       " [3, 4, 6, 7]"
      ]
     },
     "execution_count": 15,
     "metadata": {},
     "output_type": "execute_result"
    }
   ],
   "source": [
    "step_five4(num_to_string, num_to_string_not, after_step4)\n",
    "#visually checked."
   ]
  },
  {
   "cell_type": "markdown",
   "metadata": {},
   "source": [
    "# 2. 12N_1"
   ]
  },
  {
   "cell_type": "code",
   "execution_count": 16,
   "metadata": {},
   "outputs": [
    {
     "data": {
      "text/plain": [
       "495-element Vector{Vector{Int64}}:\n",
       " [1, 2, 3, 4]\n",
       " [1, 2, 3, 5]\n",
       " [1, 2, 3, 6]\n",
       " [1, 2, 3, 7]\n",
       " [1, 2, 3, 8]\n",
       " [1, 2, 3, 9]\n",
       " [1, 2, 3, 10]\n",
       " [1, 2, 3, 11]\n",
       " [1, 2, 3, 12]\n",
       " [1, 2, 4, 5]\n",
       " [1, 2, 4, 6]\n",
       " [1, 2, 4, 7]\n",
       " [1, 2, 4, 8]\n",
       " ⋮\n",
       " [7, 8, 10, 11]\n",
       " [7, 8, 10, 12]\n",
       " [7, 8, 11, 12]\n",
       " [7, 9, 10, 11]\n",
       " [7, 9, 10, 12]\n",
       " [7, 9, 11, 12]\n",
       " [7, 10, 11, 12]\n",
       " [8, 9, 10, 11]\n",
       " [8, 9, 10, 12]\n",
       " [8, 9, 11, 12]\n",
       " [8, 10, 11, 12]\n",
       " [9, 10, 11, 12]"
      ]
     },
     "execution_count": 16,
     "metadata": {},
     "output_type": "execute_result"
    }
   ],
   "source": [
    "#Choose four tiles from 12 neighboring tiles\n",
    "scenarios=all_configuration4(12)"
   ]
  },
  {
   "cell_type": "code",
   "execution_count": 17,
   "metadata": {},
   "outputs": [
    {
     "data": {
      "text/plain": [
       "Dict{Int64, Vector{Vector{Int64}}} with 3 entries:\n",
       "  2 => [[1, 2], [4, 5, 6, 7], [8, 9, 10, 11, 12, 0]]\n",
       "  3 => [[3, 4, 5, 6], [1, 8, 9, 10, 11, 12], [2, 0]]\n",
       "  1 => [[2, 3], [7, 8, 9, 10, 11, 12], [4, 5, 6, 0]]"
      ]
     },
     "execution_count": 17,
     "metadata": {},
     "output_type": "execute_result"
    }
   ],
   "source": [
    "#Lists\n",
    "all12N_1=[1,2,3,4,5,6,7,8,9,10,11,12,0]\n",
    "#configuration that share outside neighbor\n",
    "twelveN1_outside=[[1,2,10],[1,2,11],[1,2,12],[1,11,12],[2,11,12],[1,2,3],[1,2,4],[1,2,12],[1,3,4],[1,3,12],[1,4,12],[2,3,4],[2,3,12],[2,4,12],[3,4,12],[2,3,5],[2,4,5],[3,4,5],[4,5,6],[5,6,7],[5,6,8],[5,7,8],[6,7,8],[6,7,9],[6,8,9],[7,8,9],[8,9,10],[9,10,11],[10,11,12]]\n",
    "\n",
    "#inside vertex group\n",
    "i_1 = [0,1,2,3]\n",
    "i_2=[0,3,4,5,6,7]\n",
    "i_3=[0,1,7,8,9,10,11,12]\n",
    "total_insideG=[i_1, i_2, i_3]\n",
    "\n",
    "\n",
    "#outside vertex group\n",
    "o_1=[1,2,12]\n",
    "o_2=[2,3,4]\n",
    "o_3=[6,7,8]\n",
    "total_outsideG=[o_1, o_2, o_3]\n",
    "\n",
    "#each tile's neighbor as a set\n",
    "one=union(o_1,i_1,i_3)\n",
    "two=union(o_1,i_1,o_2)\n",
    "three=union(i_1,o_2,i_2)\n",
    "four=union(o_2,i_2)\n",
    "five=i_2\n",
    "six=union(o_3,i_2)\n",
    "seven=union(o_3,i_2,i_3)\n",
    "eight=union(o_3,i_3)\n",
    "nine=i_3\n",
    "ten=i_3\n",
    "eleven=i_3\n",
    "twelve=union(i_3,o_1)\n",
    "\n",
    "\n",
    "one=deleteat!(sort(one),1);two=deleteat!(sort(two),1);three=deleteat!(sort(three),1);four=deleteat!(sort(four),1);\n",
    "five=deleteat!(sort(five),1);six=deleteat!(sort(six),1);seven=deleteat!(sort(seven),1);eight=deleteat!(sort(eight),1);\n",
    "nine=deleteat!(sort(nine),1);ten=deleteat!(sort(ten),1);eleven=deleteat!(sort(eleven),1);twelve=deleteat!(sort(twelve),1);\n",
    "\n",
    "\n",
    "#not group\n",
    "not_one=setdiff(all12N_1, one)\n",
    "not_two=setdiff(all12N_1, two)\n",
    "not_three=setdiff(all12N_1, three)\n",
    "not_four=setdiff(all12N_1, four)\n",
    "not_five=setdiff(all12N_1, five)\n",
    "not_six=setdiff(all12N_1, six)\n",
    "not_seven=setdiff(all12N_1, seven)\n",
    "not_eight=setdiff(all12N_1, eight)\n",
    "not_nine=setdiff(all12N_1, nine)\n",
    "not_ten=setdiff(all12N_1, ten)\n",
    "not_eleven=setdiff(all12N_1, eleven)\n",
    "not_twelve=setdiff(all12N_1, twelve)\n",
    "\n",
    "num_to_string=Dict(1 => one, 2 => two, 3 => three, 4 => four, 5=> five, 6=>six, 7=>seven, 8=>eight, 9=>nine, 10=>ten, 11=>eleven, 12=>twelve)\n",
    "num_to_string_not=Dict(1 => not_one, 2 => not_two, 3 => not_three, 4 => not_four, 5=> not_five, 6=>not_six, 7=>not_seven, 8=>not_eight, 9=>not_nine, 10=>not_ten, 11=>not_eleven, 12=>not_twelve)\n",
    "\n",
    "#three tiles that are memeber of two inside vertex groups\n",
    "one_group1=[2,3]\n",
    "one_group2=[7,8,9,10,11,12]\n",
    "\n",
    "three_group1=[1,2]\n",
    "three_group2=[4,5,6,7]\n",
    "\n",
    "seven_group1=[3,4,5,6]\n",
    "seven_group2=[1,8,9,10,11,12]\n",
    "step4_D=Dict(1=>[one_group1,one_group2,not_one], 2=>[three_group1,three_group2,not_three], 3=>[seven_group1, seven_group2, not_seven])"
   ]
  },
  {
   "cell_type": "code",
   "execution_count": 18,
   "metadata": {},
   "outputs": [
    {
     "data": {
      "text/plain": [
       "21-element Vector{Vector{Int64}}:\n",
       " [1, 3, 6, 8]\n",
       " [1, 7, 8, 10]\n",
       " [1, 7, 8, 11]\n",
       " [1, 7, 8, 12]\n",
       " [1, 7, 9, 10]\n",
       " [1, 7, 9, 11]\n",
       " [1, 7, 9, 12]\n",
       " [1, 7, 10, 11]\n",
       " [1, 7, 10, 12]\n",
       " [1, 8, 9, 11]\n",
       " [1, 8, 9, 12]\n",
       " [1, 8, 10, 11]\n",
       " [1, 8, 10, 12]\n",
       " [1, 9, 10, 12]\n",
       " [3, 4, 6, 7]\n",
       " [7, 8, 10, 11]\n",
       " [7, 8, 10, 12]\n",
       " [7, 8, 11, 12]\n",
       " [7, 9, 10, 12]\n",
       " [7, 9, 11, 12]\n",
       " [8, 9, 11, 12]"
      ]
     },
     "execution_count": 18,
     "metadata": {},
     "output_type": "execute_result"
    }
   ],
   "source": [
    "after_step1=step_one4(scenarios, twelveN1_outside)\n",
    "after_step2=step_two4(total_insideG, after_step1)\n",
    "after_step3=step_three4(total_outsideG, after_step2)\n",
    "after_step4=step_four4(step4_D, after_step3)\n",
    "after_step5=step_five4(num_to_string, num_to_string_not, after_step4)\n",
    "\n",
    "after_step5 #checked. visually"
   ]
  },
  {
   "cell_type": "markdown",
   "metadata": {},
   "source": [
    "# 3. 12N_2"
   ]
  },
  {
   "cell_type": "code",
   "execution_count": 19,
   "metadata": {},
   "outputs": [
    {
     "data": {
      "text/plain": [
       "495-element Vector{Vector{Int64}}:\n",
       " [1, 2, 3, 4]\n",
       " [1, 2, 3, 5]\n",
       " [1, 2, 3, 6]\n",
       " [1, 2, 3, 7]\n",
       " [1, 2, 3, 8]\n",
       " [1, 2, 3, 9]\n",
       " [1, 2, 3, 10]\n",
       " [1, 2, 3, 11]\n",
       " [1, 2, 3, 12]\n",
       " [1, 2, 4, 5]\n",
       " [1, 2, 4, 6]\n",
       " [1, 2, 4, 7]\n",
       " [1, 2, 4, 8]\n",
       " ⋮\n",
       " [7, 8, 10, 11]\n",
       " [7, 8, 10, 12]\n",
       " [7, 8, 11, 12]\n",
       " [7, 9, 10, 11]\n",
       " [7, 9, 10, 12]\n",
       " [7, 9, 11, 12]\n",
       " [7, 10, 11, 12]\n",
       " [8, 9, 10, 11]\n",
       " [8, 9, 10, 12]\n",
       " [8, 9, 11, 12]\n",
       " [8, 10, 11, 12]\n",
       " [9, 10, 11, 12]"
      ]
     },
     "execution_count": 19,
     "metadata": {},
     "output_type": "execute_result"
    }
   ],
   "source": [
    "#Choose four tiles from 10 neighboring tiles\n",
    "scenarios=all_configuration4(12)"
   ]
  },
  {
   "cell_type": "code",
   "execution_count": 20,
   "metadata": {},
   "outputs": [
    {
     "data": {
      "text/plain": [
       "Dict{Int64, Vector{Vector{Int64}}} with 3 entries:\n",
       "  2 => [[1, 2, 3, 4], [6, 7], [8, 9, 10, 11, 12, 0]]\n",
       "  3 => [[5, 6], [1, 8, 9, 10, 11, 12], [2, 3, 4, 0]]\n",
       "  1 => [[2, 3, 4], [7, 8, 9, 10, 11, 12], [6, 0]]"
      ]
     },
     "execution_count": 20,
     "metadata": {},
     "output_type": "execute_result"
    }
   ],
   "source": [
    "#Lists\n",
    "all12N_2=[1,2,3,4,5,6,7,8,9,10,11,12,0]\n",
    "#configuration that share outside neighbor\n",
    "twelveN2_outside=[[1,2,11],[1,2,12],[1,11,12],[2,11,12],[1,2,3],[1,3,12],[2,3,12],[3,4,5],[4,5,6],[5,6,7],[5,6,8],[5,7,8],[6,7,8],[6,7,9],[6,8,9],[7,8,9],[8,9,10],[9,10,11],[10,11,12],[2,3,4],[4,5,7],[4,5,8],[4,6,7],[4,6,8],[4,7,8],[3,4,6],[3,5,6]]\n",
    "\n",
    "#inside vertex group\n",
    "i_1 = [0,1,2,3,4,5]\n",
    "i_2=[0,5,6,7]\n",
    "i_3=[0,1,7,8,9,10,11,12]\n",
    "total_insideG=[i_1, i_2, i_3]\n",
    "\n",
    "\n",
    "#outside vertex group\n",
    "o_1=[1,2,12]\n",
    "o_2=[4,5,6]\n",
    "o_3=[6,7,8]\n",
    "total_outsideG=[o_1, o_2, o_3]\n",
    "\n",
    "#each tile's neighbor as a set\n",
    "one=union(o_1,i_1,i_3)\n",
    "two=union(o_1,i_1)\n",
    "three=union(i_1,o_1)\n",
    "four=union(o_2,i_1)\n",
    "five=union(o_2,i_1, i_2)\n",
    "six=union(o_3,i_2,o_2)\n",
    "seven=union(o_3,i_2,i_3)\n",
    "eight=union(o_3,i_3)\n",
    "nine=i_3\n",
    "ten=i_3\n",
    "eleven=i_3\n",
    "twelve=union(i_3,o_1)\n",
    "\n",
    "\n",
    "one=deleteat!(sort(one),1);two=deleteat!(sort(two),1);three=deleteat!(sort(three),1);four=deleteat!(sort(four),1);\n",
    "five=deleteat!(sort(five),1);six=deleteat!(sort(six),1);seven=deleteat!(sort(seven),1);eight=deleteat!(sort(eight),1);\n",
    "nine=deleteat!(sort(nine),1);ten=deleteat!(sort(ten),1);eleven=deleteat!(sort(eleven),1);twelve=deleteat!(sort(twelve),1);\n",
    "\n",
    "\n",
    "#not group\n",
    "not_one=setdiff(all12N_2, one)\n",
    "not_two=setdiff(all12N_2, two)\n",
    "not_three=setdiff(all12N_2, three)\n",
    "not_four=setdiff(all12N_2, four)\n",
    "not_five=setdiff(all12N_2, five)\n",
    "not_six=setdiff(all12N_2, six)\n",
    "not_seven=setdiff(all12N_2, seven)\n",
    "not_eight=setdiff(all12N_2, eight)\n",
    "not_nine=setdiff(all12N_2, nine)\n",
    "not_ten=setdiff(all12N_2, ten)\n",
    "not_eleven=setdiff(all12N_2, eleven)\n",
    "not_twelve=setdiff(all12N_2, twelve)\n",
    "\n",
    "num_to_string=Dict(1 => one, 2 => two, 3 => three, 4 => four, 5=> five, 6=>six, 7=>seven, 8=>eight, 9=>nine, 10=>ten, 11=>eleven, 12=>twelve)\n",
    "num_to_string_not=Dict(1 => not_one, 2 => not_two, 3 => not_three, 4 => not_four, 5=> not_five, 6=>not_six, 7=>not_seven, 8=>not_eight, 9=>not_nine, 10=>not_ten, 11=>not_eleven, 12=>not_twelve)\n",
    "\n",
    "#three tiles that are memeber of two inside vertex groups\n",
    "one_group1=[2,3,4]\n",
    "one_group2=[7,8,9,10,11,12]\n",
    "\n",
    "five_group1=[1,2,3,4]\n",
    "five_group2=[6,7]\n",
    "\n",
    "seven_group1=[5,6]\n",
    "seven_group2=[1,8,9,10,11,12]\n",
    "step4_D=Dict(1=>[one_group1,one_group2,not_one], 2=>[five_group1,five_group2,not_five], 3=>[seven_group1, seven_group2, not_seven])"
   ]
  },
  {
   "cell_type": "code",
   "execution_count": 21,
   "metadata": {},
   "outputs": [
    {
     "data": {
      "text/plain": [
       "21-element Vector{Vector{Int64}}:\n",
       " [1, 2, 4, 5]\n",
       " [1, 7, 8, 10]\n",
       " [1, 7, 8, 11]\n",
       " [1, 7, 8, 12]\n",
       " [1, 7, 9, 10]\n",
       " [1, 7, 9, 11]\n",
       " [1, 7, 9, 12]\n",
       " [1, 7, 10, 11]\n",
       " [1, 7, 10, 12]\n",
       " [1, 8, 9, 11]\n",
       " [1, 8, 9, 12]\n",
       " [1, 8, 10, 11]\n",
       " [1, 8, 10, 12]\n",
       " [1, 9, 10, 12]\n",
       " [2, 5, 7, 12]\n",
       " [7, 8, 10, 11]\n",
       " [7, 8, 10, 12]\n",
       " [7, 8, 11, 12]\n",
       " [7, 9, 10, 12]\n",
       " [7, 9, 11, 12]\n",
       " [8, 9, 11, 12]"
      ]
     },
     "execution_count": 21,
     "metadata": {},
     "output_type": "execute_result"
    }
   ],
   "source": [
    "after_step1=step_one4(scenarios, twelveN2_outside)\n",
    "after_step2=step_two4(total_insideG, after_step1)\n",
    "after_step3=step_three4(total_outsideG, after_step2)\n",
    "after_step4=step_four4(step4_D, after_step3)\n",
    "after_step5=step_five4(num_to_string, num_to_string_not, after_step4)\n",
    "\n",
    "after_step5 #checked! visually\n",
    "sort(after_step5)"
   ]
  },
  {
   "cell_type": "markdown",
   "metadata": {},
   "source": [
    "# 4. 14N_1"
   ]
  },
  {
   "cell_type": "code",
   "execution_count": 22,
   "metadata": {},
   "outputs": [
    {
     "data": {
      "text/plain": [
       "1001-element Vector{Vector{Int64}}:\n",
       " [1, 2, 3, 4]\n",
       " [1, 2, 3, 5]\n",
       " [1, 2, 3, 6]\n",
       " [1, 2, 3, 7]\n",
       " [1, 2, 3, 8]\n",
       " [1, 2, 3, 9]\n",
       " [1, 2, 3, 10]\n",
       " [1, 2, 3, 11]\n",
       " [1, 2, 3, 12]\n",
       " [1, 2, 3, 13]\n",
       " [1, 2, 3, 14]\n",
       " [1, 2, 4, 5]\n",
       " [1, 2, 4, 6]\n",
       " ⋮\n",
       " [9, 10, 12, 13]\n",
       " [9, 10, 12, 14]\n",
       " [9, 10, 13, 14]\n",
       " [9, 11, 12, 13]\n",
       " [9, 11, 12, 14]\n",
       " [9, 11, 13, 14]\n",
       " [9, 12, 13, 14]\n",
       " [10, 11, 12, 13]\n",
       " [10, 11, 12, 14]\n",
       " [10, 11, 13, 14]\n",
       " [10, 12, 13, 14]\n",
       " [11, 12, 13, 14]"
      ]
     },
     "execution_count": 22,
     "metadata": {},
     "output_type": "execute_result"
    }
   ],
   "source": [
    "#Choose four tiles from 14 neighboring tiles\n",
    "scenarios=all_configuration4(14)"
   ]
  },
  {
   "cell_type": "code",
   "execution_count": 23,
   "metadata": {},
   "outputs": [
    {
     "data": {
      "text/plain": [
       "30-element Vector{Vector{Int64}}:\n",
       " [1, 2, 14]\n",
       " [4, 5, 6]\n",
       " [6, 7, 8]\n",
       " [2, 3, 4]\n",
       " [8, 9, 10]\n",
       " [9, 10, 11]\n",
       " [10, 11, 12]\n",
       " [11, 12, 13]\n",
       " [12, 13, 14]\n",
       " [14, 1, 2]\n",
       " [14, 1, 3]\n",
       " [14, 2, 3]\n",
       " [1, 2, 3]\n",
       " ⋮\n",
       " [4, 6, 7]\n",
       " [4, 6, 8]\n",
       " [4, 7, 8]\n",
       " [5, 6, 7]\n",
       " [5, 6, 8]\n",
       " [5, 7, 8]\n",
       " [6, 7, 9]\n",
       " [6, 8, 9]\n",
       " [7, 8, 9]\n",
       " [1, 2, 13]\n",
       " [1, 13, 14]\n",
       " [2, 13, 14]"
      ]
     },
     "execution_count": 23,
     "metadata": {},
     "output_type": "execute_result"
    }
   ],
   "source": [
    "s1=[[1,2,14],[4,5,6],[6,7,8],[2,3,4],[8,9,10],[9,10,11],[10,11,12],[11,12,13],[12,13,14]]\n",
    "s2=collect(combinations([14,1,2,3],3))\n",
    "s3=collect(combinations([3,4,5,6],3))\n",
    "s4=collect(combinations([4,5,6,7,8],3))\n",
    "s5=collect(combinations([6,7,8,9],3))\n",
    "s6=collect(combinations([1,2,13,14],3))\n",
    "O=union(s1,s2,s3,s4, s5, s6)"
   ]
  },
  {
   "cell_type": "code",
   "execution_count": 24,
   "metadata": {},
   "outputs": [
    {
     "data": {
      "text/plain": [
       "Dict{Int64, Vector{Vector{Int64}}} with 3 entries:\n",
       "  2 => [[1, 2, 3, 4], [6, 7], [8, 9, 10, 11, 12, 13, 14, 0]]\n",
       "  3 => [[5, 6], [1, 8, 9, 10, 11, 12, 13, 14], [2, 3, 4, 0]]\n",
       "  1 => [[2, 3, 4, 5], [7, 8, 9, 10, 11, 12, 13, 14], [6, 0]]"
      ]
     },
     "execution_count": 24,
     "metadata": {},
     "output_type": "execute_result"
    }
   ],
   "source": [
    "#Lists\n",
    "all14N_4=[1,2,3,4,5,6,7,8,9,10,11,12,13,14,0]\n",
    "#configuration that share outside neighbor\n",
    "fourteenN4_outside=O\n",
    "\n",
    "#inside vertex group\n",
    "i_1 = [0,1,2,3,4,5]\n",
    "i_2=[0,5,6,7]\n",
    "i_3=[0,1,7,8,9,10,11,12,13,14]\n",
    "total_insideG=[i_1, i_2, i_3]\n",
    "\n",
    "\n",
    "#outside vertex group\n",
    "o_1=[1,2,14]\n",
    "o_2=[4,5,6]\n",
    "o_3=[6,7,8]\n",
    "total_outsideG=[o_1, o_2, o_3]\n",
    "\n",
    "#each tile's neighbor as a set\n",
    "one=union(o_1,i_1,i_3)\n",
    "two=union(o_1,i_1)\n",
    "three=i_1\n",
    "four=union(o_2,i_1)\n",
    "five=union(o_2,i_1,i_2)\n",
    "six=union(o_2,i_2,o_3)\n",
    "seven=union(i_3,i_2,o_3)\n",
    "eight=union(i_3,o_3)\n",
    "nine=i_3\n",
    "ten=i_3\n",
    "eleven=i_3\n",
    "twelve=i_3\n",
    "thirteen=i_3\n",
    "fourteen=union(o_1,i_3)\n",
    "\n",
    "\n",
    "one=deleteat!(sort(one),1);two=deleteat!(sort(two),1);three=deleteat!(sort(three),1);four=deleteat!(sort(four),1);\n",
    "five=deleteat!(sort(five),1);six=deleteat!(sort(six),1);seven=deleteat!(sort(seven),1);eight=deleteat!(sort(eight),1);\n",
    "nine=deleteat!(sort(nine),1);ten=deleteat!(sort(ten),1);eleven=deleteat!(sort(eleven),1);twelve=deleteat!(sort(twelve),1);\n",
    "thirteen=deleteat!(sort(thirteen),1);fourteen=deleteat!(sort(fourteen),1);\n",
    "\n",
    "\n",
    "#not group\n",
    "not_one=setdiff(all14N_4, one)\n",
    "not_two=setdiff(all14N_4, two)\n",
    "not_three=setdiff(all14N_4, three)\n",
    "not_four=setdiff(all14N_4, four)\n",
    "not_five=setdiff(all14N_4, five)\n",
    "not_six=setdiff(all14N_4, six)\n",
    "not_seven=setdiff(all14N_4, seven)\n",
    "not_eight=setdiff(all14N_4, eight)\n",
    "not_nine=setdiff(all14N_4, nine)\n",
    "not_ten=setdiff(all14N_4, ten)\n",
    "not_eleven=setdiff(all14N_4, eleven)\n",
    "not_twelve=setdiff(all14N_4, twelve)\n",
    "not_thirteen=setdiff(all14N_4, thirteen)\n",
    "not_fourteen=setdiff(all14N_4, fourteen)\n",
    "\n",
    "\n",
    "num_to_string=Dict(1 => one, 2 => two, 3 => three, 4 => four, 5=> five, 6=>six, 7=>seven, 8=>eight, 9=>nine, 10=>ten, 11=>eleven, 12=>twelve, 13=>thirteen, 14=>fourteen)\n",
    "num_to_string_not=Dict(1 => not_one, 2 => not_two, 3 => not_three, 4 => not_four, 5=> not_five, 6=>not_six, 7=>not_seven, 8=>not_eight, 9=>not_nine, 10=>not_ten, 11=>not_eleven, 12=>not_twelve,13=>not_thirteen, 14=>not_fourteen)\n",
    "\n",
    "#three tiles that are memeber of two inside vertex groups\n",
    "one_group1=[2,3,4,5]\n",
    "one_group2=[7,8,9,10,11,12,13,14]\n",
    "\n",
    "five_group1=[1,2,3,4]\n",
    "five_group2=[6,7]\n",
    "\n",
    "seven_group1=[5,6]\n",
    "seven_group2=[1,8,9,10,11,12,13,14]\n",
    "step4_D=Dict(1=>[one_group1,one_group2,not_one], 2=>[five_group1,five_group2,not_five], 3=>[seven_group1, seven_group2, not_seven])"
   ]
  },
  {
   "cell_type": "code",
   "execution_count": 25,
   "metadata": {},
   "outputs": [
    {
     "data": {
      "text/plain": [
       "92-element Vector{Vector{Int64}}:\n",
       " [1, 2, 4, 5]\n",
       " [1, 7, 8, 10]\n",
       " [1, 7, 8, 11]\n",
       " [1, 7, 8, 12]\n",
       " [1, 7, 8, 13]\n",
       " [1, 7, 8, 14]\n",
       " [1, 7, 9, 10]\n",
       " [1, 7, 9, 11]\n",
       " [1, 7, 9, 12]\n",
       " [1, 7, 9, 13]\n",
       " [1, 7, 9, 14]\n",
       " [1, 7, 10, 11]\n",
       " [1, 7, 10, 12]\n",
       " ⋮\n",
       " [8, 10, 11, 14]\n",
       " [8, 10, 12, 13]\n",
       " [8, 10, 12, 14]\n",
       " [8, 10, 13, 14]\n",
       " [8, 11, 12, 14]\n",
       " [8, 11, 13, 14]\n",
       " [9, 10, 12, 13]\n",
       " [9, 10, 12, 14]\n",
       " [9, 10, 13, 14]\n",
       " [9, 11, 12, 14]\n",
       " [9, 11, 13, 14]\n",
       " [10, 11, 13, 14]"
      ]
     },
     "execution_count": 25,
     "metadata": {},
     "output_type": "execute_result"
    }
   ],
   "source": [
    "after_step1=step_one4(scenarios, fourteenN4_outside)\n",
    "after_step2=step_two4(total_insideG, after_step1)\n",
    "after_step3=step_three4(total_outsideG, after_step2)\n",
    "after_step4=step_four4(step4_D, after_step3)\n",
    "after_step5=step_five4(num_to_string, num_to_string_not, after_step4)\n",
    "\n",
    "\n",
    "save_object(\"14N2_still_life_4.jld2\",after_step5)\n",
    "after_step5 #checked! visually"
   ]
  },
  {
   "cell_type": "markdown",
   "metadata": {},
   "source": [
    "# 5. 14N_2 (3)"
   ]
  },
  {
   "cell_type": "code",
   "execution_count": 26,
   "metadata": {},
   "outputs": [
    {
     "data": {
      "text/plain": [
       "1001-element Vector{Vector{Int64}}:\n",
       " [1, 2, 3, 4]\n",
       " [1, 2, 3, 5]\n",
       " [1, 2, 3, 6]\n",
       " [1, 2, 3, 7]\n",
       " [1, 2, 3, 8]\n",
       " [1, 2, 3, 9]\n",
       " [1, 2, 3, 10]\n",
       " [1, 2, 3, 11]\n",
       " [1, 2, 3, 12]\n",
       " [1, 2, 3, 13]\n",
       " [1, 2, 3, 14]\n",
       " [1, 2, 4, 5]\n",
       " [1, 2, 4, 6]\n",
       " ⋮\n",
       " [9, 10, 12, 13]\n",
       " [9, 10, 12, 14]\n",
       " [9, 10, 13, 14]\n",
       " [9, 11, 12, 13]\n",
       " [9, 11, 12, 14]\n",
       " [9, 11, 13, 14]\n",
       " [9, 12, 13, 14]\n",
       " [10, 11, 12, 13]\n",
       " [10, 11, 12, 14]\n",
       " [10, 11, 13, 14]\n",
       " [10, 12, 13, 14]\n",
       " [11, 12, 13, 14]"
      ]
     },
     "execution_count": 26,
     "metadata": {},
     "output_type": "execute_result"
    }
   ],
   "source": [
    "#Choose four tiles from 14 neighboring tiles\n",
    "scenarios=all_configuration4(14)"
   ]
  },
  {
   "cell_type": "code",
   "execution_count": 27,
   "metadata": {},
   "outputs": [
    {
     "data": {
      "text/plain": [
       "30-element Vector{Vector{Int64}}:\n",
       " [1, 2, 14]\n",
       " [2, 3, 4]\n",
       " [10, 11, 12]\n",
       " [4, 5, 6]\n",
       " [5, 6, 7]\n",
       " [6, 7, 8]\n",
       " [7, 8, 9]\n",
       " [8, 9, 10]\n",
       " [12, 13, 14]\n",
       " [14, 1, 2]\n",
       " [14, 1, 3]\n",
       " [14, 1, 4]\n",
       " [14, 2, 3]\n",
       " ⋮\n",
       " [2, 3, 5]\n",
       " [2, 4, 5]\n",
       " [3, 4, 5]\n",
       " [9, 10, 11]\n",
       " [9, 10, 12]\n",
       " [9, 11, 12]\n",
       " [10, 11, 13]\n",
       " [10, 12, 13]\n",
       " [11, 12, 13]\n",
       " [1, 2, 13]\n",
       " [1, 13, 14]\n",
       " [2, 13, 14]"
      ]
     },
     "execution_count": 27,
     "metadata": {},
     "output_type": "execute_result"
    }
   ],
   "source": [
    "s1=[[1,2,14],[2,3,4],[10,11,12],[4,5,6],[5,6,7],[6,7,8],[7,8,9],[8,9,10],[12,13,14]]\n",
    "s2=collect(combinations([14,1,2,3,4],3))\n",
    "s3=collect(combinations([2,3,4,5],3))\n",
    "s4=collect(combinations([9,10,11,12],3))\n",
    "s5=collect(combinations([10,11,12,13],3))\n",
    "s6=collect(combinations([1,2,13,14],3))\n",
    "O=union(s1,s2,s3,s4, s5, s6)"
   ]
  },
  {
   "cell_type": "code",
   "execution_count": 28,
   "metadata": {},
   "outputs": [
    {
     "data": {
      "text/plain": [
       "Dict{Int64, Vector{Vector{Int64}}} with 3 entries:\n",
       "  2 => [[1, 2], [4, 5, 6, 7, 8, 9, 10, 11], [12, 13, 14, 0]]\n",
       "  3 => [[3, 4, 5, 6, 7, 8, 9, 10], [1, 12, 13, 14], [2, 0]]\n",
       "  1 => [[2, 3], [11, 12, 13, 14], [4, 5, 6, 7, 8, 9, 10, 0]]"
      ]
     },
     "execution_count": 28,
     "metadata": {},
     "output_type": "execute_result"
    }
   ],
   "source": [
    "#Lists\n",
    "all14N_1=[1,2,3,4,5,6,7,8,9,10,11,12,13,14,0]\n",
    "#configuration that share outside neighbor\n",
    "fourteenN1_outside=O\n",
    "\n",
    "#inside vertex group\n",
    "i_1 = [0,1,2,3]\n",
    "i_2=[0,3,4,5,6,7,8,9,10,11]\n",
    "i_3=[0,1,11,12,13,14]\n",
    "total_insideG=[i_1, i_2, i_3]\n",
    "\n",
    "\n",
    "#outside vertex group\n",
    "o_1=[1,2,14]\n",
    "o_2=[2,3,4]\n",
    "o_3=[10,11,12]\n",
    "total_outsideG=[o_1, o_2, o_3]\n",
    "\n",
    "#each tile's neighbor as a set\n",
    "one=union(o_1,i_1,i_3)\n",
    "two=union(o_1,i_1,o_2)\n",
    "three=union(i_1,o_2,i_2)\n",
    "four=union(o_2,i_2)\n",
    "five=i_2\n",
    "six=i_2\n",
    "seven=i_2\n",
    "eight=i_2\n",
    "nine=i_2\n",
    "ten=union(i_2,o_3)\n",
    "eleven=union(i_2,o_3,i_3)\n",
    "twelve=union(i_3,o_3)\n",
    "thirteen=i_3\n",
    "fourteen=union(o_1,i_3)\n",
    "\n",
    "\n",
    "one=deleteat!(sort(one),1);two=deleteat!(sort(two),1);three=deleteat!(sort(three),1);four=deleteat!(sort(four),1);\n",
    "five=deleteat!(sort(five),1);six=deleteat!(sort(six),1);seven=deleteat!(sort(seven),1);eight=deleteat!(sort(eight),1);\n",
    "nine=deleteat!(sort(nine),1);ten=deleteat!(sort(ten),1);eleven=deleteat!(sort(eleven),1);twelve=deleteat!(sort(twelve),1);\n",
    "thirteen=deleteat!(sort(thirteen),1);fourteen=deleteat!(sort(fourteen),1);\n",
    "\n",
    "\n",
    "#not group\n",
    "not_one=setdiff(all14N_1, one)\n",
    "not_two=setdiff(all14N_1, two)\n",
    "not_three=setdiff(all14N_1, three)\n",
    "not_four=setdiff(all14N_1, four)\n",
    "not_five=setdiff(all14N_1, five)\n",
    "not_six=setdiff(all14N_1, six)\n",
    "not_seven=setdiff(all14N_1, seven)\n",
    "not_eight=setdiff(all14N_1, eight)\n",
    "not_nine=setdiff(all14N_1, nine)\n",
    "not_ten=setdiff(all14N_1, ten)\n",
    "not_eleven=setdiff(all14N_1, eleven)\n",
    "not_twelve=setdiff(all14N_1, twelve)\n",
    "not_thirteen=setdiff(all14N_1, thirteen)\n",
    "not_fourteen=setdiff(all14N_1, fourteen)\n",
    "\n",
    "\n",
    "num_to_string=Dict(1 => one, 2 => two, 3 => three, 4 => four, 5=> five, 6=>six, 7=>seven, 8=>eight, 9=>nine, 10=>ten, 11=>eleven, 12=>twelve, 13=>thirteen, 14=>fourteen)\n",
    "num_to_string_not=Dict(1 => not_one, 2 => not_two, 3 => not_three, 4 => not_four, 5=> not_five, 6=>not_six, 7=>not_seven, 8=>not_eight, 9=>not_nine, 10=>not_ten, 11=>not_eleven, 12=>not_twelve,13=>not_thirteen, 14=>not_fourteen)\n",
    "\n",
    "#three tiles that are memeber of two inside vertex groups\n",
    "one_group1=[2,3]\n",
    "one_group2=[11,12,13,14]\n",
    "\n",
    "three_group1=[1,2]\n",
    "three_group2=[4,5,6,7,8,9,10,11]\n",
    "\n",
    "eleven_group1=[3,4,5,6,7,8,9,10]\n",
    "eleven_group2=[1,12,13,14]\n",
    "step4_D=Dict(1=>[one_group1,one_group2,not_one], 2=>[three_group1,three_group2,not_three], 3=>[eleven_group1, eleven_group2, not_eleven])"
   ]
  },
  {
   "cell_type": "code",
   "execution_count": 29,
   "metadata": {},
   "outputs": [
    {
     "data": {
      "text/plain": [
       "92-element Vector{Vector{Int64}}:\n",
       " [1, 3, 10, 12]\n",
       " [1, 11, 12, 14]\n",
       " [3, 4, 6, 7]\n",
       " [3, 4, 6, 8]\n",
       " [3, 4, 6, 9]\n",
       " [3, 4, 6, 10]\n",
       " [3, 4, 6, 11]\n",
       " [3, 4, 7, 8]\n",
       " [3, 4, 7, 9]\n",
       " [3, 4, 7, 10]\n",
       " [3, 4, 7, 11]\n",
       " [3, 4, 8, 9]\n",
       " [3, 4, 8, 10]\n",
       " ⋮\n",
       " [5, 7, 8, 11]\n",
       " [5, 7, 9, 10]\n",
       " [5, 7, 9, 11]\n",
       " [5, 7, 10, 11]\n",
       " [5, 8, 9, 11]\n",
       " [5, 8, 10, 11]\n",
       " [6, 7, 9, 10]\n",
       " [6, 7, 9, 11]\n",
       " [6, 7, 10, 11]\n",
       " [6, 8, 9, 11]\n",
       " [6, 8, 10, 11]\n",
       " [7, 8, 10, 11]"
      ]
     },
     "execution_count": 29,
     "metadata": {},
     "output_type": "execute_result"
    }
   ],
   "source": [
    "after_step1=step_one4(scenarios, fourteenN1_outside)\n",
    "after_step2=step_two4(total_insideG, after_step1) #error\n",
    "after_step3=step_three4(total_outsideG, after_step2)\n",
    "after_step4=step_four4(step4_D, after_step3)\n",
    "after_step5=step_five4(num_to_string, num_to_string_not, after_step4)\n",
    "\n",
    "save_object(\"14N_still_life_4.jld2\",after_step5)\n",
    "after_step5 #checked! visually"
   ]
  },
  {
   "cell_type": "markdown",
   "metadata": {},
   "source": [
    "# 6. 16N_1 (3)"
   ]
  },
  {
   "cell_type": "code",
   "execution_count": 30,
   "metadata": {},
   "outputs": [
    {
     "data": {
      "text/plain": [
       "1820-element Vector{Vector{Int64}}:\n",
       " [1, 2, 3, 4]\n",
       " [1, 2, 3, 5]\n",
       " [1, 2, 3, 6]\n",
       " [1, 2, 3, 7]\n",
       " [1, 2, 3, 8]\n",
       " [1, 2, 3, 9]\n",
       " [1, 2, 3, 10]\n",
       " [1, 2, 3, 11]\n",
       " [1, 2, 3, 12]\n",
       " [1, 2, 3, 13]\n",
       " [1, 2, 3, 14]\n",
       " [1, 2, 3, 15]\n",
       " [1, 2, 3, 16]\n",
       " ⋮\n",
       " [11, 12, 14, 15]\n",
       " [11, 12, 14, 16]\n",
       " [11, 12, 15, 16]\n",
       " [11, 13, 14, 15]\n",
       " [11, 13, 14, 16]\n",
       " [11, 13, 15, 16]\n",
       " [11, 14, 15, 16]\n",
       " [12, 13, 14, 15]\n",
       " [12, 13, 14, 16]\n",
       " [12, 13, 15, 16]\n",
       " [12, 14, 15, 16]\n",
       " [13, 14, 15, 16]"
      ]
     },
     "execution_count": 30,
     "metadata": {},
     "output_type": "execute_result"
    }
   ],
   "source": [
    "#Choose four tiles from 16 neighboring tiles\n",
    "scenarios=all_configuration4(16)"
   ]
  },
  {
   "cell_type": "code",
   "execution_count": 31,
   "metadata": {},
   "outputs": [
    {
     "data": {
      "text/plain": [
       "29-element Vector{Vector{Int64}}:\n",
       " [1, 2, 16]\n",
       " [8, 9, 10]\n",
       " [12, 13, 14]\n",
       " [2, 3, 4]\n",
       " [3, 4, 5]\n",
       " [4, 5, 6]\n",
       " [5, 6, 7]\n",
       " [6, 7, 8]\n",
       " [10, 11, 12]\n",
       " [14, 15, 16]\n",
       " [16, 1, 2]\n",
       " [16, 1, 3]\n",
       " [16, 2, 3]\n",
       " ⋮\n",
       " [8, 9, 11]\n",
       " [8, 10, 11]\n",
       " [9, 10, 11]\n",
       " [11, 12, 13]\n",
       " [11, 12, 14]\n",
       " [11, 13, 14]\n",
       " [12, 13, 15]\n",
       " [12, 14, 15]\n",
       " [13, 14, 15]\n",
       " [1, 2, 15]\n",
       " [1, 15, 16]\n",
       " [2, 15, 16]"
      ]
     },
     "execution_count": 31,
     "metadata": {},
     "output_type": "execute_result"
    }
   ],
   "source": [
    "s1=[[1,2,16],[8,9,10],[12,13,14],[2,3,4],[3,4,5],[4,5,6],[5,6,7],[6,7,8],[10,11,12],[14,15,16]]\n",
    "s2=collect(combinations([16,1,2,3],3))\n",
    "s3=collect(combinations([7,8,9,10],3))\n",
    "s4=collect(combinations([8,9,10,11],3))\n",
    "s5=collect(combinations([11,12,13,14],3))\n",
    "s6=collect(combinations([12,13,14,15],3))\n",
    "s7=collect(combinations([1,2,15,16],3))\n",
    "O=union(s1,s2,s3,s4, s5, s6, s7)"
   ]
  },
  {
   "cell_type": "code",
   "execution_count": 32,
   "metadata": {},
   "outputs": [
    {
     "data": {
      "text/plain": [
       "Dict{Int64, Vector{Vector{Int64}}} with 3 entries:\n",
       "  2 => [[1, 2, 3, 4, 5, 6, 7, 8], [10, 11, 12, 13], [14, 15, 16, 0]]\n",
       "  3 => [[9, 10, 11, 12], [1, 14, 15, 16], [2, 3, 4, 5, 6, 7, 8, 0]]\n",
       "  1 => [[2, 3, 4, 5, 6, 7, 8, 9], [13, 14, 15, 16], [10, 11, 12, 0]]"
      ]
     },
     "execution_count": 32,
     "metadata": {},
     "output_type": "execute_result"
    }
   ],
   "source": [
    "#Lists\n",
    "all16N_1=[1,2,3,4,5,6,7,8,9,10,11,12,13,14,15,16,0]\n",
    "#configuration that share outside neighbor\n",
    "sixteenN1_outside=O\n",
    "\n",
    "#inside vertex group\n",
    "i_1 = [0,1,2,3,4,5,6,7,8,9]\n",
    "i_2=[0,9,10,11,12,13]\n",
    "i_3=[0,1,13,14,15,16]\n",
    "total_insideG=[i_1, i_2, i_3]\n",
    "\n",
    "\n",
    "#outside vertex group\n",
    "o_1=[1,2,16]\n",
    "o_2=[8,9,10]\n",
    "o_3=[12,13,14]\n",
    "total_outsideG=[o_1, o_2, o_3]\n",
    "\n",
    "#each tile's neighbor as a set\n",
    "one=union(o_1,i_1,i_3)\n",
    "two=union(o_1,i_1)\n",
    "three=i_1\n",
    "four=i_1\n",
    "five=i_1\n",
    "six=i_1\n",
    "seven=i_1\n",
    "eight=union(i_1,o_2)\n",
    "nine=union(o_2,i_1,i_2)\n",
    "ten=union(o_2,i_2)\n",
    "eleven=i_2\n",
    "twelve=union(i_2,o_3)\n",
    "thirteen=union(o_3,i_3,i_2)\n",
    "fourteen=union(o_3,i_3)\n",
    "fifteen=i_3\n",
    "sixteen=union(o_1,i_3)\n",
    "\n",
    "\n",
    "\n",
    "one=deleteat!(sort(one),1);two=deleteat!(sort(two),1);three=deleteat!(sort(three),1);four=deleteat!(sort(four),1);\n",
    "five=deleteat!(sort(five),1);six=deleteat!(sort(six),1);seven=deleteat!(sort(seven),1);eight=deleteat!(sort(eight),1);\n",
    "nine=deleteat!(sort(nine),1);ten=deleteat!(sort(ten),1);eleven=deleteat!(sort(eleven),1);twelve=deleteat!(sort(twelve),1);\n",
    "thirteen=deleteat!(sort(thirteen),1);fourteen=deleteat!(sort(fourteen),1);\n",
    "fifteen=deleteat!(sort(fifteen),1);sixteen=deleteat!(sort(sixteen),1)\n",
    "\n",
    "\n",
    "#not group\n",
    "not_one=setdiff(all16N_1, one)\n",
    "not_two=setdiff(all16N_1, two)\n",
    "not_three=setdiff(all16N_1, three)\n",
    "not_four=setdiff(all16N_1, four)\n",
    "not_five=setdiff(all16N_1, five)\n",
    "not_six=setdiff(all16N_1, six)\n",
    "not_seven=setdiff(all16N_1, seven)\n",
    "not_eight=setdiff(all16N_1, eight)\n",
    "not_nine=setdiff(all16N_1, nine)\n",
    "not_ten=setdiff(all16N_1, ten)\n",
    "not_eleven=setdiff(all16N_1, eleven)\n",
    "not_twelve=setdiff(all16N_1, twelve)\n",
    "not_thirteen=setdiff(all16N_1, thirteen)\n",
    "not_fourteen=setdiff(all16N_1, fourteen)\n",
    "not_fifteen=setdiff(all16N_1, fifteen)\n",
    "not_sixteen=setdiff(all16N_1, sixteen)\n",
    "\n",
    "num_to_string=Dict(1 => one, 2 => two, 3 => three, 4 => four, 5=> five, 6=>six, 7=>seven, 8=>eight, 9=>nine, 10=>ten, 11=>eleven, 12=>twelve, 13=>thirteen, 14=>fourteen,15=>fifteen, 16=>sixteen)\n",
    "num_to_string_not=Dict(1 => not_one, 2 => not_two, 3 => not_three, 4 => not_four, 5=> not_five, 6=>not_six, 7=>not_seven, 8=>not_eight, 9=>not_nine, 10=>not_ten, 11=>not_eleven, 12=>not_twelve,13=>not_thirteen, 14=>not_fourteen,15=>not_fifteen, 16=>not_sixteen)\n",
    "\n",
    "#three tiles that are memeber of two inside vertex groups\n",
    "one_group1=[2,3,4,5,6,7,8,9]\n",
    "one_group2=[13,14,15,16]\n",
    "\n",
    "nine_group1=[1,2,3,4,5,6,7,8]\n",
    "nine_group2=[10,11,12,13]\n",
    "\n",
    "thirteen_group1=[9,10,11,12]\n",
    "thirteen_group2=[1,14,15,16]\n",
    "step4_D=Dict(1=>[one_group1,one_group2,not_one], 2=>[nine_group1,nine_group2,not_nine], 3=>[thirteen_group1, thirteen_group2, not_thirteen])"
   ]
  },
  {
   "cell_type": "code",
   "execution_count": 33,
   "metadata": {},
   "outputs": [
    {
     "data": {
      "text/plain": [
       "95-element Vector{Vector{Int64}}:\n",
       " [1, 2, 4, 5]\n",
       " [1, 2, 4, 6]\n",
       " [1, 2, 4, 7]\n",
       " [1, 2, 4, 8]\n",
       " [1, 2, 4, 9]\n",
       " [1, 2, 5, 6]\n",
       " [1, 2, 5, 7]\n",
       " [1, 2, 5, 8]\n",
       " [1, 2, 5, 9]\n",
       " [1, 2, 6, 7]\n",
       " [1, 2, 6, 8]\n",
       " [1, 2, 6, 9]\n",
       " [1, 2, 7, 8]\n",
       " ⋮\n",
       " [3, 5, 7, 8]\n",
       " [3, 5, 7, 9]\n",
       " [3, 5, 8, 9]\n",
       " [3, 6, 7, 9]\n",
       " [3, 6, 8, 9]\n",
       " [4, 5, 7, 8]\n",
       " [4, 5, 7, 9]\n",
       " [4, 5, 8, 9]\n",
       " [4, 6, 7, 9]\n",
       " [4, 6, 8, 9]\n",
       " [5, 6, 8, 9]\n",
       " [9, 10, 12, 13]"
      ]
     },
     "execution_count": 33,
     "metadata": {},
     "output_type": "execute_result"
    }
   ],
   "source": [
    "after_step1=step_one4(scenarios, sixteenN1_outside)\n",
    "after_step2=step_two4(total_insideG, after_step1)\n",
    "after_step3=step_three4(total_outsideG, after_step2)\n",
    "after_step4=step_four4(step4_D, after_step3)\n",
    "after_step5=step_five4(num_to_string, num_to_string_not, after_step4)\n",
    "\n",
    "\n",
    "save_object(\"16N1_still_life_4.jld2\",after_step5)\n",
    "after_step5 #checked! visually"
   ]
  },
  {
   "cell_type": "markdown",
   "metadata": {},
   "source": [
    "# 7. 16N_2"
   ]
  },
  {
   "cell_type": "code",
   "execution_count": 34,
   "metadata": {},
   "outputs": [
    {
     "data": {
      "text/plain": [
       "1820-element Vector{Vector{Int64}}:\n",
       " [1, 2, 3, 4]\n",
       " [1, 2, 3, 5]\n",
       " [1, 2, 3, 6]\n",
       " [1, 2, 3, 7]\n",
       " [1, 2, 3, 8]\n",
       " [1, 2, 3, 9]\n",
       " [1, 2, 3, 10]\n",
       " [1, 2, 3, 11]\n",
       " [1, 2, 3, 12]\n",
       " [1, 2, 3, 13]\n",
       " [1, 2, 3, 14]\n",
       " [1, 2, 3, 15]\n",
       " [1, 2, 3, 16]\n",
       " ⋮\n",
       " [11, 12, 14, 15]\n",
       " [11, 12, 14, 16]\n",
       " [11, 12, 15, 16]\n",
       " [11, 13, 14, 15]\n",
       " [11, 13, 14, 16]\n",
       " [11, 13, 15, 16]\n",
       " [11, 14, 15, 16]\n",
       " [12, 13, 14, 15]\n",
       " [12, 13, 14, 16]\n",
       " [12, 13, 15, 16]\n",
       " [12, 14, 15, 16]\n",
       " [13, 14, 15, 16]"
      ]
     },
     "execution_count": 34,
     "metadata": {},
     "output_type": "execute_result"
    }
   ],
   "source": [
    "#Choose four tiles from 16 neighboring tiles\n",
    "scenarios=all_configuration4(16)"
   ]
  },
  {
   "cell_type": "code",
   "execution_count": 35,
   "metadata": {},
   "outputs": [
    {
     "data": {
      "text/plain": [
       "32-element Vector{Vector{Int64}}:\n",
       " [1, 2, 16]\n",
       " [8, 9, 10]\n",
       " [10, 11, 12]\n",
       " [2, 3, 4]\n",
       " [3, 4, 5]\n",
       " [4, 5, 6]\n",
       " [5, 6, 7]\n",
       " [6, 7, 8]\n",
       " [12, 13, 14]\n",
       " [13, 14, 15]\n",
       " [14, 15, 16]\n",
       " [16, 1, 2]\n",
       " [16, 1, 3]\n",
       " ⋮\n",
       " [8, 10, 11]\n",
       " [8, 10, 12]\n",
       " [8, 11, 12]\n",
       " [9, 10, 11]\n",
       " [9, 10, 12]\n",
       " [9, 11, 12]\n",
       " [10, 11, 13]\n",
       " [10, 12, 13]\n",
       " [11, 12, 13]\n",
       " [1, 2, 15]\n",
       " [1, 15, 16]\n",
       " [2, 15, 16]"
      ]
     },
     "execution_count": 35,
     "metadata": {},
     "output_type": "execute_result"
    }
   ],
   "source": [
    "s1=[[1,2,16],[8,9,10],[10,11,12],[2,3,4],[3,4,5],[4,5,6],[5,6,7],[6,7,8],[12,13,14],[13,14,15],[14,15,16]]\n",
    "s2=collect(combinations([16,1,2,3],3))\n",
    "s3=collect(combinations([7,8,9,10],3))\n",
    "s4=collect(combinations([8,9,10,11,12],3))\n",
    "s5=collect(combinations([10,11,12,13],3))\n",
    "s6=collect(combinations([1,2,15,16],3))\n",
    "O=union(s1,s2,s3,s4, s5, s6)"
   ]
  },
  {
   "cell_type": "code",
   "execution_count": 36,
   "metadata": {},
   "outputs": [
    {
     "data": {
      "text/plain": [
       "Dict{Int64, Vector{Vector{Int64}}} with 3 entries:\n",
       "  2 => [[1, 2, 3, 4, 5, 6, 7, 8], [10, 11], [12, 13, 14, 15, 16, 0]]\n",
       "  3 => [[9, 10], [1, 12, 13, 14, 15, 16], [2, 3, 4, 5, 6, 7, 8, 0]]\n",
       "  1 => [[2, 3, 4, 5, 6, 7, 8, 9], [11, 12, 13, 14, 15, 16], [10, 0]]"
      ]
     },
     "execution_count": 36,
     "metadata": {},
     "output_type": "execute_result"
    }
   ],
   "source": [
    "#Lists\n",
    "all16N_4=[1,2,3,4,5,6,7,8,9,10,11,12,13,14,15,16,0]\n",
    "#configuration that share outside neighbor\n",
    "sixteenN4_outside=O\n",
    "\n",
    "#inside vertex group\n",
    "i_1 = [0,1,2,3,4,5,6,7,8,9]\n",
    "i_2=[0,9,10,11]\n",
    "i_3=[0,1,11,12,13,14,15,16]\n",
    "total_insideG=[i_1, i_2, i_3]\n",
    "\n",
    "\n",
    "#outside vertex group\n",
    "o_1=[1,2,16]\n",
    "o_2=[8,9,10]\n",
    "o_3=[10,11,12]\n",
    "total_outsideG=[o_1, o_2, o_3]\n",
    "\n",
    "#each tile's neighbor as a set\n",
    "one=union(o_1,i_1,i_3)\n",
    "two=union(o_1,i_1)\n",
    "three=i_1\n",
    "four=i_1\n",
    "five=i_1\n",
    "six=i_1\n",
    "seven=i_1\n",
    "eight=union(i_1,o_2)\n",
    "nine=union(o_2,i_1,i_2)\n",
    "ten=union(o_2,i_2,o_3)\n",
    "eleven=union(i_2, i_3, o_3)\n",
    "twelve=union(i_3,o_3)\n",
    "thirteen=i_3\n",
    "fourteen=i_3\n",
    "fifteen=i_3\n",
    "sixteen=union(o_1,i_3)\n",
    "\n",
    "\n",
    "\n",
    "one=deleteat!(sort(one),1);two=deleteat!(sort(two),1);three=deleteat!(sort(three),1);four=deleteat!(sort(four),1);\n",
    "five=deleteat!(sort(five),1);six=deleteat!(sort(six),1);seven=deleteat!(sort(seven),1);eight=deleteat!(sort(eight),1);\n",
    "nine=deleteat!(sort(nine),1);ten=deleteat!(sort(ten),1);eleven=deleteat!(sort(eleven),1);twelve=deleteat!(sort(twelve),1);\n",
    "thirteen=deleteat!(sort(thirteen),1);fourteen=deleteat!(sort(fourteen),1);\n",
    "fifteen=deleteat!(sort(fifteen),1);sixteen=deleteat!(sort(sixteen),1)\n",
    "\n",
    "\n",
    "#not group\n",
    "not_one=setdiff(all16N_4, one)\n",
    "not_two=setdiff(all16N_4, two)\n",
    "not_three=setdiff(all16N_4, three)\n",
    "not_four=setdiff(all16N_4, four)\n",
    "not_five=setdiff(all16N_4, five)\n",
    "not_six=setdiff(all16N_4, six)\n",
    "not_seven=setdiff(all16N_4, seven)\n",
    "not_eight=setdiff(all16N_4, eight)\n",
    "not_nine=setdiff(all16N_4, nine)\n",
    "not_ten=setdiff(all16N_4, ten)\n",
    "not_eleven=setdiff(all16N_4, eleven)\n",
    "not_twelve=setdiff(all16N_4, twelve)\n",
    "not_thirteen=setdiff(all16N_4, thirteen)\n",
    "not_fourteen=setdiff(all16N_4, fourteen)\n",
    "not_fifteen=setdiff(all16N_4, fifteen)\n",
    "not_sixteen=setdiff(all16N_4, sixteen)\n",
    "\n",
    "num_to_string=Dict(1 => one, 2 => two, 3 => three, 4 => four, 5=> five, 6=>six, 7=>seven, 8=>eight, 9=>nine, 10=>ten, 11=>eleven, 12=>twelve, 13=>thirteen, 14=>fourteen,15=>fifteen, 16=>sixteen)\n",
    "num_to_string_not=Dict(1 => not_one, 2 => not_two, 3 => not_three, 4 => not_four, 5=> not_five, 6=>not_six, 7=>not_seven, 8=>not_eight, 9=>not_nine, 10=>not_ten, 11=>not_eleven, 12=>not_twelve,13=>not_thirteen, 14=>not_fourteen,15=>not_fifteen, 16=>not_sixteen)\n",
    "\n",
    "#three tiles that are memeber of two inside vertex groups\n",
    "one_group1=[2,3,4,5,6,7,8,9]\n",
    "one_group2=[11,12,13,14,15,16]\n",
    "\n",
    "nine_group1=[1,2,3,4,5,6,7,8]\n",
    "nine_group2=[10,11]\n",
    "\n",
    "eleven_group1=[9,10]\n",
    "eleven_group2=[1,12,13,14,15,16]\n",
    "step4_D=Dict(1=>[one_group1,one_group2,not_one], 2=>[nine_group1,nine_group2,not_nine], 3=>[eleven_group1, eleven_group2, not_eleven])"
   ]
  },
  {
   "cell_type": "code",
   "execution_count": 37,
   "metadata": {},
   "outputs": [
    {
     "data": {
      "text/plain": [
       "110-element Vector{Vector{Int64}}:\n",
       " [1, 2, 4, 5]\n",
       " [1, 2, 4, 6]\n",
       " [1, 2, 4, 7]\n",
       " [1, 2, 4, 8]\n",
       " [1, 2, 4, 9]\n",
       " [1, 2, 5, 6]\n",
       " [1, 2, 5, 7]\n",
       " [1, 2, 5, 8]\n",
       " [1, 2, 5, 9]\n",
       " [1, 2, 6, 7]\n",
       " [1, 2, 6, 8]\n",
       " [1, 2, 6, 9]\n",
       " [1, 2, 7, 8]\n",
       " ⋮\n",
       " [4, 5, 7, 8]\n",
       " [4, 5, 7, 9]\n",
       " [4, 5, 8, 9]\n",
       " [4, 6, 7, 9]\n",
       " [4, 6, 8, 9]\n",
       " [5, 6, 8, 9]\n",
       " [11, 12, 14, 15]\n",
       " [11, 12, 14, 16]\n",
       " [11, 12, 15, 16]\n",
       " [11, 13, 14, 16]\n",
       " [11, 13, 15, 16]\n",
       " [12, 13, 15, 16]"
      ]
     },
     "execution_count": 37,
     "metadata": {},
     "output_type": "execute_result"
    }
   ],
   "source": [
    "after_step1=step_one4(scenarios, sixteenN4_outside)\n",
    "after_step2=step_two4(total_insideG, after_step1)\n",
    "after_step3=step_three4(total_outsideG, after_step2)\n",
    "after_step4=step_four4(step4_D, after_step3)\n",
    "after_step5=step_five4(num_to_string, num_to_string_not, after_step4)\n",
    "\n",
    "save_object(\"16N2_still_life_4.jld2\",after_step5)\n",
    "after_step5 #checked! visually"
   ]
  },
  {
   "cell_type": "markdown",
   "metadata": {},
   "source": [
    "# 8. 18N_1"
   ]
  },
  {
   "cell_type": "code",
   "execution_count": 38,
   "metadata": {},
   "outputs": [
    {
     "data": {
      "text/plain": [
       "3060-element Vector{Vector{Int64}}:\n",
       " [1, 2, 3, 4]\n",
       " [1, 2, 3, 5]\n",
       " [1, 2, 3, 6]\n",
       " [1, 2, 3, 7]\n",
       " [1, 2, 3, 8]\n",
       " [1, 2, 3, 9]\n",
       " [1, 2, 3, 10]\n",
       " [1, 2, 3, 11]\n",
       " [1, 2, 3, 12]\n",
       " [1, 2, 3, 13]\n",
       " [1, 2, 3, 14]\n",
       " [1, 2, 3, 15]\n",
       " [1, 2, 3, 16]\n",
       " ⋮\n",
       " [13, 14, 16, 17]\n",
       " [13, 14, 16, 18]\n",
       " [13, 14, 17, 18]\n",
       " [13, 15, 16, 17]\n",
       " [13, 15, 16, 18]\n",
       " [13, 15, 17, 18]\n",
       " [13, 16, 17, 18]\n",
       " [14, 15, 16, 17]\n",
       " [14, 15, 16, 18]\n",
       " [14, 15, 17, 18]\n",
       " [14, 16, 17, 18]\n",
       " [15, 16, 17, 18]"
      ]
     },
     "execution_count": 38,
     "metadata": {},
     "output_type": "execute_result"
    }
   ],
   "source": [
    "#Choose four tiles from 18 neighboring tiles\n",
    "scenarios=all_configuration4(18)"
   ]
  },
  {
   "cell_type": "code",
   "execution_count": 39,
   "metadata": {},
   "outputs": [
    {
     "data": {
      "text/plain": [
       "32-element Vector{Vector{Int64}}:\n",
       " [1, 2, 18]\n",
       " [8, 9, 10]\n",
       " [10, 11, 12]\n",
       " [2, 3, 4]\n",
       " [3, 4, 5]\n",
       " [4, 5, 6]\n",
       " [5, 6, 7]\n",
       " [6, 7, 8]\n",
       " [12, 13, 14]\n",
       " [13, 14, 15]\n",
       " [14, 15, 16]\n",
       " [15, 16, 17]\n",
       " [16, 17, 18]\n",
       " ⋮\n",
       " [7, 9, 10]\n",
       " [8, 9, 11]\n",
       " [8, 9, 12]\n",
       " [8, 10, 11]\n",
       " [8, 10, 12]\n",
       " [8, 11, 12]\n",
       " [9, 10, 11]\n",
       " [9, 10, 12]\n",
       " [9, 11, 12]\n",
       " [10, 11, 13]\n",
       " [10, 12, 13]\n",
       " [11, 12, 13]"
      ]
     },
     "execution_count": 39,
     "metadata": {},
     "output_type": "execute_result"
    }
   ],
   "source": [
    "s1=[[1,2,18],[8,9,10],[10,11,12],[2,3,4],[3,4,5],[4,5,6],[5,6,7],[6,7,8],[12,13,14],[13,14,15],[14,15,16],[15,16,17],[16,17,18],[1,17,18]]\n",
    "s2=collect(combinations([18,1,2,3],3))\n",
    "s3=collect(combinations([7,8,9,10],3))\n",
    "s4=collect(combinations([8,9,10,11,12],3))\n",
    "s5=collect(combinations([10,11,12,13],3))\n",
    "O=union(s1,s2,s3,s4, s5)"
   ]
  },
  {
   "cell_type": "code",
   "execution_count": 40,
   "metadata": {},
   "outputs": [
    {
     "data": {
      "text/plain": [
       "Dict{Int64, Vector{Vector{Int64}}} with 3 entries:\n",
       "  2 => [[1, 2, 3, 4, 5, 6, 7, 8], [10, 11], [12, 13, 14, 15, 16, 17, 18, 0]]\n",
       "  3 => [[9, 10], [1, 12, 13, 14, 15, 16, 17, 18], [2, 3, 4, 5, 6, 7, 8, 0]]\n",
       "  1 => [[2, 3, 4, 5, 6, 7, 8, 9], [11, 12, 13, 14, 15, 16, 17, 18], [10, 0]]"
      ]
     },
     "execution_count": 40,
     "metadata": {},
     "output_type": "execute_result"
    }
   ],
   "source": [
    "#Lists\n",
    "all18N_1=[1,2,3,4,5,6,7,8,9,10,11,12,13,14,15,16,17,18, 0]\n",
    "#configuration that share outside neighbor\n",
    "eighteenN1_outside=O\n",
    "\n",
    "#inside vertex group #this should be changed!! it is inside vertex group, naming is wrong, code is right\n",
    "i_1 = [0,1,2,3,4,5,6,7,8,9]\n",
    "i_2=[0,9,10,11]\n",
    "i_3=[0,1,11,12,13,14,15,16,17,18]\n",
    "total_insideG=[i_1, i_2, i_3]\n",
    "\n",
    "\n",
    "#outside vertex group\n",
    "o_1=[1,2,18]\n",
    "o_2=[8,9,10]\n",
    "o_3=[10,11,12]\n",
    "#i_4=[6,7,8]\n",
    "total_outsideG=[o_1, o_2, o_3]\n",
    "\n",
    "#each tile's neighbor as a set\n",
    "one=union(o_1,i_1,i_3)\n",
    "two=union(o_1,i_1)\n",
    "three=i_1\n",
    "four=i_1\n",
    "five=i_1\n",
    "six=i_1\n",
    "seven=i_1\n",
    "eight=union(o_2,i_1)\n",
    "nine=union(o_2,i_1,i_2)\n",
    "ten=union(o_2,i_2,o_3)\n",
    "eleven=union(o_3,i_2,i_3)\n",
    "twelve=union(o_3,i_3)\n",
    "thirteen=i_3\n",
    "fourteen=i_3\n",
    "fifteen=i_3\n",
    "sixteen=i_3\n",
    "seventeen=i_3\n",
    "eighteen=union(i_3,o_1)\n",
    "\n",
    "one=deleteat!(sort(one),1);two=deleteat!(sort(two),1);three=deleteat!(sort(three),1);four=deleteat!(sort(four),1);\n",
    "five=deleteat!(sort(five),1);six=deleteat!(sort(six),1);seven=deleteat!(sort(seven),1);eight=deleteat!(sort(eight),1);\n",
    "nine=deleteat!(sort(nine),1);ten=deleteat!(sort(ten),1);eleven=deleteat!(sort(eleven),1);twelve=deleteat!(sort(twelve),1);\n",
    "thirteen=deleteat!(sort(thirteen),1);fourteen=deleteat!(sort(fourteen),1);\n",
    "fifteen=deleteat!(sort(fifteen),1);sixteen=deleteat!(sort(sixteen),1);\n",
    "seventeen=deleteat!(sort(seventeen),1);eighteen=deleteat!(sort(eighteen),1)\n",
    "\n",
    "\n",
    "#not group\n",
    "not_one=setdiff(all18N_1, one)\n",
    "not_two=setdiff(all18N_1, two)\n",
    "not_three=setdiff(all18N_1, three)\n",
    "not_four=setdiff(all18N_1, four)\n",
    "not_five=setdiff(all18N_1, five)\n",
    "not_six=setdiff(all18N_1, six)\n",
    "not_seven=setdiff(all18N_1, seven)\n",
    "not_eight=setdiff(all18N_1, eight)\n",
    "not_nine=setdiff(all18N_1, nine)\n",
    "not_ten=setdiff(all18N_1, ten)\n",
    "not_eleven=setdiff(all18N_1, eleven)\n",
    "not_twelve=setdiff(all18N_1, twelve)\n",
    "not_thirteen=setdiff(all18N_1, thirteen)\n",
    "not_fourteen=setdiff(all18N_1, fourteen)\n",
    "not_fifteen=setdiff(all18N_1, fifteen)\n",
    "not_sixteen=setdiff(all18N_1, sixteen)\n",
    "not_seventeen=setdiff(all18N_1, seventeen)\n",
    "not_eighteen=setdiff(all18N_1, eighteen)\n",
    "\n",
    "num_to_string=Dict(1 => one, 2 => two, 3 => three, 4 => four, 5=> five, 6=>six, 7=>seven, 8=>eight, 9=>nine, 10=>ten, 11=>eleven, 12=>twelve, 13=>thirteen, 14=>fourteen, 15=>fifteen, 16=>sixteen, 17=>seventeen, 18=>eighteen)\n",
    "num_to_string_not=Dict(1 => not_one, 2 => not_two, 3 => not_three, 4 => not_four, 5=> not_five, 6=>not_six, 7=>not_seven, 8=>not_eight, 9=>not_nine, 10=>not_ten, 11=>not_eleven, 12=>not_twelve, 13=>not_thirteen, 14=>not_fourteen, 15=>not_fifteen, 16=>not_sixteen, 17=>not_seventeen, 18=>not_eighteen)\n",
    "\n",
    "#three tiles that are memeber of two inside vertex groups\n",
    "one_group1=[2,3,4,5,6,7,8,9]\n",
    "one_group2=[11,12,13,14,15,16,17,18]\n",
    "\n",
    "nine_group1=[1,2,3,4,5,6,7,8]\n",
    "nine_group2=[10,11]\n",
    "\n",
    "eleven_group1=[9,10]\n",
    "eleven_group2=[1,12,13,14,15,16,17,18]\n",
    "step4_D=Dict(1=>[one_group1,one_group2,not_one], 2=>[nine_group1,nine_group2,not_nine], 3=>[eleven_group1, eleven_group2, not_eleven])"
   ]
  },
  {
   "cell_type": "code",
   "execution_count": 41,
   "metadata": {},
   "outputs": [
    {
     "data": {
      "text/plain": [
       "181-element Vector{Vector{Int64}}:\n",
       " [1, 2, 4, 5]\n",
       " [1, 2, 4, 6]\n",
       " [1, 2, 4, 7]\n",
       " [1, 2, 4, 8]\n",
       " [1, 2, 4, 9]\n",
       " [1, 2, 5, 6]\n",
       " [1, 2, 5, 7]\n",
       " [1, 2, 5, 8]\n",
       " [1, 2, 5, 9]\n",
       " [1, 2, 6, 7]\n",
       " [1, 2, 6, 8]\n",
       " [1, 2, 6, 9]\n",
       " [1, 2, 7, 8]\n",
       " ⋮\n",
       " [12, 14, 15, 18]\n",
       " [12, 14, 16, 17]\n",
       " [12, 14, 16, 18]\n",
       " [12, 14, 17, 18]\n",
       " [12, 15, 16, 18]\n",
       " [12, 15, 17, 18]\n",
       " [13, 14, 16, 17]\n",
       " [13, 14, 16, 18]\n",
       " [13, 14, 17, 18]\n",
       " [13, 15, 16, 18]\n",
       " [13, 15, 17, 18]\n",
       " [14, 15, 17, 18]"
      ]
     },
     "execution_count": 41,
     "metadata": {},
     "output_type": "execute_result"
    }
   ],
   "source": [
    "after_step1=step_one4(scenarios, eighteenN1_outside)\n",
    "after_step2=step_two4(total_insideG, after_step1)\n",
    "after_step3=step_three4(total_outsideG, after_step2)\n",
    "after_step4=step_four4(step4_D, after_step3)\n",
    "after_step5=step_five4(num_to_string, num_to_string_not, after_step4)\n",
    "\n",
    "save_object(\"18N1_still_life_4.jld2\",after_step5)\n",
    "after_step5 #checked! visually"
   ]
  },
  {
   "cell_type": "markdown",
   "metadata": {},
   "source": [
    "# 9. 18N_2 (2)"
   ]
  },
  {
   "cell_type": "code",
   "execution_count": 42,
   "metadata": {},
   "outputs": [
    {
     "data": {
      "text/plain": [
       "3060-element Vector{Vector{Int64}}:\n",
       " [1, 2, 3, 4]\n",
       " [1, 2, 3, 5]\n",
       " [1, 2, 3, 6]\n",
       " [1, 2, 3, 7]\n",
       " [1, 2, 3, 8]\n",
       " [1, 2, 3, 9]\n",
       " [1, 2, 3, 10]\n",
       " [1, 2, 3, 11]\n",
       " [1, 2, 3, 12]\n",
       " [1, 2, 3, 13]\n",
       " [1, 2, 3, 14]\n",
       " [1, 2, 3, 15]\n",
       " [1, 2, 3, 16]\n",
       " ⋮\n",
       " [13, 14, 16, 17]\n",
       " [13, 14, 16, 18]\n",
       " [13, 14, 17, 18]\n",
       " [13, 15, 16, 17]\n",
       " [13, 15, 16, 18]\n",
       " [13, 15, 17, 18]\n",
       " [13, 16, 17, 18]\n",
       " [14, 15, 16, 17]\n",
       " [14, 15, 16, 18]\n",
       " [14, 15, 17, 18]\n",
       " [14, 16, 17, 18]\n",
       " [15, 16, 17, 18]"
      ]
     },
     "execution_count": 42,
     "metadata": {},
     "output_type": "execute_result"
    }
   ],
   "source": [
    "#Choose four tiles from 18 neighboring tiles\n",
    "scenarios=all_configuration4(18)"
   ]
  },
  {
   "cell_type": "code",
   "execution_count": 43,
   "metadata": {},
   "outputs": [
    {
     "data": {
      "text/plain": [
       "Dict{Int64, Vector{Vector{Int64}}} with 3 entries:\n",
       "  2 => [[1, 2, 3, 4, 5, 6, 7, 8], [10, 11, 12, 13], [14, 15, 16, 17, 18, 0]]\n",
       "  3 => [[9, 10, 11, 12], [1, 14, 15, 16, 17, 18], [2, 3, 4, 5, 6, 7, 8, 0]]\n",
       "  1 => [[2, 3, 4, 5, 6, 7, 8, 9], [13, 14, 15, 16, 17, 18], [10, 11, 12, 0]]"
      ]
     },
     "execution_count": 43,
     "metadata": {},
     "output_type": "execute_result"
    }
   ],
   "source": [
    "#Lists\n",
    "all18N=[1,2,3,4,5,6,7,8,9,10,11,12,13,14,15,16,17,18, 0]\n",
    "#configuration that share outside neighbor\n",
    "eighteenN_outside=[[1,2,3],[1,2,18],[1,3,18],[2,3,18],[2,3,4],[3,4,5],[4,5,6],[5,6,7],[6,7,8],[7,8,9],[7,8,10],[7,9,10],[8,9,10],[8,9,11],[8,10,11],[9,10,11],[10,11,12],[11,12,13],[11,12,14],[11,13,14],[12,13,14],[12,13,15],[12,14,15],[13,14,15],[14,15,16],[15,16,17],[16,17,18],[1,2,17],[1,17,18],[2,17,18]]\n",
    "\n",
    "#inside vertex group #this should be changed!! it is inside vertex group, naming is wrong, code is right\n",
    "i_1 = [0,1,2,3,4,5,6,7,8,9]\n",
    "i_2=[0,9,10,11,12,13]\n",
    "i_3=[0,1,13,14,15,16,17,18]\n",
    "total_insideG=[i_1, i_2, i_3]\n",
    "\n",
    "\n",
    "#outside vertex group\n",
    "o_1=[1,2,18]\n",
    "o_2=[8,9,10]\n",
    "o_3=[12,13,14]\n",
    "#i_4=[6,7,8]\n",
    "total_outsideG=[o_1, o_2, o_3]\n",
    "\n",
    "#each tile's neighbor as a set\n",
    "one=union(o_1,i_1,i_3)\n",
    "two=union(o_1,i_1)\n",
    "three=i_1\n",
    "four=i_1\n",
    "five=i_1\n",
    "six=i_1\n",
    "seven=i_1\n",
    "eight=union(o_2,i_1)\n",
    "nine=union(o_2,i_1,i_2)\n",
    "ten=union(o_2,i_2)\n",
    "eleven=i_2\n",
    "twelve=union(o_3,i_2)\n",
    "thirteen=union(o_3,i_2,i_3)\n",
    "fourteen=union(o_3,i_3)\n",
    "fifteen=i_3\n",
    "sixteen=i_3\n",
    "seventeen=i_3\n",
    "eighteen=union(i_3,o_1)\n",
    "\n",
    "one=deleteat!(sort(one),1);two=deleteat!(sort(two),1);three=deleteat!(sort(three),1);four=deleteat!(sort(four),1);\n",
    "five=deleteat!(sort(five),1);six=deleteat!(sort(six),1);seven=deleteat!(sort(seven),1);eight=deleteat!(sort(eight),1);\n",
    "nine=deleteat!(sort(nine),1);ten=deleteat!(sort(ten),1);eleven=deleteat!(sort(eleven),1);twelve=deleteat!(sort(twelve),1);\n",
    "thirteen=deleteat!(sort(thirteen),1);fourteen=deleteat!(sort(fourteen),1);\n",
    "fifteen=deleteat!(sort(fifteen),1);sixteen=deleteat!(sort(sixteen),1);\n",
    "seventeen=deleteat!(sort(seventeen),1);eighteen=deleteat!(sort(eighteen),1)\n",
    "\n",
    "\n",
    "#not group\n",
    "not_one=setdiff(all18N, one)\n",
    "not_two=setdiff(all18N, two)\n",
    "not_three=setdiff(all18N, three)\n",
    "not_four=setdiff(all18N, four)\n",
    "not_five=setdiff(all18N, five)\n",
    "not_six=setdiff(all18N, six)\n",
    "not_seven=setdiff(all18N, seven)\n",
    "not_eight=setdiff(all18N, eight)\n",
    "not_nine=setdiff(all18N, nine)\n",
    "not_ten=setdiff(all18N, ten)\n",
    "not_eleven=setdiff(all18N, eleven)\n",
    "not_twelve=setdiff(all18N, twelve)\n",
    "not_thirteen=setdiff(all18N, thirteen)\n",
    "not_fourteen=setdiff(all18N, fourteen)\n",
    "not_fifteen=setdiff(all18N, fifteen)\n",
    "not_sixteen=setdiff(all18N, sixteen)\n",
    "not_seventeen=setdiff(all18N, seventeen)\n",
    "not_eighteen=setdiff(all18N, eighteen)\n",
    "\n",
    "num_to_string=Dict(1 => one, 2 => two, 3 => three, 4 => four, 5=> five, 6=>six, 7=>seven, 8=>eight, 9=>nine, 10=>ten, 11=>eleven, 12=>twelve, 13=>thirteen, 14=>fourteen, 15=>fifteen, 16=>sixteen, 17=>seventeen, 18=>eighteen)\n",
    "num_to_string_not=Dict(1 => not_one, 2 => not_two, 3 => not_three, 4 => not_four, 5=> not_five, 6=>not_six, 7=>not_seven, 8=>not_eight, 9=>not_nine, 10=>not_ten, 11=>not_eleven, 12=>not_twelve, 13=>not_thirteen, 14=>not_fourteen, 15=>not_fifteen, 16=>not_sixteen, 17=>not_seventeen, 18=>not_eighteen)\n",
    "\n",
    "#three tiles that are memeber of two inside vertex groups\n",
    "one_group1=[2,3,4,5,6,7,8,9]\n",
    "one_group2=[13,14,15,16,17,18]\n",
    "not_one\n",
    "\n",
    "nine_group1=[1,2,3,4,5,6,7,8]\n",
    "nine_group2=[10,11,12,13]\n",
    "not_nine\n",
    "\n",
    "thirteen_group1=[9,10,11,12]\n",
    "thirteen_group2=[1,14,15,16,17,18]\n",
    "not_thirteen\n",
    "step4_D=Dict(1=>[one_group1,one_group2,not_one], 2=>[nine_group1,nine_group2,not_nine], 3=>[thirteen_group1, thirteen_group2, not_thirteen])"
   ]
  },
  {
   "cell_type": "code",
   "execution_count": 44,
   "metadata": {},
   "outputs": [
    {
     "data": {
      "text/plain": [
       "113-element Vector{Vector{Int64}}:\n",
       " [1, 2, 4, 5]\n",
       " [1, 2, 4, 6]\n",
       " [1, 2, 4, 7]\n",
       " [1, 2, 4, 8]\n",
       " [1, 2, 4, 9]\n",
       " [1, 2, 5, 6]\n",
       " [1, 2, 5, 7]\n",
       " [1, 2, 5, 8]\n",
       " [1, 2, 5, 9]\n",
       " [1, 2, 6, 7]\n",
       " [1, 2, 6, 8]\n",
       " [1, 2, 6, 9]\n",
       " [1, 2, 7, 8]\n",
       " ⋮\n",
       " [4, 5, 7, 9]\n",
       " [4, 5, 8, 9]\n",
       " [4, 6, 7, 9]\n",
       " [4, 6, 8, 9]\n",
       " [5, 6, 8, 9]\n",
       " [9, 10, 12, 13]\n",
       " [13, 14, 16, 17]\n",
       " [13, 14, 16, 18]\n",
       " [13, 14, 17, 18]\n",
       " [13, 15, 16, 18]\n",
       " [13, 15, 17, 18]\n",
       " [14, 15, 17, 18]"
      ]
     },
     "execution_count": 44,
     "metadata": {},
     "output_type": "execute_result"
    }
   ],
   "source": [
    "after_step1=step_one4(scenarios, eighteenN_outside)\n",
    "after_step2=step_two4(total_insideG, after_step1)\n",
    "after_step3=step_three4(total_outsideG, after_step2)\n",
    "after_step4=step_four4(step4_D, after_step3)\n",
    "after_step5=step_five4(num_to_string, num_to_string_not, after_step4)\n",
    "\n",
    "save_object(\"18N2_still_life_4.jld2\",after_step5)\n",
    "after_step5 #CHECKED! VISUALLY"
   ]
  },
  {
   "cell_type": "markdown",
   "metadata": {},
   "source": [
    "# All checked visually\n",
    "# We get all four-cell valid still life when using this algorithm"
   ]
  },
  {
   "cell_type": "code",
   "execution_count": null,
   "metadata": {},
   "outputs": [],
   "source": []
  }
 ],
 "metadata": {
  "kernelspec": {
   "display_name": "Julia 1.7.2",
   "language": "julia",
   "name": "julia-1.7"
  },
  "language_info": {
   "file_extension": ".jl",
   "mimetype": "application/julia",
   "name": "julia",
   "version": "1.7.2"
  }
 },
 "nbformat": 4,
 "nbformat_minor": 4
}
