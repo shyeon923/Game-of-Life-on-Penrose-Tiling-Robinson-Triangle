{
 "cells": [
  {
   "cell_type": "markdown",
   "metadata": {},
   "source": [
    "# Algorithms to find all valid four-cell still life (1)\n",
    "### Scenario 1: center cell alive + three neighboring cells alive\n",
    "##### Seung Hyeon Mandy Hong"
   ]
  },
  {
   "cell_type": "code",
   "execution_count": 1,
   "metadata": {},
   "outputs": [],
   "source": [
    "#We use Combinatorics package for classification\n",
    "using Combinatorics\n",
    "using JLD2"
   ]
  },
  {
   "cell_type": "markdown",
   "metadata": {},
   "source": [
    "## Get all possible configuration"
   ]
  },
  {
   "cell_type": "code",
   "execution_count": 2,
   "metadata": {},
   "outputs": [
    {
     "data": {
      "text/plain": [
       "all_configuration (generic function with 1 method)"
      ]
     },
     "execution_count": 2,
     "metadata": {},
     "output_type": "execute_result"
    }
   ],
   "source": [
    "function all_configuration(n)\n",
    "    #Choose three tiles from n neighboring tiles\n",
    "    scenarios=collect(combinations(1:n,3))\n",
    "\n",
    "    #In the list created above, append 4th tile, the center tile\n",
    "    for i in 1:length(scenarios)\n",
    "        append!(scenarios[i], 0)\n",
    "    end\n",
    "\n",
    "    for i in 1:length(scenarios)\n",
    "        scenarios[i]=sort(scenarios[i])\n",
    "    end\n",
    "\n",
    "    return scenarios #scenarios is a live cell list to play Game of Life\n",
    "end"
   ]
  },
  {
   "cell_type": "markdown",
   "metadata": {},
   "source": [
    "## step 1."
   ]
  },
  {
   "cell_type": "code",
   "execution_count": 3,
   "metadata": {},
   "outputs": [
    {
     "data": {
      "text/plain": [
       "step_one (generic function with 1 method)"
      ]
     },
     "execution_count": 3,
     "metadata": {},
     "output_type": "execute_result"
    }
   ],
   "source": [
    "#function that get rid of configuration that has birth outside first corona\n",
    "#all_combination is all possible configurations: used combinatorics to find all\n",
    "#outside_con is configuration that share outside neighbors\n",
    "function step_one(all_combination, outside_num) \n",
    "    #after_step1=[]\n",
    "    get_rid=[]\n",
    "    for i in 1:length(all_combination) #going over all possible combinations\n",
    "        base=scenarios[i]\n",
    "        for j in 1:length(outside_num) #going over outside configuration\n",
    "            compare=outside_num[j]\n",
    "            if  sum(compare .∈ [base]) == 3\n",
    "                append!(get_rid, [base])\n",
    "            end\n",
    "        end\n",
    "    end\n",
    "    after_step1=setdiff(all_combination, get_rid)\n",
    "    return after_step1\n",
    "end"
   ]
  },
  {
   "cell_type": "markdown",
   "metadata": {},
   "source": [
    "## step 2."
   ]
  },
  {
   "cell_type": "code",
   "execution_count": 4,
   "metadata": {},
   "outputs": [
    {
     "data": {
      "text/plain": [
       "pre_step_two (generic function with 1 method)"
      ]
     },
     "execution_count": 4,
     "metadata": {},
     "output_type": "execute_result"
    }
   ],
   "source": [
    "function pre_step_two(inside_num)\n",
    "    step2_s=collect(combinations(inside_num,3))\n",
    "    zero_included=[]\n",
    "    for i in 1:length(step2_s)\n",
    "        if 0 ∈ step2_s[i]\n",
    "            append!(zero_included, [step2_s[i]])\n",
    "        end\n",
    "    end\n",
    "    return zero_included\n",
    "end"
   ]
  },
  {
   "cell_type": "code",
   "execution_count": 5,
   "metadata": {},
   "outputs": [
    {
     "data": {
      "text/plain": [
       "step_two (generic function with 1 method)"
      ]
     },
     "execution_count": 5,
     "metadata": {},
     "output_type": "execute_result"
    }
   ],
   "source": [
    "function step_two(all_num_neighbors, total_insideG, remaining_vectors)\n",
    "    allL=[]\n",
    "    for inside_group in total_insideG\n",
    "        if length(inside_group) == 4\n",
    "            step2=pre_step_two(inside_group)\n",
    "            L=[]\n",
    "            for element_index in 1:length(step2)\n",
    "                A=inside_group.∉[step2[element_index]]\n",
    "                loc=findall(x->x==1, A)\n",
    "                n=inside_group[loc][1]\n",
    "                not_inG=setdiff(all_num_neighbors, num_to_string[n]) #all10N\n",
    "                for i in 1:length(not_inG)\n",
    "                    s=step2[element_index]\n",
    "                    if (not_inG[i] in s) == false\n",
    "                        new_s=[]\n",
    "                        for j in 1:length(s)\n",
    "                            push!(new_s, s[j])\n",
    "                        end\n",
    "                        push!(new_s, not_inG[i])\n",
    "                        append!(L, [sort(new_s)])\n",
    "                    end\n",
    "\n",
    "                end\n",
    "            end\n",
    "            #print(length(L),\",\")\n",
    "            append!(allL,[L])\n",
    "        else\n",
    "            step2=pre_step_two(inside_group)\n",
    "            L=[]\n",
    "            not_inG=setdiff(all_num_neighbors, inside_group)\n",
    "            for i in 1:length(not_inG)\n",
    "                for e in 1:length(step2)\n",
    "                    s=step2[e]\n",
    "                    if (not_inG[i] in s) == false\n",
    "                        new_s=[]\n",
    "                        for j in 1:length(s)\n",
    "                            push!(new_s, s[j])\n",
    "                        end\n",
    "                        push!(new_s, not_inG[i])\n",
    "                        append!(L, [sort(new_s)])\n",
    "                    end\n",
    "                end\n",
    "            end\n",
    "            #print(length(L),\",\")\n",
    "            append!(allL,[L])\n",
    "\n",
    "        end\n",
    "    end\n",
    "    allL\n",
    "\n",
    "    get_rid_step2=allL[1]\n",
    "    for list in 2:length(allL)\n",
    "        get_rid_step2=union(get_rid_step2,allL[list])\n",
    "    end\n",
    "\n",
    "    after_step2=setdiff(remaining_vectors, get_rid_step2)\n",
    "    return after_step2\n",
    "end"
   ]
  },
  {
   "cell_type": "markdown",
   "metadata": {},
   "source": [
    "## 3. step 3"
   ]
  },
  {
   "cell_type": "code",
   "execution_count": 6,
   "metadata": {},
   "outputs": [
    {
     "data": {
      "text/plain": [
       "sort_vector_vector (generic function with 1 method)"
      ]
     },
     "execution_count": 6,
     "metadata": {},
     "output_type": "execute_result"
    }
   ],
   "source": [
    "function add_zero(list)\n",
    "    for i in 1:length(list)\n",
    "        append!(list[i], 0)\n",
    "end \n",
    "end\n",
    "\n",
    "function sort_vector_vector(list)\n",
    "    for i in 1:length(list)\n",
    "        list[i]=sort(list[i])\n",
    "end \n",
    "end\n",
    "\n",
    "#function pre_step_three(not_group, step3_s, n, L1) #n for nth vector in step3_s which is vector in vector\n",
    "#    for i in 1:length(not_group)\n",
    "#        s=step3_s[n]\n",
    "#        if (not_group[i] in s) == false\n",
    "#            new_s=[]\n",
    "#            for j in 1:length(s)\n",
    "#                push!(new_s, s[j])\n",
    "#            end\n",
    "#            push!(new_s, not_group[i])\n",
    "#            append!(L1, [sort(new_s)])\n",
    "#        end\n",
    "#    end\n",
    "#    return L1\n",
    "#end"
   ]
  },
  {
   "cell_type": "code",
   "execution_count": 7,
   "metadata": {},
   "outputs": [
    {
     "data": {
      "text/plain": [
       "step_three (generic function with 1 method)"
      ]
     },
     "execution_count": 7,
     "metadata": {},
     "output_type": "execute_result"
    }
   ],
   "source": [
    "function step_three(outside_group,remaining_vectors)\n",
    "    #This eliminated on 11/27 #L=[]\n",
    "\n",
    "    step3=collect(combinations(outside_group[1],2))\n",
    "\n",
    "    #for i in 1:length(outside_group[1])\n",
    "    allL=[]\n",
    "    for i in 1:length(outside_group)\n",
    "        #print(i)\n",
    "        #This eliminated on 11/27 #step3=collect(combinations(outside_group[i],2))\n",
    "        L=[]\n",
    "        for element_index in 1:length(step3)\n",
    "            step3=collect(combinations(outside_group[i],2))\n",
    "            #first, found not neighbor group number\n",
    "            A=outside_group[i].∉[step3[element_index]]\n",
    "            loc=findall(x->x==1, A)\n",
    "            n=outside_group[i][loc][1]\n",
    "            notL=num_to_string_not[n] #not_ten founded\n",
    "\n",
    "            #step3=collect(combinations(outside_group[i],2))\n",
    "            add_zero(step3)\n",
    "            sort_vector_vector(step3)\n",
    "\n",
    "            #L=pre_step_three(notL, step3, element_index, L)\n",
    "            \n",
    "            for i in 1:length(notL)\n",
    "                s=step3[element_index]\n",
    "                if (notL[i] in s) == false\n",
    "                    new_s=[]\n",
    "                    for j in 1:length(s)\n",
    "                        push!(new_s, s[j])\n",
    "                    end\n",
    "                    push!(new_s, notL[i])\n",
    "                    append!(L, [sort(new_s)])\n",
    "                end\n",
    "            end\n",
    "\n",
    "        end\n",
    "        append!(allL,[L])\n",
    "    end\n",
    "\n",
    "    get_rid_step3=allL[1]\n",
    "    for list in 2:length(allL)\n",
    "        get_rid_step3=union(get_rid_step3,allL[list])\n",
    "    end\n",
    "\n",
    "    after_step3=setdiff(remaining_vectors, get_rid_step3)\n",
    "    return after_step3\n",
    "end"
   ]
  },
  {
   "cell_type": "markdown",
   "metadata": {},
   "source": [
    "## step 4."
   ]
  },
  {
   "cell_type": "code",
   "execution_count": 8,
   "metadata": {},
   "outputs": [
    {
     "data": {
      "text/plain": [
       "step4_three_set_combination (generic function with 1 method)"
      ]
     },
     "execution_count": 8,
     "metadata": {},
     "output_type": "execute_result"
    }
   ],
   "source": [
    "function step4_two_combo(group1, group2)\n",
    "    L=[]\n",
    "    for c in group1\n",
    "        for c_2 in group2\n",
    "            append!(L,[(append!([c] , c_2))])\n",
    "        end\n",
    "    end\n",
    "    return L\n",
    "end\n",
    "\n",
    "function step4_three_set_combination(two_comboL, third_set, third_set_vector_num)\n",
    "    newL=[]\n",
    "    for i in 1:length(two_comboL)\n",
    "        a=copy(two_comboL[i])\n",
    "        append!(newL, [append!(a, third_set[third_set_vector_num])])\n",
    "    end\n",
    "    return newL\n",
    "end"
   ]
  },
  {
   "cell_type": "code",
   "execution_count": 9,
   "metadata": {},
   "outputs": [
    {
     "data": {
      "text/plain": [
       "step_four (generic function with 1 method)"
      ]
     },
     "execution_count": 9,
     "metadata": {},
     "output_type": "execute_result"
    }
   ],
   "source": [
    "function step_four(step4L,remaining_vectors)\n",
    "    allSet=[]\n",
    "    for mult in 1:3\n",
    "        index=mult\n",
    "        step4=[]\n",
    "        L=step4_two_combo(step4L[index][1], step4L[index][2])\n",
    "        #moved to above in 11/27 #step4=[]\n",
    "        for i in 1:(length(step4L[index][3])-1)\n",
    "            L1=step4_three_set_combination(L, step4L[index][3], i)\n",
    "            add_zero(L1);sort_vector_vector(L1)\n",
    "            append!(step4, [L1])\n",
    "        end\n",
    "        setA=step4[1]\n",
    "        for list in 2:length(step4)\n",
    "            setA=union(setA,step4[list])\n",
    "        end\n",
    "        append!(allSet, [setA])\n",
    "    end\n",
    "\n",
    "    get_rid_step4=allSet[1]\n",
    "    for list in 2:length(allSet)\n",
    "        get_rid_step4=union(get_rid_step4,allSet[list])\n",
    "    end\n",
    "    after_step4=setdiff(remaining_vectors, get_rid_step4)\n",
    "    return after_step4\n",
    "end"
   ]
  },
  {
   "cell_type": "markdown",
   "metadata": {},
   "source": [
    "# 1. 10N"
   ]
  },
  {
   "cell_type": "code",
   "execution_count": 10,
   "metadata": {},
   "outputs": [
    {
     "data": {
      "text/plain": [
       "120-element Vector{Vector{Int64}}:\n",
       " [0, 1, 2, 3]\n",
       " [0, 1, 2, 4]\n",
       " [0, 1, 2, 5]\n",
       " [0, 1, 2, 6]\n",
       " [0, 1, 2, 7]\n",
       " [0, 1, 2, 8]\n",
       " [0, 1, 2, 9]\n",
       " [0, 1, 2, 10]\n",
       " [0, 1, 3, 4]\n",
       " [0, 1, 3, 5]\n",
       " [0, 1, 3, 6]\n",
       " [0, 1, 3, 7]\n",
       " [0, 1, 3, 8]\n",
       " ⋮\n",
       " [0, 5, 8, 10]\n",
       " [0, 5, 9, 10]\n",
       " [0, 6, 7, 8]\n",
       " [0, 6, 7, 9]\n",
       " [0, 6, 7, 10]\n",
       " [0, 6, 8, 9]\n",
       " [0, 6, 8, 10]\n",
       " [0, 6, 9, 10]\n",
       " [0, 7, 8, 9]\n",
       " [0, 7, 8, 10]\n",
       " [0, 7, 9, 10]\n",
       " [0, 8, 9, 10]"
      ]
     },
     "execution_count": 10,
     "metadata": {},
     "output_type": "execute_result"
    }
   ],
   "source": [
    "scenarios=all_configuration(10)"
   ]
  },
  {
   "cell_type": "code",
   "execution_count": 11,
   "metadata": {},
   "outputs": [
    {
     "data": {
      "text/plain": [
       "Dict{Int64, Vector{Vector{Int64}}} with 3 entries:\n",
       "  2 => [[1, 2], [4, 5, 6, 7], [8, 9, 10, 0]]\n",
       "  3 => [[3, 4, 5, 6], [1, 8, 9, 10], [2, 0]]\n",
       "  1 => [[2, 3], [7, 8, 9, 10], [4, 5, 6, 0]]"
      ]
     },
     "execution_count": 11,
     "metadata": {},
     "output_type": "execute_result"
    }
   ],
   "source": [
    "#Lists\n",
    "all10N=[1,2,3,4,5,6,7,8,9,10,0]\n",
    "#configuration that share outside neighbor\n",
    "tenN_outside=[[1,2,3], [1,2,4], [1,2,10], [1,3,4], [1,3,10], [1,4,10], [2,3,4], [2,3,10], [2,4,10], [3,4,10], [2,3,5], [2,4,5], [3,4,5], [4,5,6], [5,6,7], [5,6,8], [5,7,8], [6,7,8], [6,7,9], [6,8,9], [7,8,9], [8,9,10], [1,2,9], [1,9,10], [2,9,10]]\n",
    "\n",
    "#inside vertex group\n",
    "i_1 = [0,1,2,3]\n",
    "i_2=[0,3,4,5,6,7]\n",
    "i_3=[0,1,7,8,9,10]\n",
    "total_insideG=[i_1, i_2, i_3]\n",
    "\n",
    "#outside vertex group\n",
    "o_1=[1,2,10]\n",
    "o_2=[2,3,4]\n",
    "o_4=[6,7,8]\n",
    "total_outsideG=[o_1,o_2,o_4]\n",
    "\n",
    "#each tile's neighbor as a set\n",
    "one=[1,2,3,7,8,9,10]\n",
    "two=[1,10,3,4,2]\n",
    "three=[1,2,4,5,6,7,3]\n",
    "four=[2,3,4,5,6,7]\n",
    "five=[3,4,5,6,7]\n",
    "six=[3,4,5,6,7,8]\n",
    "seven=[3,4,5,6,8,9,10,1,7]\n",
    "eight=[6,7,9,10,1,8]\n",
    "nine=[1,7,8,9,10]\n",
    "ten=[1,7,8,9,10,2]\n",
    "\n",
    "#not group\n",
    "not_one=setdiff(all10N, one)\n",
    "not_two=setdiff(all10N, two)\n",
    "not_three=setdiff(all10N, three)\n",
    "not_four=setdiff(all10N, four)\n",
    "not_five=setdiff(all10N, five)\n",
    "not_six=setdiff(all10N, six)\n",
    "not_seven=setdiff(all10N, seven)\n",
    "not_eight=setdiff(all10N, eight)\n",
    "not_nine=setdiff(all10N, nine)\n",
    "not_ten=setdiff(all10N, ten)\n",
    "\n",
    "num_to_string=Dict(1 => one, 2 => two, 3 => three, 4 => four, 5=> five, 6=>six, 7=>seven, 8=>eight, 9=>nine, 10=>ten)\n",
    "num_to_string_not=Dict(1 => not_one, 2 => not_two, 3 => not_three, 4 => not_four, 5=> not_five, 6=>not_six, 7=>not_seven, 8=>not_eight, 9=>not_nine, 10=>not_ten)\n",
    "\n",
    "#three tiles that are member of both inside and outside vertex group\n",
    "one_group1=[2,3]\n",
    "one_group2=[7,8,9,10]\n",
    "#not_one\n",
    "\n",
    "three_group1=[1,2]\n",
    "three_group2=[4,5,6,7]\n",
    "#not_three\n",
    "\n",
    "seven_group1=[3,4,5,6]\n",
    "seven_group2=[1,8,9,10]\n",
    "#not_seven\n",
    "step4_D=Dict(1=>[one_group1,one_group2,not_one], 2=>[three_group1,three_group2,not_three], 3=>[seven_group1, seven_group2, not_seven])"
   ]
  },
  {
   "cell_type": "code",
   "execution_count": 12,
   "metadata": {},
   "outputs": [
    {
     "data": {
      "text/plain": [
       "95-element Vector{Vector{Int64}}:\n",
       " [0, 1, 2, 5]\n",
       " [0, 1, 2, 6]\n",
       " [0, 1, 2, 7]\n",
       " [0, 1, 2, 8]\n",
       " [0, 1, 3, 5]\n",
       " [0, 1, 3, 6]\n",
       " [0, 1, 3, 7]\n",
       " [0, 1, 3, 8]\n",
       " [0, 1, 3, 9]\n",
       " [0, 1, 4, 5]\n",
       " [0, 1, 4, 6]\n",
       " [0, 1, 4, 7]\n",
       " [0, 1, 4, 8]\n",
       " ⋮\n",
       " [0, 5, 6, 9]\n",
       " [0, 5, 6, 10]\n",
       " [0, 5, 7, 9]\n",
       " [0, 5, 7, 10]\n",
       " [0, 5, 8, 9]\n",
       " [0, 5, 8, 10]\n",
       " [0, 5, 9, 10]\n",
       " [0, 6, 7, 10]\n",
       " [0, 6, 8, 10]\n",
       " [0, 6, 9, 10]\n",
       " [0, 7, 8, 10]\n",
       " [0, 7, 9, 10]"
      ]
     },
     "execution_count": 12,
     "metadata": {},
     "output_type": "execute_result"
    }
   ],
   "source": [
    "after_step1=step_one(scenarios, tenN_outside)\n",
    "after_step1"
   ]
  },
  {
   "cell_type": "code",
   "execution_count": 13,
   "metadata": {},
   "outputs": [
    {
     "data": {
      "text/plain": [
       "26-element Vector{Vector{Int64}}:\n",
       " [0, 1, 2, 5]\n",
       " [0, 1, 2, 6]\n",
       " [0, 1, 7, 8]\n",
       " [0, 1, 7, 9]\n",
       " [0, 1, 7, 10]\n",
       " [0, 1, 8, 9]\n",
       " [0, 1, 8, 10]\n",
       " [0, 2, 3, 8]\n",
       " [0, 2, 3, 9]\n",
       " [0, 2, 4, 8]\n",
       " [0, 2, 4, 9]\n",
       " [0, 2, 5, 8]\n",
       " [0, 2, 5, 9]\n",
       " [0, 2, 5, 10]\n",
       " [0, 2, 6, 8]\n",
       " [0, 2, 6, 9]\n",
       " [0, 2, 6, 10]\n",
       " [0, 3, 4, 6]\n",
       " [0, 3, 4, 7]\n",
       " [0, 3, 5, 6]\n",
       " [0, 3, 5, 7]\n",
       " [0, 3, 6, 7]\n",
       " [0, 4, 5, 7]\n",
       " [0, 4, 6, 7]\n",
       " [0, 7, 8, 10]\n",
       " [0, 7, 9, 10]"
      ]
     },
     "execution_count": 13,
     "metadata": {},
     "output_type": "execute_result"
    }
   ],
   "source": [
    "after_step2=step_two(all10N, total_insideG, after_step1)\n",
    "after_step2"
   ]
  },
  {
   "cell_type": "code",
   "execution_count": 14,
   "metadata": {},
   "outputs": [
    {
     "data": {
      "text/plain": [
       "9-element Vector{Vector{Int64}}:\n",
       " [0, 1, 7, 9]\n",
       " [0, 1, 8, 9]\n",
       " [0, 2, 5, 8]\n",
       " [0, 2, 5, 9]\n",
       " [0, 2, 6, 9]\n",
       " [0, 3, 5, 6]\n",
       " [0, 3, 5, 7]\n",
       " [0, 4, 5, 7]\n",
       " [0, 7, 9, 10]"
      ]
     },
     "execution_count": 14,
     "metadata": {},
     "output_type": "execute_result"
    }
   ],
   "source": [
    "after_step3=step_three(total_outsideG, after_step2)\n",
    "after_step3"
   ]
  },
  {
   "cell_type": "code",
   "execution_count": 15,
   "metadata": {},
   "outputs": [
    {
     "data": {
      "text/plain": [
       "4-element Vector{Vector{Int64}}:\n",
       " [0, 1, 8, 9]\n",
       " [0, 3, 5, 6]\n",
       " [0, 4, 5, 7]\n",
       " [0, 7, 9, 10]"
      ]
     },
     "execution_count": 15,
     "metadata": {},
     "output_type": "execute_result"
    }
   ],
   "source": [
    "after_step4=step_four(step4_D, after_step3)\n",
    "after_step4 #checked! visually"
   ]
  },
  {
   "cell_type": "markdown",
   "metadata": {},
   "source": [
    "# 2. 12N_1"
   ]
  },
  {
   "cell_type": "code",
   "execution_count": 16,
   "metadata": {},
   "outputs": [
    {
     "data": {
      "text/plain": [
       "220-element Vector{Vector{Int64}}:\n",
       " [0, 1, 2, 3]\n",
       " [0, 1, 2, 4]\n",
       " [0, 1, 2, 5]\n",
       " [0, 1, 2, 6]\n",
       " [0, 1, 2, 7]\n",
       " [0, 1, 2, 8]\n",
       " [0, 1, 2, 9]\n",
       " [0, 1, 2, 10]\n",
       " [0, 1, 2, 11]\n",
       " [0, 1, 2, 12]\n",
       " [0, 1, 3, 4]\n",
       " [0, 1, 3, 5]\n",
       " [0, 1, 3, 6]\n",
       " ⋮\n",
       " [0, 7, 10, 12]\n",
       " [0, 7, 11, 12]\n",
       " [0, 8, 9, 10]\n",
       " [0, 8, 9, 11]\n",
       " [0, 8, 9, 12]\n",
       " [0, 8, 10, 11]\n",
       " [0, 8, 10, 12]\n",
       " [0, 8, 11, 12]\n",
       " [0, 9, 10, 11]\n",
       " [0, 9, 10, 12]\n",
       " [0, 9, 11, 12]\n",
       " [0, 10, 11, 12]"
      ]
     },
     "execution_count": 16,
     "metadata": {},
     "output_type": "execute_result"
    }
   ],
   "source": [
    "scenarios=all_configuration(12)"
   ]
  },
  {
   "cell_type": "code",
   "execution_count": 17,
   "metadata": {},
   "outputs": [
    {
     "data": {
      "text/plain": [
       "Dict{Int64, Vector{Vector{Int64}}} with 3 entries:\n",
       "  2 => [[1, 2], [4, 5, 6, 7], [8, 9, 10, 11, 12, 0]]\n",
       "  3 => [[3, 4, 5, 6], [1, 8, 9, 10, 11, 12], [2, 0]]\n",
       "  1 => [[2, 3], [7, 8, 9, 10, 11, 12], [4, 5, 6, 0]]"
      ]
     },
     "execution_count": 17,
     "metadata": {},
     "output_type": "execute_result"
    }
   ],
   "source": [
    "#Lists\n",
    "all12N_1=[1,2,3,4,5,6,7,8,9,10,11,12,0]\n",
    "#configuration that share outside neighbor\n",
    "twelveN1_outside=[[1,2,10],[1,2,11],[1,2,12],[1,11,12],[2,11,12],[1,2,3],[1,2,4],[1,2,12],[1,3,4],[1,3,12],[1,4,12],[2,3,4],[2,3,12],[2,4,12],[3,4,12],[2,3,5],[2,4,5],[3,4,5],[4,5,6],[5,6,7],[5,6,8],[5,7,8],[6,7,8],[6,7,9],[6,8,9],[7,8,9],[8,9,10],[9,10,11],[10,11,12]]\n",
    "\n",
    "#inside vertex group\n",
    "i_1 = [0,1,2,3]\n",
    "i_2=[0,3,4,5,6,7]\n",
    "i_3=[0,1,7,8,9,10,11,12]\n",
    "total_insideG=[i_1, i_2, i_3]\n",
    "\n",
    "\n",
    "#outside vertex group\n",
    "o_1=[1,2,12]\n",
    "o_2=[2,3,4]\n",
    "o_3=[6,7,8]\n",
    "total_outsideG=[o_1, o_2, o_3]\n",
    "\n",
    "#each tile's neighbor as a set\n",
    "one=union(o_1,i_1,i_3)\n",
    "two=union(o_1,i_1,o_2)\n",
    "three=union(i_1,o_2,i_2)\n",
    "four=union(o_2,i_2)\n",
    "five=i_2\n",
    "six=union(o_3,i_2)\n",
    "seven=union(o_3,i_2,i_3)\n",
    "eight=union(o_3,i_3)\n",
    "nine=i_3\n",
    "ten=i_3\n",
    "eleven=i_3\n",
    "twelve=union(i_3,o_1)\n",
    "\n",
    "\n",
    "one=deleteat!(sort(one),1);two=deleteat!(sort(two),1);three=deleteat!(sort(three),1);four=deleteat!(sort(four),1);\n",
    "five=deleteat!(sort(five),1);six=deleteat!(sort(six),1);seven=deleteat!(sort(seven),1);eight=deleteat!(sort(eight),1);\n",
    "nine=deleteat!(sort(nine),1);ten=deleteat!(sort(ten),1);eleven=deleteat!(sort(eleven),1);twelve=deleteat!(sort(twelve),1);\n",
    "\n",
    "\n",
    "#not group\n",
    "not_one=setdiff(all12N_1, one)\n",
    "not_two=setdiff(all12N_1, two)\n",
    "not_three=setdiff(all12N_1, three)\n",
    "not_four=setdiff(all12N_1, four)\n",
    "not_five=setdiff(all12N_1, five)\n",
    "not_six=setdiff(all12N_1, six)\n",
    "not_seven=setdiff(all12N_1, seven)\n",
    "not_eight=setdiff(all12N_1, eight)\n",
    "not_nine=setdiff(all12N_1, nine)\n",
    "not_ten=setdiff(all12N_1, ten)\n",
    "not_eleven=setdiff(all12N_1, eleven)\n",
    "not_twelve=setdiff(all12N_1, twelve)\n",
    "\n",
    "num_to_string=Dict(1 => one, 2 => two, 3 => three, 4 => four, 5=> five, 6=>six, 7=>seven, 8=>eight, 9=>nine, 10=>ten, 11=>eleven, 12=>twelve)\n",
    "num_to_string_not=Dict(1 => not_one, 2 => not_two, 3 => not_three, 4 => not_four, 5=> not_five, 6=>not_six, 7=>not_seven, 8=>not_eight, 9=>not_nine, 10=>not_ten, 11=>not_eleven, 12=>not_twelve)\n",
    "\n",
    "#three tiles that are memeber of two inside vertex groups\n",
    "one_group1=[2,3]\n",
    "one_group2=[7,8,9,10,11,12]\n",
    "\n",
    "three_group1=[1,2]\n",
    "three_group2=[4,5,6,7]\n",
    "\n",
    "seven_group1=[3,4,5,6]\n",
    "seven_group2=[1,8,9,10,11,12]\n",
    "step4_D=Dict(1=>[one_group1,one_group2,not_one], 2=>[three_group1,three_group2,not_three], 3=>[seven_group1, seven_group2, not_seven])"
   ]
  },
  {
   "cell_type": "code",
   "execution_count": 18,
   "metadata": {},
   "outputs": [
    {
     "data": {
      "text/plain": [
       "21-element Vector{Vector{Int64}}:\n",
       " [0, 1, 8, 9]\n",
       " [0, 1, 8, 10]\n",
       " [0, 1, 8, 11]\n",
       " [0, 1, 9, 10]\n",
       " [0, 1, 9, 11]\n",
       " [0, 1, 10, 11]\n",
       " [0, 3, 5, 6]\n",
       " [0, 4, 5, 7]\n",
       " [0, 7, 9, 10]\n",
       " [0, 7, 9, 11]\n",
       " [0, 7, 9, 12]\n",
       " [0, 7, 10, 11]\n",
       " [0, 7, 10, 12]\n",
       " [0, 7, 11, 12]\n",
       " [0, 8, 9, 11]\n",
       " [0, 8, 9, 12]\n",
       " [0, 8, 10, 11]\n",
       " [0, 8, 10, 12]\n",
       " [0, 8, 11, 12]\n",
       " [0, 9, 10, 12]\n",
       " [0, 9, 11, 12]"
      ]
     },
     "execution_count": 18,
     "metadata": {},
     "output_type": "execute_result"
    }
   ],
   "source": [
    "after_step1=step_one(scenarios, twelveN1_outside)\n",
    "after_step2=step_two(all12N_1, total_insideG, after_step1)\n",
    "after_step3=step_three(total_outsideG, after_step2)\n",
    "after_step4=step_four(step4_D, after_step3)\n",
    "after_step4 #checked! visually\n",
    "sort(after_step4)"
   ]
  },
  {
   "cell_type": "markdown",
   "metadata": {},
   "source": [
    "# 3. 12N_2"
   ]
  },
  {
   "cell_type": "code",
   "execution_count": 19,
   "metadata": {},
   "outputs": [
    {
     "data": {
      "text/plain": [
       "220-element Vector{Vector{Int64}}:\n",
       " [0, 1, 2, 3]\n",
       " [0, 1, 2, 4]\n",
       " [0, 1, 2, 5]\n",
       " [0, 1, 2, 6]\n",
       " [0, 1, 2, 7]\n",
       " [0, 1, 2, 8]\n",
       " [0, 1, 2, 9]\n",
       " [0, 1, 2, 10]\n",
       " [0, 1, 2, 11]\n",
       " [0, 1, 2, 12]\n",
       " [0, 1, 3, 4]\n",
       " [0, 1, 3, 5]\n",
       " [0, 1, 3, 6]\n",
       " ⋮\n",
       " [0, 7, 10, 12]\n",
       " [0, 7, 11, 12]\n",
       " [0, 8, 9, 10]\n",
       " [0, 8, 9, 11]\n",
       " [0, 8, 9, 12]\n",
       " [0, 8, 10, 11]\n",
       " [0, 8, 10, 12]\n",
       " [0, 8, 11, 12]\n",
       " [0, 9, 10, 11]\n",
       " [0, 9, 10, 12]\n",
       " [0, 9, 11, 12]\n",
       " [0, 10, 11, 12]"
      ]
     },
     "execution_count": 19,
     "metadata": {},
     "output_type": "execute_result"
    }
   ],
   "source": [
    "scenarios=all_configuration(12)"
   ]
  },
  {
   "cell_type": "code",
   "execution_count": 20,
   "metadata": {},
   "outputs": [
    {
     "data": {
      "text/plain": [
       "Dict{Int64, Vector{Vector{Int64}}} with 3 entries:\n",
       "  2 => [[1, 2, 3, 4], [6, 7], [8, 9, 10, 11, 12, 0]]\n",
       "  3 => [[5, 6], [1, 8, 9, 10, 11, 12], [2, 3, 4, 0]]\n",
       "  1 => [[2, 3, 4], [7, 8, 9, 10, 11, 12], [6, 0]]"
      ]
     },
     "execution_count": 20,
     "metadata": {},
     "output_type": "execute_result"
    }
   ],
   "source": [
    "#Lists\n",
    "all12N_2=[1,2,3,4,5,6,7,8,9,10,11,12,0]\n",
    "#configuration that share outside neighbor\n",
    "twelveN2_outside=[[1,2,11],[1,2,12],[1,11,12],[2,11,12],[1,2,3],[1,3,12],[2,3,12],[3,4,5],[4,5,6],[5,6,7],[5,6,8],[5,7,8],[6,7,8],[6,7,9],[6,8,9],[7,8,9],[8,9,10],[9,10,11],[10,11,12],[2,3,4],[4,5,7],[4,5,8],[4,6,7],[4,6,8],[4,7,8],[3,4,6],[3,5,6]]\n",
    "\n",
    "#inside vertex group\n",
    "i_1 = [0,1,2,3,4,5]\n",
    "i_2=[0,5,6,7]\n",
    "i_3=[0,1,7,8,9,10,11,12]\n",
    "total_insideG=[i_1, i_2, i_3]\n",
    "\n",
    "\n",
    "#outside vertex group\n",
    "o_1=[1,2,12]\n",
    "o_2=[4,5,6]\n",
    "o_3=[6,7,8]\n",
    "total_outsideG=[o_1, o_2, o_3]\n",
    "\n",
    "#each tile's neighbor as a set\n",
    "one=union(o_1,i_1,i_3)\n",
    "two=union(o_1,i_1)\n",
    "three=union(i_1,o_1)\n",
    "four=union(o_2,i_1)\n",
    "five=union(o_2,i_1, i_2)\n",
    "six=union(o_3,i_2,o_2)\n",
    "seven=union(o_3,i_2,i_3)\n",
    "eight=union(o_3,i_3)\n",
    "nine=i_3\n",
    "ten=i_3\n",
    "eleven=i_3\n",
    "twelve=union(i_3,o_1)\n",
    "\n",
    "\n",
    "\n",
    "one=deleteat!(sort(one),1);two=deleteat!(sort(two),1);three=deleteat!(sort(three),1);four=deleteat!(sort(four),1);\n",
    "five=deleteat!(sort(five),1);six=deleteat!(sort(six),1);seven=deleteat!(sort(seven),1);eight=deleteat!(sort(eight),1);\n",
    "nine=deleteat!(sort(nine),1);ten=deleteat!(sort(ten),1);eleven=deleteat!(sort(eleven),1);twelve=deleteat!(sort(twelve),1);\n",
    "\n",
    "\n",
    "#not group\n",
    "not_one=setdiff(all12N_2, one)\n",
    "not_two=setdiff(all12N_2, two)\n",
    "not_three=setdiff(all12N_2, three)\n",
    "not_four=setdiff(all12N_2, four)\n",
    "not_five=setdiff(all12N_2, five)\n",
    "not_six=setdiff(all12N_2, six)\n",
    "not_seven=setdiff(all12N_2, seven)\n",
    "not_eight=setdiff(all12N_2, eight)\n",
    "not_nine=setdiff(all12N_2, nine)\n",
    "not_ten=setdiff(all12N_2, ten)\n",
    "not_eleven=setdiff(all12N_2, eleven)\n",
    "not_twelve=setdiff(all12N_2, twelve)\n",
    "\n",
    "num_to_string=Dict(1 => one, 2 => two, 3 => three, 4 => four, 5=> five, 6=>six, 7=>seven, 8=>eight, 9=>nine, 10=>ten, 11=>eleven, 12=>twelve)\n",
    "num_to_string_not=Dict(1 => not_one, 2 => not_two, 3 => not_three, 4 => not_four, 5=> not_five, 6=>not_six, 7=>not_seven, 8=>not_eight, 9=>not_nine, 10=>not_ten, 11=>not_eleven, 12=>not_twelve)\n",
    "\n",
    "#three tiles that are memeber of two inside vertex groups\n",
    "one_group1=[2,3,4]\n",
    "one_group2=[7,8,9,10,11,12]\n",
    "\n",
    "five_group1=[1,2,3,4]\n",
    "five_group2=[6,7]\n",
    "\n",
    "seven_group1=[5,6]\n",
    "seven_group2=[1,8,9,10,11,12]\n",
    "step4_D=Dict(1=>[one_group1,one_group2,not_one], 2=>[five_group1,five_group2,not_five], 3=>[seven_group1, seven_group2, not_seven])"
   ]
  },
  {
   "cell_type": "code",
   "execution_count": 21,
   "metadata": {},
   "outputs": [
    {
     "data": {
      "text/plain": [
       "21-element Vector{Vector{Int64}}:\n",
       " [0, 1, 3, 4]\n",
       " [0, 1, 8, 9]\n",
       " [0, 1, 8, 10]\n",
       " [0, 1, 8, 11]\n",
       " [0, 1, 9, 10]\n",
       " [0, 1, 9, 11]\n",
       " [0, 1, 10, 11]\n",
       " [0, 2, 3, 5]\n",
       " [0, 7, 9, 10]\n",
       " [0, 7, 9, 11]\n",
       " [0, 7, 9, 12]\n",
       " [0, 7, 10, 11]\n",
       " [0, 7, 10, 12]\n",
       " [0, 7, 11, 12]\n",
       " [0, 8, 9, 11]\n",
       " [0, 8, 9, 12]\n",
       " [0, 8, 10, 11]\n",
       " [0, 8, 10, 12]\n",
       " [0, 8, 11, 12]\n",
       " [0, 9, 10, 12]\n",
       " [0, 9, 11, 12]"
      ]
     },
     "execution_count": 21,
     "metadata": {},
     "output_type": "execute_result"
    }
   ],
   "source": [
    "after_step1=step_one(scenarios, twelveN2_outside)\n",
    "after_step2=step_two(all12N_2, total_insideG, after_step1)\n",
    "after_step3=step_three(total_outsideG, after_step2)\n",
    "after_step4=step_four(step4_D, after_step3)\n",
    "after_step4 #checked! visually same\n",
    "sort(after_step4)"
   ]
  },
  {
   "cell_type": "markdown",
   "metadata": {},
   "source": [
    "# 4. 14N_1"
   ]
  },
  {
   "cell_type": "code",
   "execution_count": 22,
   "metadata": {},
   "outputs": [
    {
     "data": {
      "text/plain": [
       "364-element Vector{Vector{Int64}}:\n",
       " [0, 1, 2, 3]\n",
       " [0, 1, 2, 4]\n",
       " [0, 1, 2, 5]\n",
       " [0, 1, 2, 6]\n",
       " [0, 1, 2, 7]\n",
       " [0, 1, 2, 8]\n",
       " [0, 1, 2, 9]\n",
       " [0, 1, 2, 10]\n",
       " [0, 1, 2, 11]\n",
       " [0, 1, 2, 12]\n",
       " [0, 1, 2, 13]\n",
       " [0, 1, 2, 14]\n",
       " [0, 1, 3, 4]\n",
       " ⋮\n",
       " [0, 9, 12, 14]\n",
       " [0, 9, 13, 14]\n",
       " [0, 10, 11, 12]\n",
       " [0, 10, 11, 13]\n",
       " [0, 10, 11, 14]\n",
       " [0, 10, 12, 13]\n",
       " [0, 10, 12, 14]\n",
       " [0, 10, 13, 14]\n",
       " [0, 11, 12, 13]\n",
       " [0, 11, 12, 14]\n",
       " [0, 11, 13, 14]\n",
       " [0, 12, 13, 14]"
      ]
     },
     "execution_count": 22,
     "metadata": {},
     "output_type": "execute_result"
    }
   ],
   "source": [
    "scenarios=all_configuration(14)"
   ]
  },
  {
   "cell_type": "code",
   "execution_count": 23,
   "metadata": {},
   "outputs": [
    {
     "data": {
      "text/plain": [
       "30-element Vector{Vector{Int64}}:\n",
       " [1, 2, 14]\n",
       " [4, 5, 6]\n",
       " [6, 7, 8]\n",
       " [2, 3, 4]\n",
       " [8, 9, 10]\n",
       " [9, 10, 11]\n",
       " [10, 11, 12]\n",
       " [11, 12, 13]\n",
       " [12, 13, 14]\n",
       " [14, 1, 2]\n",
       " [14, 1, 3]\n",
       " [14, 2, 3]\n",
       " [1, 2, 3]\n",
       " ⋮\n",
       " [4, 6, 7]\n",
       " [4, 6, 8]\n",
       " [4, 7, 8]\n",
       " [5, 6, 7]\n",
       " [5, 6, 8]\n",
       " [5, 7, 8]\n",
       " [6, 7, 9]\n",
       " [6, 8, 9]\n",
       " [7, 8, 9]\n",
       " [1, 2, 13]\n",
       " [1, 13, 14]\n",
       " [2, 13, 14]"
      ]
     },
     "execution_count": 23,
     "metadata": {},
     "output_type": "execute_result"
    }
   ],
   "source": [
    "s1=[[1,2,14],[4,5,6],[6,7,8],[2,3,4],[8,9,10],[9,10,11],[10,11,12],[11,12,13],[12,13,14]]\n",
    "s2=collect(combinations([14,1,2,3],3))\n",
    "s3=collect(combinations([3,4,5,6],3))\n",
    "s4=collect(combinations([4,5,6,7,8],3))\n",
    "s5=collect(combinations([6,7,8,9],3))\n",
    "s6=collect(combinations([1,2,13,14],3))\n",
    "O=union(s1,s2,s3,s4, s5, s6)"
   ]
  },
  {
   "cell_type": "code",
   "execution_count": 24,
   "metadata": {},
   "outputs": [
    {
     "data": {
      "text/plain": [
       "Dict{Int64, Vector{Vector{Int64}}} with 3 entries:\n",
       "  2 => [[1, 2, 3, 4], [6, 7], [8, 9, 10, 11, 12, 13, 14, 0]]\n",
       "  3 => [[5, 6], [1, 8, 9, 10, 11, 12, 13, 14], [2, 3, 4, 0]]\n",
       "  1 => [[2, 3, 4, 5], [7, 8, 9, 10, 11, 12, 13, 14], [6, 0]]"
      ]
     },
     "execution_count": 24,
     "metadata": {},
     "output_type": "execute_result"
    }
   ],
   "source": [
    "#Lists\n",
    "all14N_4=[1,2,3,4,5,6,7,8,9,10,11,12,13,14,0]\n",
    "#configuration that share outside neighbor\n",
    "fourteenN4_outside=O\n",
    "\n",
    "#inside vertex group\n",
    "i_1 = [0,1,2,3,4,5]\n",
    "i_2=[0,5,6,7]\n",
    "i_3=[0,1,7,8,9,10,11,12,13,14]\n",
    "total_insideG=[i_1, i_2, i_3]\n",
    "\n",
    "\n",
    "#outside vertex group\n",
    "o_1=[1,2,14]\n",
    "o_2=[4,5,6]\n",
    "o_3=[6,7,8]\n",
    "total_outsideG=[o_1, o_2, o_3]\n",
    "\n",
    "#each tile's neighbor as a set\n",
    "one=union(o_1,i_1,i_3)\n",
    "two=union(o_1,i_1)\n",
    "three=i_1\n",
    "four=union(o_2,i_1)\n",
    "five=union(o_2,i_1,i_2)\n",
    "six=union(o_2,i_2,o_3)\n",
    "seven=union(i_3,i_2,o_3)\n",
    "eight=union(i_3,o_3)\n",
    "nine=i_3\n",
    "ten=i_3\n",
    "eleven=i_3\n",
    "twelve=i_3\n",
    "thirteen=i_3\n",
    "fourteen=union(o_1,i_3)\n",
    "\n",
    "\n",
    "one=deleteat!(sort(one),1);two=deleteat!(sort(two),1);three=deleteat!(sort(three),1);four=deleteat!(sort(four),1);\n",
    "five=deleteat!(sort(five),1);six=deleteat!(sort(six),1);seven=deleteat!(sort(seven),1);eight=deleteat!(sort(eight),1);\n",
    "nine=deleteat!(sort(nine),1);ten=deleteat!(sort(ten),1);eleven=deleteat!(sort(eleven),1);twelve=deleteat!(sort(twelve),1);\n",
    "thirteen=deleteat!(sort(thirteen),1);fourteen=deleteat!(sort(fourteen),1);\n",
    "\n",
    "\n",
    "#not group\n",
    "not_one=setdiff(all14N_4, one)\n",
    "not_two=setdiff(all14N_4, two)\n",
    "not_three=setdiff(all14N_4, three)\n",
    "not_four=setdiff(all14N_4, four)\n",
    "not_five=setdiff(all14N_4, five)\n",
    "not_six=setdiff(all14N_4, six)\n",
    "not_seven=setdiff(all14N_4, seven)\n",
    "not_eight=setdiff(all14N_4, eight)\n",
    "not_nine=setdiff(all14N_4, nine)\n",
    "not_ten=setdiff(all14N_4, ten)\n",
    "not_eleven=setdiff(all14N_4, eleven)\n",
    "not_twelve=setdiff(all14N_4, twelve)\n",
    "not_thirteen=setdiff(all14N_4, thirteen)\n",
    "not_fourteen=setdiff(all14N_4, fourteen)\n",
    "\n",
    "\n",
    "num_to_string=Dict(1 => one, 2 => two, 3 => three, 4 => four, 5=> five, 6=>six, 7=>seven, 8=>eight, 9=>nine, 10=>ten, 11=>eleven, 12=>twelve, 13=>thirteen, 14=>fourteen)\n",
    "num_to_string_not=Dict(1 => not_one, 2 => not_two, 3 => not_three, 4 => not_four, 5=> not_five, 6=>not_six, 7=>not_seven, 8=>not_eight, 9=>not_nine, 10=>not_ten, 11=>not_eleven, 12=>not_twelve,13=>not_thirteen, 14=>not_fourteen)\n",
    "\n",
    "#three tiles that are memeber of two inside vertex groups\n",
    "one_group1=[2,3,4,5]\n",
    "one_group2=[7,8,9,10,11,12,13,14]\n",
    "\n",
    "five_group1=[1,2,3,4]\n",
    "five_group2=[6,7]\n",
    "\n",
    "seven_group1=[5,6]\n",
    "seven_group2=[1,8,9,10,11,12,13,14]\n",
    "step4_D=Dict(1=>[one_group1,one_group2,not_one], 2=>[five_group1,five_group2,not_five], 3=>[seven_group1, seven_group2, not_seven])"
   ]
  },
  {
   "cell_type": "code",
   "execution_count": 25,
   "metadata": {},
   "outputs": [
    {
     "data": {
      "text/plain": [
       "62-element Vector{Vector{Int64}}:\n",
       " [0, 1, 3, 4]\n",
       " [0, 1, 8, 9]\n",
       " [0, 1, 8, 10]\n",
       " [0, 1, 8, 11]\n",
       " [0, 1, 8, 12]\n",
       " [0, 1, 8, 13]\n",
       " [0, 1, 9, 10]\n",
       " [0, 1, 9, 11]\n",
       " [0, 1, 9, 12]\n",
       " [0, 1, 9, 13]\n",
       " [0, 1, 10, 11]\n",
       " [0, 1, 10, 12]\n",
       " [0, 1, 10, 13]\n",
       " ⋮\n",
       " [0, 9, 11, 13]\n",
       " [0, 9, 11, 14]\n",
       " [0, 9, 12, 13]\n",
       " [0, 9, 12, 14]\n",
       " [0, 9, 13, 14]\n",
       " [0, 10, 11, 13]\n",
       " [0, 10, 11, 14]\n",
       " [0, 10, 12, 13]\n",
       " [0, 10, 12, 14]\n",
       " [0, 10, 13, 14]\n",
       " [0, 11, 12, 14]\n",
       " [0, 11, 13, 14]"
      ]
     },
     "execution_count": 25,
     "metadata": {},
     "output_type": "execute_result"
    }
   ],
   "source": [
    "after_step1=step_one(scenarios, fourteenN4_outside)\n",
    "after_step2=step_two(all14N_4, total_insideG, after_step1)\n",
    "after_step3=step_three(total_outsideG, after_step2)\n",
    "after_step4=step_four(step4_D, after_step3)\n",
    "\n",
    "\n",
    "save_object(\"14N2_still_life_3+1.jld2\",after_step4)\n",
    "after_step4 #checked! visually!"
   ]
  },
  {
   "cell_type": "markdown",
   "metadata": {},
   "source": [
    "# 5. 14N_2 (3)\n",
    "### Three neighborhoods have same numbering for all groups"
   ]
  },
  {
   "cell_type": "code",
   "execution_count": 26,
   "metadata": {},
   "outputs": [
    {
     "data": {
      "text/plain": [
       "364-element Vector{Vector{Int64}}:\n",
       " [0, 1, 2, 3]\n",
       " [0, 1, 2, 4]\n",
       " [0, 1, 2, 5]\n",
       " [0, 1, 2, 6]\n",
       " [0, 1, 2, 7]\n",
       " [0, 1, 2, 8]\n",
       " [0, 1, 2, 9]\n",
       " [0, 1, 2, 10]\n",
       " [0, 1, 2, 11]\n",
       " [0, 1, 2, 12]\n",
       " [0, 1, 2, 13]\n",
       " [0, 1, 2, 14]\n",
       " [0, 1, 3, 4]\n",
       " ⋮\n",
       " [0, 9, 12, 14]\n",
       " [0, 9, 13, 14]\n",
       " [0, 10, 11, 12]\n",
       " [0, 10, 11, 13]\n",
       " [0, 10, 11, 14]\n",
       " [0, 10, 12, 13]\n",
       " [0, 10, 12, 14]\n",
       " [0, 10, 13, 14]\n",
       " [0, 11, 12, 13]\n",
       " [0, 11, 12, 14]\n",
       " [0, 11, 13, 14]\n",
       " [0, 12, 13, 14]"
      ]
     },
     "execution_count": 26,
     "metadata": {},
     "output_type": "execute_result"
    }
   ],
   "source": [
    "scenarios=all_configuration(14)"
   ]
  },
  {
   "cell_type": "code",
   "execution_count": 27,
   "metadata": {},
   "outputs": [
    {
     "data": {
      "text/plain": [
       "30-element Vector{Vector{Int64}}:\n",
       " [1, 2, 14]\n",
       " [2, 3, 4]\n",
       " [10, 11, 12]\n",
       " [4, 5, 6]\n",
       " [5, 6, 7]\n",
       " [6, 7, 8]\n",
       " [7, 8, 9]\n",
       " [8, 9, 10]\n",
       " [12, 13, 14]\n",
       " [14, 1, 2]\n",
       " [14, 1, 3]\n",
       " [14, 1, 4]\n",
       " [14, 2, 3]\n",
       " ⋮\n",
       " [2, 3, 5]\n",
       " [2, 4, 5]\n",
       " [3, 4, 5]\n",
       " [9, 10, 11]\n",
       " [9, 10, 12]\n",
       " [9, 11, 12]\n",
       " [10, 11, 13]\n",
       " [10, 12, 13]\n",
       " [11, 12, 13]\n",
       " [1, 2, 13]\n",
       " [1, 13, 14]\n",
       " [2, 13, 14]"
      ]
     },
     "execution_count": 27,
     "metadata": {},
     "output_type": "execute_result"
    }
   ],
   "source": [
    "s1=[[1,2,14],[2,3,4],[10,11,12],[4,5,6],[5,6,7],[6,7,8],[7,8,9],[8,9,10],[12,13,14]]\n",
    "s2=collect(combinations([14,1,2,3,4],3))\n",
    "s3=collect(combinations([2,3,4,5],3))\n",
    "s4=collect(combinations([9,10,11,12],3))\n",
    "s5=collect(combinations([10,11,12,13],3))\n",
    "s6=collect(combinations([1,2,13,14],3))\n",
    "O=union(s1,s2,s3,s4, s5, s6)"
   ]
  },
  {
   "cell_type": "code",
   "execution_count": 28,
   "metadata": {},
   "outputs": [
    {
     "data": {
      "text/plain": [
       "Dict{Int64, Vector{Vector{Int64}}} with 3 entries:\n",
       "  2 => [[1, 2], [4, 5, 6, 7, 8, 9, 10, 11], [12, 13, 14, 0]]\n",
       "  3 => [[3, 4, 5, 6, 7, 8, 9, 10], [1, 12, 13, 14], [2, 0]]\n",
       "  1 => [[2, 3], [11, 12, 13, 14], [4, 5, 6, 7, 8, 9, 10, 0]]"
      ]
     },
     "execution_count": 28,
     "metadata": {},
     "output_type": "execute_result"
    }
   ],
   "source": [
    "#Lists\n",
    "all14N_1=[1,2,3,4,5,6,7,8,9,10,11,12,13,14,0]\n",
    "#configuration that share outside neighbor\n",
    "fourteenN1_outside=O\n",
    "\n",
    "#inside vertex group\n",
    "i_1 = [0,1,2,3]\n",
    "i_2=[0,3,4,5,6,7,8,9,10,11]\n",
    "i_3=[0,1,11,12,13,14]\n",
    "total_insideG=[i_1, i_2, i_3]\n",
    "\n",
    "\n",
    "#outside vertex group\n",
    "o_1=[1,2,14]\n",
    "o_2=[2,3,4]\n",
    "o_3=[10,11,12]\n",
    "total_outsideG=[o_1, o_2, o_3]\n",
    "\n",
    "#each tile's neighbor as a set\n",
    "one=union(o_1,i_1,i_3)\n",
    "two=union(o_1,i_1,o_2)\n",
    "three=union(i_1,o_2,i_2)\n",
    "four=union(o_2,i_2)\n",
    "five=i_2\n",
    "six=i_2\n",
    "seven=i_2\n",
    "eight=i_2\n",
    "nine=i_2\n",
    "ten=union(i_2,o_3)\n",
    "eleven=union(i_2,o_3,i_3)\n",
    "twelve=union(i_3,o_3)\n",
    "thirteen=i_3\n",
    "fourteen=union(o_1,i_3)\n",
    "\n",
    "\n",
    "one=deleteat!(sort(one),1);two=deleteat!(sort(two),1);three=deleteat!(sort(three),1);four=deleteat!(sort(four),1);\n",
    "five=deleteat!(sort(five),1);six=deleteat!(sort(six),1);seven=deleteat!(sort(seven),1);eight=deleteat!(sort(eight),1);\n",
    "nine=deleteat!(sort(nine),1);ten=deleteat!(sort(ten),1);eleven=deleteat!(sort(eleven),1);twelve=deleteat!(sort(twelve),1);\n",
    "thirteen=deleteat!(sort(thirteen),1);fourteen=deleteat!(sort(fourteen),1);\n",
    "\n",
    "\n",
    "#not group\n",
    "not_one=setdiff(all14N_1, one)\n",
    "not_two=setdiff(all14N_1, two)\n",
    "not_three=setdiff(all14N_1, three)\n",
    "not_four=setdiff(all14N_1, four)\n",
    "not_five=setdiff(all14N_1, five)\n",
    "not_six=setdiff(all14N_1, six)\n",
    "not_seven=setdiff(all14N_1, seven)\n",
    "not_eight=setdiff(all14N_1, eight)\n",
    "not_nine=setdiff(all14N_1, nine)\n",
    "not_ten=setdiff(all14N_1, ten)\n",
    "not_eleven=setdiff(all14N_1, eleven)\n",
    "not_twelve=setdiff(all14N_1, twelve)\n",
    "not_thirteen=setdiff(all14N_1, thirteen)\n",
    "not_fourteen=setdiff(all14N_1, fourteen)\n",
    "\n",
    "\n",
    "num_to_string=Dict(1 => one, 2 => two, 3 => three, 4 => four, 5=> five, 6=>six, 7=>seven, 8=>eight, 9=>nine, 10=>ten, 11=>eleven, 12=>twelve, 13=>thirteen, 14=>fourteen)\n",
    "num_to_string_not=Dict(1 => not_one, 2 => not_two, 3 => not_three, 4 => not_four, 5=> not_five, 6=>not_six, 7=>not_seven, 8=>not_eight, 9=>not_nine, 10=>not_ten, 11=>not_eleven, 12=>not_twelve,13=>not_thirteen, 14=>not_fourteen)\n",
    "\n",
    "#three tiles that are memeber of two inside vertex groups\n",
    "one_group1=[2,3]\n",
    "one_group2=[11,12,13,14]\n",
    "\n",
    "three_group1=[1,2]\n",
    "three_group2=[4,5,6,7,8,9,10,11]\n",
    "\n",
    "eleven_group1=[3,4,5,6,7,8,9,10]\n",
    "eleven_group2=[1,12,13,14]\n",
    "step4_D=Dict(1=>[one_group1,one_group2,not_one], 2=>[three_group1,three_group2,not_three], 3=>[eleven_group1, eleven_group2, not_eleven])"
   ]
  },
  {
   "cell_type": "code",
   "execution_count": 29,
   "metadata": {},
   "outputs": [
    {
     "data": {
      "text/plain": [
       "62-element Vector{Vector{Int64}}:\n",
       " [0, 1, 12, 13]\n",
       " [0, 3, 5, 6]\n",
       " [0, 3, 5, 7]\n",
       " [0, 3, 5, 8]\n",
       " [0, 3, 5, 9]\n",
       " [0, 3, 5, 10]\n",
       " [0, 3, 6, 7]\n",
       " [0, 3, 6, 8]\n",
       " [0, 3, 6, 9]\n",
       " [0, 3, 6, 10]\n",
       " [0, 3, 7, 8]\n",
       " [0, 3, 7, 9]\n",
       " [0, 3, 7, 10]\n",
       " ⋮\n",
       " [0, 6, 7, 11]\n",
       " [0, 6, 8, 9]\n",
       " [0, 6, 8, 10]\n",
       " [0, 6, 8, 11]\n",
       " [0, 6, 9, 10]\n",
       " [0, 6, 9, 11]\n",
       " [0, 7, 8, 10]\n",
       " [0, 7, 8, 11]\n",
       " [0, 7, 9, 10]\n",
       " [0, 7, 9, 11]\n",
       " [0, 8, 9, 11]\n",
       " [0, 11, 13, 14]"
      ]
     },
     "execution_count": 29,
     "metadata": {},
     "output_type": "execute_result"
    }
   ],
   "source": [
    "after_step1=step_one(scenarios, fourteenN1_outside)\n",
    "after_step2=step_two(all14N_1, total_insideG, after_step1)\n",
    "after_step3=step_three(total_outsideG, after_step2)\n",
    "after_step4=step_four(step4_D, after_step3)\n",
    "\n",
    "\n",
    "save_object(\"14N_still_life_3+1.jld2\",after_step4)\n",
    "after_step4 #checked! visually. "
   ]
  },
  {
   "cell_type": "markdown",
   "metadata": {},
   "source": [
    "# 6. 16N_1 (3)"
   ]
  },
  {
   "cell_type": "code",
   "execution_count": 30,
   "metadata": {},
   "outputs": [
    {
     "data": {
      "text/plain": [
       "560-element Vector{Vector{Int64}}:\n",
       " [0, 1, 2, 3]\n",
       " [0, 1, 2, 4]\n",
       " [0, 1, 2, 5]\n",
       " [0, 1, 2, 6]\n",
       " [0, 1, 2, 7]\n",
       " [0, 1, 2, 8]\n",
       " [0, 1, 2, 9]\n",
       " [0, 1, 2, 10]\n",
       " [0, 1, 2, 11]\n",
       " [0, 1, 2, 12]\n",
       " [0, 1, 2, 13]\n",
       " [0, 1, 2, 14]\n",
       " [0, 1, 2, 15]\n",
       " ⋮\n",
       " [0, 11, 14, 16]\n",
       " [0, 11, 15, 16]\n",
       " [0, 12, 13, 14]\n",
       " [0, 12, 13, 15]\n",
       " [0, 12, 13, 16]\n",
       " [0, 12, 14, 15]\n",
       " [0, 12, 14, 16]\n",
       " [0, 12, 15, 16]\n",
       " [0, 13, 14, 15]\n",
       " [0, 13, 14, 16]\n",
       " [0, 13, 15, 16]\n",
       " [0, 14, 15, 16]"
      ]
     },
     "execution_count": 30,
     "metadata": {},
     "output_type": "execute_result"
    }
   ],
   "source": [
    "scenarios=all_configuration(16)"
   ]
  },
  {
   "cell_type": "code",
   "execution_count": 31,
   "metadata": {},
   "outputs": [
    {
     "data": {
      "text/plain": [
       "29-element Vector{Vector{Int64}}:\n",
       " [1, 2, 16]\n",
       " [8, 9, 10]\n",
       " [12, 13, 14]\n",
       " [2, 3, 4]\n",
       " [3, 4, 5]\n",
       " [4, 5, 6]\n",
       " [5, 6, 7]\n",
       " [6, 7, 8]\n",
       " [10, 11, 12]\n",
       " [14, 15, 16]\n",
       " [16, 1, 2]\n",
       " [16, 1, 3]\n",
       " [16, 2, 3]\n",
       " ⋮\n",
       " [8, 9, 11]\n",
       " [8, 10, 11]\n",
       " [9, 10, 11]\n",
       " [11, 12, 13]\n",
       " [11, 12, 14]\n",
       " [11, 13, 14]\n",
       " [12, 13, 15]\n",
       " [12, 14, 15]\n",
       " [13, 14, 15]\n",
       " [1, 2, 15]\n",
       " [1, 15, 16]\n",
       " [2, 15, 16]"
      ]
     },
     "execution_count": 31,
     "metadata": {},
     "output_type": "execute_result"
    }
   ],
   "source": [
    "s1=[[1,2,16],[8,9,10],[12,13,14],[2,3,4],[3,4,5],[4,5,6],[5,6,7],[6,7,8],[10,11,12],[14,15,16]]\n",
    "s2=collect(combinations([16,1,2,3],3))\n",
    "s3=collect(combinations([7,8,9,10],3))\n",
    "s4=collect(combinations([8,9,10,11],3))\n",
    "s5=collect(combinations([11,12,13,14],3))\n",
    "s6=collect(combinations([12,13,14,15],3))\n",
    "s7=collect(combinations([1,2,15,16],3))\n",
    "O=union(s1,s2,s3,s4, s5, s6, s7)"
   ]
  },
  {
   "cell_type": "code",
   "execution_count": 32,
   "metadata": {},
   "outputs": [
    {
     "data": {
      "text/plain": [
       "Dict{Int64, Vector{Vector{Int64}}} with 3 entries:\n",
       "  2 => [[1, 2, 3, 4, 5, 6, 7, 8], [10, 11, 12, 13], [14, 15, 16, 0]]\n",
       "  3 => [[9, 10, 11, 12], [1, 14, 15, 16], [2, 3, 4, 5, 6, 7, 8, 0]]\n",
       "  1 => [[2, 3, 4, 5, 6, 7, 8, 9], [13, 14, 15, 16], [10, 11, 12, 0]]"
      ]
     },
     "execution_count": 32,
     "metadata": {},
     "output_type": "execute_result"
    }
   ],
   "source": [
    "#Lists\n",
    "all16N_1=[1,2,3,4,5,6,7,8,9,10,11,12,13,14,15,16,0]\n",
    "#configuration that share outside neighbor\n",
    "sixteenN1_outside=O\n",
    "\n",
    "#inside vertex group\n",
    "i_1 = [0,1,2,3,4,5,6,7,8,9]\n",
    "i_2=[0,9,10,11,12,13]\n",
    "i_3=[0,1,13,14,15,16]\n",
    "total_insideG=[i_1, i_2, i_3]\n",
    "\n",
    "\n",
    "#outside vertex group\n",
    "o_1=[1,2,16]\n",
    "o_2=[8,9,10]\n",
    "o_3=[12,13,14]\n",
    "total_outsideG=[o_1, o_2, o_3]\n",
    "\n",
    "#each tile's neighbor as a set\n",
    "one=union(o_1,i_1,i_3)\n",
    "two=union(o_1,i_1)\n",
    "three=i_1\n",
    "four=i_1\n",
    "five=i_1\n",
    "six=i_1\n",
    "seven=i_1\n",
    "eight=union(i_1,o_2)\n",
    "nine=union(o_2,i_1,i_2)\n",
    "ten=union(o_2,i_2)\n",
    "eleven=i_2\n",
    "twelve=union(i_2,o_3)\n",
    "thirteen=union(o_3,i_3,i_2)\n",
    "fourteen=union(o_3,i_3)\n",
    "fifteen=i_3\n",
    "sixteen=union(o_1,i_3)\n",
    "\n",
    "\n",
    "\n",
    "one=deleteat!(sort(one),1);two=deleteat!(sort(two),1);three=deleteat!(sort(three),1);four=deleteat!(sort(four),1);\n",
    "five=deleteat!(sort(five),1);six=deleteat!(sort(six),1);seven=deleteat!(sort(seven),1);eight=deleteat!(sort(eight),1);\n",
    "nine=deleteat!(sort(nine),1);ten=deleteat!(sort(ten),1);eleven=deleteat!(sort(eleven),1);twelve=deleteat!(sort(twelve),1);\n",
    "thirteen=deleteat!(sort(thirteen),1);fourteen=deleteat!(sort(fourteen),1);\n",
    "fifteen=deleteat!(sort(fifteen),1);sixteen=deleteat!(sort(sixteen),1)\n",
    "\n",
    "\n",
    "#not group\n",
    "not_one=setdiff(all16N_1, one)\n",
    "not_two=setdiff(all16N_1, two)\n",
    "not_three=setdiff(all16N_1, three)\n",
    "not_four=setdiff(all16N_1, four)\n",
    "not_five=setdiff(all16N_1, five)\n",
    "not_six=setdiff(all16N_1, six)\n",
    "not_seven=setdiff(all16N_1, seven)\n",
    "not_eight=setdiff(all16N_1, eight)\n",
    "not_nine=setdiff(all16N_1, nine)\n",
    "not_ten=setdiff(all16N_1, ten)\n",
    "not_eleven=setdiff(all16N_1, eleven)\n",
    "not_twelve=setdiff(all16N_1, twelve)\n",
    "not_thirteen=setdiff(all16N_1, thirteen)\n",
    "not_fourteen=setdiff(all16N_1, fourteen)\n",
    "not_fifteen=setdiff(all16N_1, fifteen)\n",
    "not_sixteen=setdiff(all16N_1, sixteen)\n",
    "\n",
    "num_to_string=Dict(1 => one, 2 => two, 3 => three, 4 => four, 5=> five, 6=>six, 7=>seven, 8=>eight, 9=>nine, 10=>ten, 11=>eleven, 12=>twelve, 13=>thirteen, 14=>fourteen,15=>fifteen, 16=>sixteen)\n",
    "num_to_string_not=Dict(1 => not_one, 2 => not_two, 3 => not_three, 4 => not_four, 5=> not_five, 6=>not_six, 7=>not_seven, 8=>not_eight, 9=>not_nine, 10=>not_ten, 11=>not_eleven, 12=>not_twelve,13=>not_thirteen, 14=>not_fourteen,15=>not_fifteen, 16=>not_sixteen)\n",
    "\n",
    "#three tiles that are memeber of two inside vertex groups\n",
    "one_group1=[2,3,4,5,6,7,8,9]\n",
    "one_group2=[13,14,15,16]\n",
    "\n",
    "nine_group1=[1,2,3,4,5,6,7,8]\n",
    "nine_group2=[10,11,12,13]\n",
    "\n",
    "thirteen_group1=[9,10,11,12]\n",
    "thirteen_group2=[1,14,15,16]\n",
    "step4_D=Dict(1=>[one_group1,one_group2,not_one], 2=>[nine_group1,nine_group2,not_nine], 3=>[thirteen_group1, thirteen_group2, not_thirteen])"
   ]
  },
  {
   "cell_type": "code",
   "execution_count": 33,
   "metadata": {},
   "outputs": [
    {
     "data": {
      "text/plain": [
       "64-element Vector{Vector{Int64}}:\n",
       " [0, 1, 3, 4]\n",
       " [0, 1, 3, 5]\n",
       " [0, 1, 3, 6]\n",
       " [0, 1, 3, 7]\n",
       " [0, 1, 3, 8]\n",
       " [0, 1, 4, 5]\n",
       " [0, 1, 4, 6]\n",
       " [0, 1, 4, 7]\n",
       " [0, 1, 4, 8]\n",
       " [0, 1, 5, 6]\n",
       " [0, 1, 5, 7]\n",
       " [0, 1, 5, 8]\n",
       " [0, 1, 6, 7]\n",
       " ⋮\n",
       " [0, 4, 6, 8]\n",
       " [0, 4, 6, 9]\n",
       " [0, 4, 7, 8]\n",
       " [0, 4, 7, 9]\n",
       " [0, 5, 6, 8]\n",
       " [0, 5, 6, 9]\n",
       " [0, 5, 7, 8]\n",
       " [0, 5, 7, 9]\n",
       " [0, 6, 7, 9]\n",
       " [0, 9, 11, 12]\n",
       " [0, 10, 11, 13]\n",
       " [0, 13, 15, 16]"
      ]
     },
     "execution_count": 33,
     "metadata": {},
     "output_type": "execute_result"
    }
   ],
   "source": [
    "after_step1=step_one(scenarios, sixteenN1_outside)\n",
    "after_step2=step_two(all16N_1, total_insideG, after_step1)\n",
    "after_step3=step_three(total_outsideG, after_step2)\n",
    "after_step4=step_four(step4_D, after_step3)\n",
    "\n",
    "save_object(\"16N1_still_life_3+1.jld2\",after_step4)\n",
    "after_step4 #checked! visually!"
   ]
  },
  {
   "cell_type": "markdown",
   "metadata": {},
   "source": [
    "# 7. 16N_2"
   ]
  },
  {
   "cell_type": "code",
   "execution_count": 34,
   "metadata": {},
   "outputs": [
    {
     "data": {
      "text/plain": [
       "560-element Vector{Vector{Int64}}:\n",
       " [0, 1, 2, 3]\n",
       " [0, 1, 2, 4]\n",
       " [0, 1, 2, 5]\n",
       " [0, 1, 2, 6]\n",
       " [0, 1, 2, 7]\n",
       " [0, 1, 2, 8]\n",
       " [0, 1, 2, 9]\n",
       " [0, 1, 2, 10]\n",
       " [0, 1, 2, 11]\n",
       " [0, 1, 2, 12]\n",
       " [0, 1, 2, 13]\n",
       " [0, 1, 2, 14]\n",
       " [0, 1, 2, 15]\n",
       " ⋮\n",
       " [0, 11, 14, 16]\n",
       " [0, 11, 15, 16]\n",
       " [0, 12, 13, 14]\n",
       " [0, 12, 13, 15]\n",
       " [0, 12, 13, 16]\n",
       " [0, 12, 14, 15]\n",
       " [0, 12, 14, 16]\n",
       " [0, 12, 15, 16]\n",
       " [0, 13, 14, 15]\n",
       " [0, 13, 14, 16]\n",
       " [0, 13, 15, 16]\n",
       " [0, 14, 15, 16]"
      ]
     },
     "execution_count": 34,
     "metadata": {},
     "output_type": "execute_result"
    }
   ],
   "source": [
    "scenarios=all_configuration(16)"
   ]
  },
  {
   "cell_type": "code",
   "execution_count": 35,
   "metadata": {},
   "outputs": [
    {
     "data": {
      "text/plain": [
       "32-element Vector{Vector{Int64}}:\n",
       " [1, 2, 16]\n",
       " [8, 9, 10]\n",
       " [10, 11, 12]\n",
       " [2, 3, 4]\n",
       " [3, 4, 5]\n",
       " [4, 5, 6]\n",
       " [5, 6, 7]\n",
       " [6, 7, 8]\n",
       " [12, 13, 14]\n",
       " [13, 14, 15]\n",
       " [14, 15, 16]\n",
       " [16, 1, 2]\n",
       " [16, 1, 3]\n",
       " ⋮\n",
       " [8, 10, 11]\n",
       " [8, 10, 12]\n",
       " [8, 11, 12]\n",
       " [9, 10, 11]\n",
       " [9, 10, 12]\n",
       " [9, 11, 12]\n",
       " [10, 11, 13]\n",
       " [10, 12, 13]\n",
       " [11, 12, 13]\n",
       " [1, 2, 15]\n",
       " [1, 15, 16]\n",
       " [2, 15, 16]"
      ]
     },
     "execution_count": 35,
     "metadata": {},
     "output_type": "execute_result"
    }
   ],
   "source": [
    "s1=[[1,2,16],[8,9,10],[10,11,12],[2,3,4],[3,4,5],[4,5,6],[5,6,7],[6,7,8],[12,13,14],[13,14,15],[14,15,16]]\n",
    "s2=collect(combinations([16,1,2,3],3))\n",
    "s3=collect(combinations([7,8,9,10],3))\n",
    "s4=collect(combinations([8,9,10,11,12],3))\n",
    "s5=collect(combinations([10,11,12,13],3))\n",
    "s6=collect(combinations([1,2,15,16],3))\n",
    "O=union(s1,s2,s3,s4, s5, s6)"
   ]
  },
  {
   "cell_type": "code",
   "execution_count": 36,
   "metadata": {},
   "outputs": [
    {
     "data": {
      "text/plain": [
       "Dict{Int64, Vector{Vector{Int64}}} with 3 entries:\n",
       "  2 => [[1, 2, 3, 4, 5, 6, 7, 8], [10, 11], [12, 13, 14, 15, 16, 0]]\n",
       "  3 => [[9, 10], [1, 12, 13, 14, 15, 16], [2, 3, 4, 5, 6, 7, 8, 0]]\n",
       "  1 => [[2, 3, 4, 5, 6, 7, 8, 9], [11, 12, 13, 14, 15, 16], [10, 0]]"
      ]
     },
     "execution_count": 36,
     "metadata": {},
     "output_type": "execute_result"
    }
   ],
   "source": [
    "#Lists\n",
    "all16N_4=[1,2,3,4,5,6,7,8,9,10,11,12,13,14,15,16,0]\n",
    "#configuration that share outside neighbor\n",
    "sixteenN4_outside=O\n",
    "\n",
    "#inside vertex group\n",
    "i_1 = [0,1,2,3,4,5,6,7,8,9]\n",
    "i_2=[0,9,10,11]\n",
    "i_3=[0,1,11,12,13,14,15,16]\n",
    "total_insideG=[i_1, i_2, i_3]\n",
    "\n",
    "\n",
    "#outside vertex group\n",
    "o_1=[1,2,16]\n",
    "o_2=[8,9,10]\n",
    "o_3=[10,11,12]\n",
    "total_outsideG=[o_1, o_2, o_3]\n",
    "\n",
    "#each tile's neighbor as a set\n",
    "one=union(o_1,i_1,i_3)\n",
    "two=union(o_1,i_1)\n",
    "three=i_1\n",
    "four=i_1\n",
    "five=i_1\n",
    "six=i_1\n",
    "seven=i_1\n",
    "eight=union(i_1,o_2)\n",
    "nine=union(o_2,i_1,i_2)\n",
    "ten=union(o_2,i_2,o_3)\n",
    "eleven=union(i_2, i_3, o_3)\n",
    "twelve=union(i_3,o_3)\n",
    "thirteen=i_3\n",
    "fourteen=i_3\n",
    "fifteen=i_3\n",
    "sixteen=union(o_1,i_3)\n",
    "\n",
    "\n",
    "\n",
    "one=deleteat!(sort(one),1);two=deleteat!(sort(two),1);three=deleteat!(sort(three),1);four=deleteat!(sort(four),1);\n",
    "five=deleteat!(sort(five),1);six=deleteat!(sort(six),1);seven=deleteat!(sort(seven),1);eight=deleteat!(sort(eight),1);\n",
    "nine=deleteat!(sort(nine),1);ten=deleteat!(sort(ten),1);eleven=deleteat!(sort(eleven),1);twelve=deleteat!(sort(twelve),1);\n",
    "thirteen=deleteat!(sort(thirteen),1);fourteen=deleteat!(sort(fourteen),1);\n",
    "fifteen=deleteat!(sort(fifteen),1);sixteen=deleteat!(sort(sixteen),1)\n",
    "\n",
    "\n",
    "#not group\n",
    "not_one=setdiff(all16N_4, one)\n",
    "not_two=setdiff(all16N_4, two)\n",
    "not_three=setdiff(all16N_4, three)\n",
    "not_four=setdiff(all16N_4, four)\n",
    "not_five=setdiff(all16N_4, five)\n",
    "not_six=setdiff(all16N_4, six)\n",
    "not_seven=setdiff(all16N_4, seven)\n",
    "not_eight=setdiff(all16N_4, eight)\n",
    "not_nine=setdiff(all16N_4, nine)\n",
    "not_ten=setdiff(all16N_4, ten)\n",
    "not_eleven=setdiff(all16N_4, eleven)\n",
    "not_twelve=setdiff(all16N_4, twelve)\n",
    "not_thirteen=setdiff(all16N_4, thirteen)\n",
    "not_fourteen=setdiff(all16N_4, fourteen)\n",
    "not_fifteen=setdiff(all16N_4, fifteen)\n",
    "not_sixteen=setdiff(all16N_4, sixteen)\n",
    "\n",
    "num_to_string=Dict(1 => one, 2 => two, 3 => three, 4 => four, 5=> five, 6=>six, 7=>seven, 8=>eight, 9=>nine, 10=>ten, 11=>eleven, 12=>twelve, 13=>thirteen, 14=>fourteen,15=>fifteen, 16=>sixteen)\n",
    "num_to_string_not=Dict(1 => not_one, 2 => not_two, 3 => not_three, 4 => not_four, 5=> not_five, 6=>not_six, 7=>not_seven, 8=>not_eight, 9=>not_nine, 10=>not_ten, 11=>not_eleven, 12=>not_twelve,13=>not_thirteen, 14=>not_fourteen,15=>not_fifteen, 16=>not_sixteen)\n",
    "\n",
    "#three tiles that are memeber of two inside vertex groups\n",
    "one_group1=[2,3,4,5,6,7,8,9]\n",
    "one_group2=[11,12,13,14,15,16]\n",
    "\n",
    "nine_group1=[1,2,3,4,5,6,7,8]\n",
    "nine_group2=[10,11]\n",
    "\n",
    "eleven_group1=[9,10]\n",
    "eleven_group2=[1,12,13,14,15,16]\n",
    "step4_D=Dict(1=>[one_group1,one_group2,not_one], 2=>[nine_group1,nine_group2,not_nine], 3=>[eleven_group1, eleven_group2, not_eleven])"
   ]
  },
  {
   "cell_type": "code",
   "execution_count": 37,
   "metadata": {},
   "outputs": [
    {
     "data": {
      "text/plain": [
       "79-element Vector{Vector{Int64}}:\n",
       " [0, 1, 3, 4]\n",
       " [0, 1, 3, 5]\n",
       " [0, 1, 3, 6]\n",
       " [0, 1, 3, 7]\n",
       " [0, 1, 3, 8]\n",
       " [0, 1, 4, 5]\n",
       " [0, 1, 4, 6]\n",
       " [0, 1, 4, 7]\n",
       " [0, 1, 4, 8]\n",
       " [0, 1, 5, 6]\n",
       " [0, 1, 5, 7]\n",
       " [0, 1, 5, 8]\n",
       " [0, 1, 6, 7]\n",
       " ⋮\n",
       " [0, 11, 13, 15]\n",
       " [0, 11, 13, 16]\n",
       " [0, 11, 14, 15]\n",
       " [0, 11, 14, 16]\n",
       " [0, 11, 15, 16]\n",
       " [0, 12, 13, 15]\n",
       " [0, 12, 13, 16]\n",
       " [0, 12, 14, 15]\n",
       " [0, 12, 14, 16]\n",
       " [0, 12, 15, 16]\n",
       " [0, 13, 14, 16]\n",
       " [0, 13, 15, 16]"
      ]
     },
     "execution_count": 37,
     "metadata": {},
     "output_type": "execute_result"
    }
   ],
   "source": [
    "after_step1=step_one(scenarios, sixteenN4_outside)\n",
    "after_step2=step_two(all16N_4, total_insideG, after_step1)\n",
    "after_step3=step_three(total_outsideG, after_step2)\n",
    "after_step4=step_four(step4_D, after_step3)\n",
    "\n",
    "save_object(\"16N2_still_life_3+1.jld2\",after_step4)\n",
    "after_step4 #checked! visually"
   ]
  },
  {
   "cell_type": "markdown",
   "metadata": {},
   "source": [
    "# 8. 18N_1"
   ]
  },
  {
   "cell_type": "code",
   "execution_count": 38,
   "metadata": {},
   "outputs": [
    {
     "data": {
      "text/plain": [
       "816-element Vector{Vector{Int64}}:\n",
       " [0, 1, 2, 3]\n",
       " [0, 1, 2, 4]\n",
       " [0, 1, 2, 5]\n",
       " [0, 1, 2, 6]\n",
       " [0, 1, 2, 7]\n",
       " [0, 1, 2, 8]\n",
       " [0, 1, 2, 9]\n",
       " [0, 1, 2, 10]\n",
       " [0, 1, 2, 11]\n",
       " [0, 1, 2, 12]\n",
       " [0, 1, 2, 13]\n",
       " [0, 1, 2, 14]\n",
       " [0, 1, 2, 15]\n",
       " ⋮\n",
       " [0, 13, 16, 18]\n",
       " [0, 13, 17, 18]\n",
       " [0, 14, 15, 16]\n",
       " [0, 14, 15, 17]\n",
       " [0, 14, 15, 18]\n",
       " [0, 14, 16, 17]\n",
       " [0, 14, 16, 18]\n",
       " [0, 14, 17, 18]\n",
       " [0, 15, 16, 17]\n",
       " [0, 15, 16, 18]\n",
       " [0, 15, 17, 18]\n",
       " [0, 16, 17, 18]"
      ]
     },
     "execution_count": 38,
     "metadata": {},
     "output_type": "execute_result"
    }
   ],
   "source": [
    "scenarios=all_configuration(18)"
   ]
  },
  {
   "cell_type": "code",
   "execution_count": 39,
   "metadata": {},
   "outputs": [
    {
     "data": {
      "text/plain": [
       "32-element Vector{Vector{Int64}}:\n",
       " [1, 2, 18]\n",
       " [8, 9, 10]\n",
       " [10, 11, 12]\n",
       " [2, 3, 4]\n",
       " [3, 4, 5]\n",
       " [4, 5, 6]\n",
       " [5, 6, 7]\n",
       " [6, 7, 8]\n",
       " [12, 13, 14]\n",
       " [13, 14, 15]\n",
       " [14, 15, 16]\n",
       " [15, 16, 17]\n",
       " [16, 17, 18]\n",
       " ⋮\n",
       " [7, 9, 10]\n",
       " [8, 9, 11]\n",
       " [8, 9, 12]\n",
       " [8, 10, 11]\n",
       " [8, 10, 12]\n",
       " [8, 11, 12]\n",
       " [9, 10, 11]\n",
       " [9, 10, 12]\n",
       " [9, 11, 12]\n",
       " [10, 11, 13]\n",
       " [10, 12, 13]\n",
       " [11, 12, 13]"
      ]
     },
     "execution_count": 39,
     "metadata": {},
     "output_type": "execute_result"
    }
   ],
   "source": [
    "s1=[[1,2,18],[8,9,10],[10,11,12],[2,3,4],[3,4,5],[4,5,6],[5,6,7],[6,7,8],[12,13,14],[13,14,15],[14,15,16],[15,16,17],[16,17,18],[1,17,18]]\n",
    "s2=collect(combinations([18,1,2,3],3))\n",
    "s3=collect(combinations([7,8,9,10],3))\n",
    "s4=collect(combinations([8,9,10,11,12],3))\n",
    "s5=collect(combinations([10,11,12,13],3))\n",
    "O=union(s1,s2,s3,s4, s5)"
   ]
  },
  {
   "cell_type": "code",
   "execution_count": 40,
   "metadata": {},
   "outputs": [
    {
     "data": {
      "text/plain": [
       "Dict{Int64, Vector{Vector{Int64}}} with 3 entries:\n",
       "  2 => [[1, 2, 3, 4, 5, 6, 7, 8], [10, 11], [12, 13, 14, 15, 16, 17, 18, 0]]\n",
       "  3 => [[9, 10], [1, 12, 13, 14, 15, 16, 17, 18], [2, 3, 4, 5, 6, 7, 8, 0]]\n",
       "  1 => [[2, 3, 4, 5, 6, 7, 8, 9], [11, 12, 13, 14, 15, 16, 17, 18], [10, 0]]"
      ]
     },
     "execution_count": 40,
     "metadata": {},
     "output_type": "execute_result"
    }
   ],
   "source": [
    "#Lists\n",
    "all18N_1=[1,2,3,4,5,6,7,8,9,10,11,12,13,14,15,16,17,18, 0]\n",
    "#configuration that share outside neighbor\n",
    "eighteenN1_outside=O\n",
    "\n",
    "#inside vertex group #this should be changed!! it is inside vertex group, naming is wrong, code is right\n",
    "i_1 = [0,1,2,3,4,5,6,7,8,9]\n",
    "i_2=[0,9,10,11]\n",
    "i_3=[0,1,11,12,13,14,15,16,17,18]\n",
    "total_insideG=[i_1, i_2, i_3]\n",
    "\n",
    "\n",
    "#outside vertex group\n",
    "o_1=[1,2,18]\n",
    "o_2=[8,9,10]\n",
    "o_3=[10,11,12]\n",
    "#i_4=[6,7,8]\n",
    "total_outsideG=[o_1, o_2, o_3]\n",
    "\n",
    "#each tile's neighbor as a set\n",
    "one=union(o_1,i_1,i_3)\n",
    "two=union(o_1,i_1)\n",
    "three=i_1\n",
    "four=i_1\n",
    "five=i_1\n",
    "six=i_1\n",
    "seven=i_1\n",
    "eight=union(o_2,i_1)\n",
    "nine=union(o_2,i_1,i_2)\n",
    "ten=union(o_2,i_2,o_3)\n",
    "eleven=union(o_3,i_2,i_3)\n",
    "twelve=union(o_3,i_3)\n",
    "thirteen=i_3\n",
    "fourteen=i_3\n",
    "fifteen=i_3\n",
    "sixteen=i_3\n",
    "seventeen=i_3\n",
    "eighteen=union(i_3,o_1)\n",
    "\n",
    "one=deleteat!(sort(one),1);two=deleteat!(sort(two),1);three=deleteat!(sort(three),1);four=deleteat!(sort(four),1);\n",
    "five=deleteat!(sort(five),1);six=deleteat!(sort(six),1);seven=deleteat!(sort(seven),1);eight=deleteat!(sort(eight),1);\n",
    "nine=deleteat!(sort(nine),1);ten=deleteat!(sort(ten),1);eleven=deleteat!(sort(eleven),1);twelve=deleteat!(sort(twelve),1);\n",
    "thirteen=deleteat!(sort(thirteen),1);fourteen=deleteat!(sort(fourteen),1);\n",
    "fifteen=deleteat!(sort(fifteen),1);sixteen=deleteat!(sort(sixteen),1);\n",
    "seventeen=deleteat!(sort(seventeen),1);eighteen=deleteat!(sort(eighteen),1)\n",
    "\n",
    "\n",
    "#not group\n",
    "not_one=setdiff(all18N_1, one)\n",
    "not_two=setdiff(all18N_1, two)\n",
    "not_three=setdiff(all18N_1, three)\n",
    "not_four=setdiff(all18N_1, four)\n",
    "not_five=setdiff(all18N_1, five)\n",
    "not_six=setdiff(all18N_1, six)\n",
    "not_seven=setdiff(all18N_1, seven)\n",
    "not_eight=setdiff(all18N_1, eight)\n",
    "not_nine=setdiff(all18N_1, nine)\n",
    "not_ten=setdiff(all18N_1, ten)\n",
    "not_eleven=setdiff(all18N_1, eleven)\n",
    "not_twelve=setdiff(all18N_1, twelve)\n",
    "not_thirteen=setdiff(all18N_1, thirteen)\n",
    "not_fourteen=setdiff(all18N_1, fourteen)\n",
    "not_fifteen=setdiff(all18N_1, fifteen)\n",
    "not_sixteen=setdiff(all18N_1, sixteen)\n",
    "not_seventeen=setdiff(all18N_1, seventeen)\n",
    "not_eighteen=setdiff(all18N_1, eighteen)\n",
    "\n",
    "num_to_string=Dict(1 => one, 2 => two, 3 => three, 4 => four, 5=> five, 6=>six, 7=>seven, 8=>eight, 9=>nine, 10=>ten, 11=>eleven, 12=>twelve, 13=>thirteen, 14=>fourteen, 15=>fifteen, 16=>sixteen, 17=>seventeen, 18=>eighteen)\n",
    "num_to_string_not=Dict(1 => not_one, 2 => not_two, 3 => not_three, 4 => not_four, 5=> not_five, 6=>not_six, 7=>not_seven, 8=>not_eight, 9=>not_nine, 10=>not_ten, 11=>not_eleven, 12=>not_twelve, 13=>not_thirteen, 14=>not_fourteen, 15=>not_fifteen, 16=>not_sixteen, 17=>not_seventeen, 18=>not_eighteen)\n",
    "\n",
    "#three tiles that are memeber of two inside vertex groups\n",
    "one_group1=[2,3,4,5,6,7,8,9]\n",
    "one_group2=[11,12,13,14,15,16,17,18]\n",
    "\n",
    "nine_group1=[1,2,3,4,5,6,7,8]\n",
    "nine_group2=[10,11]\n",
    "\n",
    "eleven_group1=[9,10]\n",
    "eleven_group2=[1,12,13,14,15,16,17,18]\n",
    "step4_D=Dict(1=>[one_group1,one_group2,not_one], 2=>[nine_group1,nine_group2,not_nine], 3=>[eleven_group1, eleven_group2, not_eleven])"
   ]
  },
  {
   "cell_type": "code",
   "execution_count": 41,
   "metadata": {},
   "outputs": [
    {
     "data": {
      "text/plain": [
       "120-element Vector{Vector{Int64}}:\n",
       " [0, 1, 3, 4]\n",
       " [0, 1, 3, 5]\n",
       " [0, 1, 3, 6]\n",
       " [0, 1, 3, 7]\n",
       " [0, 1, 3, 8]\n",
       " [0, 1, 4, 5]\n",
       " [0, 1, 4, 6]\n",
       " [0, 1, 4, 7]\n",
       " [0, 1, 4, 8]\n",
       " [0, 1, 5, 6]\n",
       " [0, 1, 5, 7]\n",
       " [0, 1, 5, 8]\n",
       " [0, 1, 6, 7]\n",
       " ⋮\n",
       " [0, 13, 15, 17]\n",
       " [0, 13, 15, 18]\n",
       " [0, 13, 16, 17]\n",
       " [0, 13, 16, 18]\n",
       " [0, 13, 17, 18]\n",
       " [0, 14, 15, 17]\n",
       " [0, 14, 15, 18]\n",
       " [0, 14, 16, 17]\n",
       " [0, 14, 16, 18]\n",
       " [0, 14, 17, 18]\n",
       " [0, 15, 16, 18]\n",
       " [0, 15, 17, 18]"
      ]
     },
     "execution_count": 41,
     "metadata": {},
     "output_type": "execute_result"
    }
   ],
   "source": [
    "after_step1=step_one(scenarios, eighteenN1_outside)\n",
    "after_step2=step_two(all18N_1, total_insideG, after_step1)\n",
    "after_step3=step_three(total_outsideG, after_step2)\n",
    "after_step4=step_four(step4_D, after_step3)\n",
    "\n",
    "save_object(\"18N1_still_life_3+1.jld2\",after_step4)\n",
    "after_step4 #checked! visually"
   ]
  },
  {
   "cell_type": "markdown",
   "metadata": {},
   "source": [
    "# 9. 18N_2 (2)"
   ]
  },
  {
   "cell_type": "code",
   "execution_count": 42,
   "metadata": {},
   "outputs": [
    {
     "data": {
      "text/plain": [
       "816-element Vector{Vector{Int64}}:\n",
       " [0, 1, 2, 3]\n",
       " [0, 1, 2, 4]\n",
       " [0, 1, 2, 5]\n",
       " [0, 1, 2, 6]\n",
       " [0, 1, 2, 7]\n",
       " [0, 1, 2, 8]\n",
       " [0, 1, 2, 9]\n",
       " [0, 1, 2, 10]\n",
       " [0, 1, 2, 11]\n",
       " [0, 1, 2, 12]\n",
       " [0, 1, 2, 13]\n",
       " [0, 1, 2, 14]\n",
       " [0, 1, 2, 15]\n",
       " ⋮\n",
       " [0, 13, 16, 18]\n",
       " [0, 13, 17, 18]\n",
       " [0, 14, 15, 16]\n",
       " [0, 14, 15, 17]\n",
       " [0, 14, 15, 18]\n",
       " [0, 14, 16, 17]\n",
       " [0, 14, 16, 18]\n",
       " [0, 14, 17, 18]\n",
       " [0, 15, 16, 17]\n",
       " [0, 15, 16, 18]\n",
       " [0, 15, 17, 18]\n",
       " [0, 16, 17, 18]"
      ]
     },
     "execution_count": 42,
     "metadata": {},
     "output_type": "execute_result"
    }
   ],
   "source": [
    "scenarios=all_configuration(18)"
   ]
  },
  {
   "cell_type": "code",
   "execution_count": 43,
   "metadata": {},
   "outputs": [
    {
     "data": {
      "text/plain": [
       "Dict{Int64, Vector{Vector{Int64}}} with 3 entries:\n",
       "  2 => [[1, 2, 3, 4, 5, 6, 7, 8], [10, 11, 12, 13], [14, 15, 16, 17, 18, 0]]\n",
       "  3 => [[9, 10, 11, 12], [1, 14, 15, 16, 17, 18], [2, 3, 4, 5, 6, 7, 8, 0]]\n",
       "  1 => [[2, 3, 4, 5, 6, 7, 8, 9], [13, 14, 15, 16, 17, 18], [10, 11, 12, 0]]"
      ]
     },
     "execution_count": 43,
     "metadata": {},
     "output_type": "execute_result"
    }
   ],
   "source": [
    "#Lists\n",
    "all18N=[1,2,3,4,5,6,7,8,9,10,11,12,13,14,15,16,17,18, 0]\n",
    "#configuration that share outside neighbor\n",
    "eighteenN_outside=[[1,2,3],[1,2,18],[1,3,18],[2,3,18],[2,3,4],[3,4,5],[4,5,6],[5,6,7],[6,7,8],[7,8,9],[7,8,10],[7,9,10],[8,9,10],[8,9,11],[8,10,11],[9,10,11],[10,11,12],[11,12,13],[11,12,14],[11,13,14],[12,13,14],[12,13,15],[12,14,15],[13,14,15],[14,15,16],[15,16,17],[16,17,18],[1,2,17],[1,17,18],[2,17,18]]\n",
    "\n",
    "#inside vertex group #this should be changed!! it is inside vertex group, naming is wrong, code is right\n",
    "i_1 = [0,1,2,3,4,5,6,7,8,9]\n",
    "i_2=[0,9,10,11,12,13]\n",
    "i_3=[0,1,13,14,15,16,17,18]\n",
    "total_insideG=[i_1, i_2, i_3]\n",
    "\n",
    "\n",
    "#outside vertex group\n",
    "o_1=[1,2,18]\n",
    "o_2=[8,9,10]\n",
    "o_3=[12,13,14]\n",
    "#i_4=[6,7,8]\n",
    "total_outsideG=[o_1, o_2, o_3]\n",
    "\n",
    "#each tile's neighbor as a set\n",
    "one=union(o_1,i_1,i_3)\n",
    "two=union(o_1,i_1)\n",
    "three=i_1\n",
    "four=i_1\n",
    "five=i_1\n",
    "six=i_1\n",
    "seven=i_1\n",
    "eight=union(o_2,i_1)\n",
    "nine=union(o_2,i_1,i_2)\n",
    "ten=union(o_2,i_2)\n",
    "eleven=i_2\n",
    "twelve=union(o_3,i_2)\n",
    "thirteen=union(o_3,i_2,i_3)\n",
    "fourteen=union(o_3,i_3)\n",
    "fifteen=i_3\n",
    "sixteen=i_3\n",
    "seventeen=i_3\n",
    "eighteen=union(i_3,o_1)\n",
    "\n",
    "one=deleteat!(sort(one),1);two=deleteat!(sort(two),1);three=deleteat!(sort(three),1);four=deleteat!(sort(four),1);\n",
    "five=deleteat!(sort(five),1);six=deleteat!(sort(six),1);seven=deleteat!(sort(seven),1);eight=deleteat!(sort(eight),1);\n",
    "nine=deleteat!(sort(nine),1);ten=deleteat!(sort(ten),1);eleven=deleteat!(sort(eleven),1);twelve=deleteat!(sort(twelve),1);\n",
    "thirteen=deleteat!(sort(thirteen),1);fourteen=deleteat!(sort(fourteen),1);\n",
    "fifteen=deleteat!(sort(fifteen),1);sixteen=deleteat!(sort(sixteen),1);\n",
    "seventeen=deleteat!(sort(seventeen),1);eighteen=deleteat!(sort(eighteen),1)\n",
    "\n",
    "\n",
    "#not group\n",
    "not_one=setdiff(all18N, one)\n",
    "not_two=setdiff(all18N, two)\n",
    "not_three=setdiff(all18N, three)\n",
    "not_four=setdiff(all18N, four)\n",
    "not_five=setdiff(all18N, five)\n",
    "not_six=setdiff(all18N, six)\n",
    "not_seven=setdiff(all18N, seven)\n",
    "not_eight=setdiff(all18N, eight)\n",
    "not_nine=setdiff(all18N, nine)\n",
    "not_ten=setdiff(all18N, ten)\n",
    "not_eleven=setdiff(all18N, eleven)\n",
    "not_twelve=setdiff(all18N, twelve)\n",
    "not_thirteen=setdiff(all18N, thirteen)\n",
    "not_fourteen=setdiff(all18N, fourteen)\n",
    "not_fifteen=setdiff(all18N, fifteen)\n",
    "not_sixteen=setdiff(all18N, sixteen)\n",
    "not_seventeen=setdiff(all18N, seventeen)\n",
    "not_eighteen=setdiff(all18N, eighteen)\n",
    "\n",
    "num_to_string=Dict(1 => one, 2 => two, 3 => three, 4 => four, 5=> five, 6=>six, 7=>seven, 8=>eight, 9=>nine, 10=>ten, 11=>eleven, 12=>twelve, 13=>thirteen, 14=>fourteen, 15=>fifteen, 16=>sixteen, 17=>seventeen, 18=>eighteen)\n",
    "num_to_string_not=Dict(1 => not_one, 2 => not_two, 3 => not_three, 4 => not_four, 5=> not_five, 6=>not_six, 7=>not_seven, 8=>not_eight, 9=>not_nine, 10=>not_ten, 11=>not_eleven, 12=>not_twelve, 13=>not_thirteen, 14=>not_fourteen, 15=>not_fifteen, 16=>not_sixteen, 17=>not_seventeen, 18=>not_eighteen)\n",
    "\n",
    "#three tiles that are memeber of two inside vertex groups\n",
    "one_group1=[2,3,4,5,6,7,8,9]\n",
    "one_group2=[13,14,15,16,17,18]\n",
    "not_one\n",
    "\n",
    "nine_group1=[1,2,3,4,5,6,7,8]\n",
    "nine_group2=[10,11,12,13]\n",
    "not_nine\n",
    "\n",
    "thirteen_group1=[9,10,11,12]\n",
    "thirteen_group2=[1,14,15,16,17,18]\n",
    "not_thirteen\n",
    "step4_D=Dict(1=>[one_group1,one_group2,not_one], 2=>[nine_group1,nine_group2,not_nine], 3=>[thirteen_group1, thirteen_group2, not_thirteen])"
   ]
  },
  {
   "cell_type": "code",
   "execution_count": 44,
   "metadata": {},
   "outputs": [
    {
     "data": {
      "text/plain": [
       "81-element Vector{Vector{Int64}}:\n",
       " [0, 1, 3, 4]\n",
       " [0, 1, 3, 5]\n",
       " [0, 1, 3, 6]\n",
       " [0, 1, 3, 7]\n",
       " [0, 1, 3, 8]\n",
       " [0, 1, 4, 5]\n",
       " [0, 1, 4, 6]\n",
       " [0, 1, 4, 7]\n",
       " [0, 1, 4, 8]\n",
       " [0, 1, 5, 6]\n",
       " [0, 1, 5, 7]\n",
       " [0, 1, 5, 8]\n",
       " [0, 1, 6, 7]\n",
       " ⋮\n",
       " [0, 13, 15, 17]\n",
       " [0, 13, 15, 18]\n",
       " [0, 13, 16, 17]\n",
       " [0, 13, 16, 18]\n",
       " [0, 13, 17, 18]\n",
       " [0, 14, 15, 17]\n",
       " [0, 14, 15, 18]\n",
       " [0, 14, 16, 17]\n",
       " [0, 14, 16, 18]\n",
       " [0, 14, 17, 18]\n",
       " [0, 15, 16, 18]\n",
       " [0, 15, 17, 18]"
      ]
     },
     "execution_count": 44,
     "metadata": {},
     "output_type": "execute_result"
    }
   ],
   "source": [
    "after_step1=step_one(scenarios, eighteenN_outside)\n",
    "after_step2=step_two(all18N, total_insideG, after_step1)\n",
    "after_step3=step_three(total_outsideG, after_step2)\n",
    "after_step4=step_four(step4_D, after_step3)\n",
    "after_step4 #checked! visually"
   ]
  },
  {
   "cell_type": "code",
   "execution_count": 45,
   "metadata": {},
   "outputs": [
    {
     "data": {
      "text/plain": [
       "81-element Vector{Vector{Int64}}:\n",
       " [0, 1, 3, 4]\n",
       " [0, 1, 3, 5]\n",
       " [0, 1, 3, 6]\n",
       " [0, 1, 3, 7]\n",
       " [0, 1, 3, 8]\n",
       " [0, 1, 4, 5]\n",
       " [0, 1, 4, 6]\n",
       " [0, 1, 4, 7]\n",
       " [0, 1, 4, 8]\n",
       " [0, 1, 5, 6]\n",
       " [0, 1, 5, 7]\n",
       " [0, 1, 5, 8]\n",
       " [0, 1, 6, 7]\n",
       " ⋮\n",
       " [0, 13, 15, 17]\n",
       " [0, 13, 15, 18]\n",
       " [0, 13, 16, 17]\n",
       " [0, 13, 16, 18]\n",
       " [0, 13, 17, 18]\n",
       " [0, 14, 15, 17]\n",
       " [0, 14, 15, 18]\n",
       " [0, 14, 16, 17]\n",
       " [0, 14, 16, 18]\n",
       " [0, 14, 17, 18]\n",
       " [0, 15, 16, 18]\n",
       " [0, 15, 17, 18]"
      ]
     },
     "execution_count": 45,
     "metadata": {},
     "output_type": "execute_result"
    }
   ],
   "source": [
    "still_life_to_check=after_step4"
   ]
  },
  {
   "cell_type": "code",
   "execution_count": 46,
   "metadata": {},
   "outputs": [
    {
     "data": {
      "text/plain": [
       "81"
      ]
     },
     "execution_count": 46,
     "metadata": {},
     "output_type": "execute_result"
    }
   ],
   "source": [
    "compare1=[[0,1,3,4],[0,3,4,6],[0,3,4,9],[0,3,4,8],[0,3,4,7],[0,1,4,5],[0,1,4,6],[0,1,4,8],[0,1,4,7],[0,2,4,5]]\n",
    "compare2=[[0,2,4,6],[0,2,4,9],[0,2,4,8],[0,2,4,7],[0,4,5,9],[0,4,5,8],[0,4,5,7],[0,4,6,8],[0,4,6,7],[0,4,7,9]]\n",
    "compare3=[[0,4,6,9],[0,4,7,8],[0,1,3,5],[0,1,3,6],[0,1,3,8],[0,1,3,7],[0,2,3,5],[0,2,3,6],[0,2,3,9],[0,2,3,8]]\n",
    "compare4=[[0,2,3,7],[0,3,5,6],[0,3,5,9],[0,3,5,8],[0,3,5,7],[0,3,6,9],[0,3,6,8],[0,3,6,7],[0,3,7,9],[0,3,7,8]]\n",
    "compare5=[[0,13,15,18],[0,13,16,18],[0,13,17,18],[0,13,15,16],[0,13,15,17],[0,13,16,17],[0,10,11,13],[0,9,11,12],[0,1,14,15],[0,1,15,16]]\n",
    "compare6=[[0,1,15,17],[0,1,14,16],[0,1,14,17],[0,1,16,17],[0,1,5,6],[0,1,5,8],[0,1,5,7],[0,1,6,8],[0,1,6,7],[0,1,7,8]]\n",
    "compare7=[[0,2,5,6],[0,2,5,9],[0,2,5,8],[0,2,5,7],[0,2,6,9],[0,2,6,8],[0,2,6,7],[0,2,7,9],[0,2,7,8],[0,14,15,18]]\n",
    "compare8=[[0,15,16,18],[0,15,17,18],[0,14,16,18],[0,14,17,18],[0,14,15,17],[0,14,16,17],[0,5,6,9],[0,5,6,8],[0,5,7,9],[0,5,7,8],[0,6,7,9]]\n",
    "compareT=sort(union(compare1,compare2,compare3,compare4,compare5,compare6,compare7,compare8))\n",
    "sum(still_life_to_check.∈[compareT]) #identified all"
   ]
  },
  {
   "cell_type": "markdown",
   "metadata": {},
   "source": [
    "# All checked visually\n",
    "# We get all four-cell valid still life when using this algorithm"
   ]
  },
  {
   "cell_type": "code",
   "execution_count": null,
   "metadata": {},
   "outputs": [],
   "source": []
  }
 ],
 "metadata": {
  "kernelspec": {
   "display_name": "Julia 1.7.2",
   "language": "julia",
   "name": "julia-1.7"
  },
  "language_info": {
   "file_extension": ".jl",
   "mimetype": "application/julia",
   "name": "julia",
   "version": "1.7.2"
  }
 },
 "nbformat": 4,
 "nbformat_minor": 4
}
